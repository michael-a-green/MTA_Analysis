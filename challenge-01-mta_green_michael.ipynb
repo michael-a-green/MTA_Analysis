{
 "cells": [
  {
   "cell_type": "markdown",
   "metadata": {},
   "source": [
    "* Topic:        Challenge Set 1\n",
    "* Subject:      Explore MTA turnstile data\n",
    "* Date:         09/26/2020\n",
    "* Name:         Michael Green ( malexgreen@gmail.com )\n",
    "* Worked with:  Julian Cheng, Lucy Abbot, Solomon Klein"
   ]
  },
  {
   "cell_type": "code",
   "execution_count": 1,
   "metadata": {
    "execution": {
     "iopub.execute_input": "2021-01-08T19:15:14.115510Z",
     "iopub.status.busy": "2021-01-08T19:15:14.115272Z",
     "iopub.status.idle": "2021-01-08T19:15:14.471897Z",
     "shell.execute_reply": "2021-01-08T19:15:14.471293Z",
     "shell.execute_reply.started": "2021-01-08T19:15:14.115451Z"
    }
   },
   "outputs": [],
   "source": [
    "import pandas as pd\n",
    "import numpy as np\n",
    "\n",
    "#importing this as I will need\n",
    "#to generate date datatypes\n",
    "import datetime\n"
   ]
  },
  {
   "cell_type": "markdown",
   "metadata": {},
   "source": [
    "Some notes about pandas functions\n",
    "\n",
    "`pandas.DataFrame.sort_values(by=[col1,col2,..,colN])`will sort the data frame along the columns (col1, col2,...,colN) given. \n",
    "\n",
    "See [here](https://pandas.pydata.org/docs/reference/api/pandas.DataFrame.sort_values.html?highlight=sort_values#pandas.DataFrame.sort_values) for more details\n",
    "\n",
    "`pandas.DataFrame.drop_duplicates(subset=[col1,col2,...,colN])` will remove all rows with duplicate values in col1, col2,...,colN. \n",
    "\n",
    "See [here](https://pandas.pydata.org/docs/reference/api/pandas.DataFrame.drop_duplicates.html?highlight=drop_duplicates#pandas.DataFrame.drop_duplicates) for more details.\n"
   ]
  },
  {
   "cell_type": "markdown",
   "metadata": {},
   "source": [
    "# Challenge 1"
   ]
  },
  {
   "cell_type": "code",
   "execution_count": 2,
   "metadata": {
    "execution": {
     "iopub.execute_input": "2021-01-08T19:15:14.473291Z",
     "iopub.status.busy": "2021-01-08T19:15:14.473130Z",
     "iopub.status.idle": "2021-01-08T19:15:14.478183Z",
     "shell.execute_reply": "2021-01-08T19:15:14.477522Z",
     "shell.execute_reply.started": "2021-01-08T19:15:14.473273Z"
    }
   },
   "outputs": [
    {
     "name": "stdout",
     "output_type": "stream",
     "text": [
      "Going to load 53 TXT Files into separate dfs\n"
     ]
    }
   ],
   "source": [
    "#Importing CSV MTA File\n",
    "\n",
    "raw_csv_read_df_list = []\n",
    "\n",
    "#using agreed upon set of CSV files in this google doc\n",
    "#https://docs.google.com/document/d/1cjXIWAZjWP8KMultOzcyQ4vc6-9tzu3A9N6552qh1cU/edit\n",
    "\n",
    "#got these files from here: http://web.mta.info/developers/turnstile.html\n",
    "list_of_csv_URLs = [\"http://web.mta.info/developers/data/nyct/turnstile/turnstile_190921.txt\", \n",
    "                    \"http://web.mta.info/developers/data/nyct/turnstile/turnstile_190914.txt\", \n",
    "                    \"http://web.mta.info/developers/data/nyct/turnstile/turnstile_190907.txt\", \n",
    "                    \"http://web.mta.info/developers/data/nyct/turnstile/turnstile_190831.txt\",\n",
    "                    \"http://web.mta.info/developers/data/nyct/turnstile/turnstile_190824.txt\",\n",
    "                    \"http://web.mta.info/developers/data/nyct/turnstile/turnstile_190817.txt\",\n",
    "                    \"http://web.mta.info/developers/data/nyct/turnstile/turnstile_190810.txt\",\n",
    "                    \"http://web.mta.info/developers/data/nyct/turnstile/turnstile_190803.txt\",\n",
    "                    \"http://web.mta.info/developers/data/nyct/turnstile/turnstile_190727.txt\",\n",
    "                    \"http://web.mta.info/developers/data/nyct/turnstile/turnstile_190727.txt\",\n",
    "                    \"http://web.mta.info/developers/data/nyct/turnstile/turnstile_190713.txt\",\n",
    "                    \"http://web.mta.info/developers/data/nyct/turnstile/turnstile_190706.txt\",\n",
    "                    \"http://web.mta.info/developers/data/nyct/turnstile/turnstile_190629.txt\",\n",
    "                    \"http://web.mta.info/developers/data/nyct/turnstile/turnstile_190622.txt\",\n",
    "                    \"http://web.mta.info/developers/data/nyct/turnstile/turnstile_190615.txt\",\n",
    "                    \"http://web.mta.info/developers/data/nyct/turnstile/turnstile_191228.txt\",\n",
    "                    \"http://web.mta.info/developers/data/nyct/turnstile/turnstile_191221.txt\",\n",
    "                    \"http://web.mta.info/developers/data/nyct/turnstile/turnstile_191214.txt\",\n",
    "                    \"http://web.mta.info/developers/data/nyct/turnstile/turnstile_191207.txt\",\n",
    "                    \"http://web.mta.info/developers/data/nyct/turnstile/turnstile_191130.txt\",\n",
    "                    \"http://web.mta.info/developers/data/nyct/turnstile/turnstile_191123.txt\",\n",
    "                    \"http://web.mta.info/developers/data/nyct/turnstile/turnstile_191116.txt\",\n",
    "                    \"http://web.mta.info/developers/data/nyct/turnstile/turnstile_191109.txt\",\n",
    "                    \"http://web.mta.info/developers/data/nyct/turnstile/turnstile_191102.txt\",\n",
    "                    \"http://web.mta.info/developers/data/nyct/turnstile/turnstile_191026.txt\",\n",
    "                    \"http://web.mta.info/developers/data/nyct/turnstile/turnstile_191019.txt\",\n",
    "                    \"http://web.mta.info/developers/data/nyct/turnstile/turnstile_191012.txt\",\n",
    "                    \"http://web.mta.info/developers/data/nyct/turnstile/turnstile_191005.txt\",\n",
    "                    \"http://web.mta.info/developers/data/nyct/turnstile/turnstile_190928.txt\",\n",
    "                    \"http://web.mta.info/developers/data/nyct/turnstile/turnstile_190615.txt\",\n",
    "                    \"http://web.mta.info/developers/data/nyct/turnstile/turnstile_190608.txt\",\n",
    "                    \"http://web.mta.info/developers/data/nyct/turnstile/turnstile_190601.txt\",\n",
    "                    \"http://web.mta.info/developers/data/nyct/turnstile/turnstile_190525.txt\",\n",
    "                    \"http://web.mta.info/developers/data/nyct/turnstile/turnstile_190518.txt\",\n",
    "                    \"http://web.mta.info/developers/data/nyct/turnstile/turnstile_190511.txt\",\n",
    "                    \"http://web.mta.info/developers/data/nyct/turnstile/turnstile_190504.txt\",\n",
    "                    \"http://web.mta.info/developers/data/nyct/turnstile/turnstile_190427.txt\",\n",
    "                    \"http://web.mta.info/developers/data/nyct/turnstile/turnstile_190420.txt\",\n",
    "                    \"http://web.mta.info/developers/data/nyct/turnstile/turnstile_190413.txt\",\n",
    "                    \"http://web.mta.info/developers/data/nyct/turnstile/turnstile_190406.txt\",\n",
    "                    \"http://web.mta.info/developers/data/nyct/turnstile/turnstile_190330.txt\",\n",
    "                    \"http://web.mta.info/developers/data/nyct/turnstile/turnstile_190323.txt\",\n",
    "                    \"http://web.mta.info/developers/data/nyct/turnstile/turnstile_190316.txt\",\n",
    "                    \"http://web.mta.info/developers/data/nyct/turnstile/turnstile_190309.txt\",\n",
    "                    \"http://web.mta.info/developers/data/nyct/turnstile/turnstile_190302.txt\",\n",
    "                    \"http://web.mta.info/developers/data/nyct/turnstile/turnstile_190223.txt\",\n",
    "                    \"http://web.mta.info/developers/data/nyct/turnstile/turnstile_190216.txt\",\n",
    "                    \"http://web.mta.info/developers/data/nyct/turnstile/turnstile_190209.txt\",\n",
    "                    \"http://web.mta.info/developers/data/nyct/turnstile/turnstile_190202.txt\",\n",
    "                    \"http://web.mta.info/developers/data/nyct/turnstile/turnstile_190126.txt\",\n",
    "                    \"http://web.mta.info/developers/data/nyct/turnstile/turnstile_190119.txt\",\n",
    "                    \"http://web.mta.info/developers/data/nyct/turnstile/turnstile_190112.txt\",\n",
    "                    \"http://web.mta.info/developers/data/nyct/turnstile/turnstile_190105.txt\"\n",
    "\n",
    "                   ]\n",
    "print(\"Going to load {} TXT Files into separate dfs\".format(len(list_of_csv_URLs)))"
   ]
  },
  {
   "cell_type": "code",
   "execution_count": 3,
   "metadata": {
    "execution": {
     "iopub.execute_input": "2021-01-08T19:15:14.480125Z",
     "iopub.status.busy": "2021-01-08T19:15:14.479963Z",
     "iopub.status.idle": "2021-01-08T19:17:46.281715Z",
     "shell.execute_reply": "2021-01-08T19:17:46.280342Z",
     "shell.execute_reply.started": "2021-01-08T19:15:14.480107Z"
    }
   },
   "outputs": [],
   "source": [
    "#TODO: Use a list comprehension because it's faster\n",
    "\n",
    "raw_csv_read_df_list = [pd.read_csv(csv_file) for csv_file in list_of_csv_URLs]\n",
    "\n"
   ]
  },
  {
   "cell_type": "code",
   "execution_count": 4,
   "metadata": {
    "execution": {
     "iopub.execute_input": "2021-01-08T19:17:46.283993Z",
     "iopub.status.busy": "2021-01-08T19:17:46.283858Z",
     "iopub.status.idle": "2021-01-08T19:17:46.979420Z",
     "shell.execute_reply": "2021-01-08T19:17:46.978912Z",
     "shell.execute_reply.started": "2021-01-08T19:17:46.283977Z"
    }
   },
   "outputs": [],
   "source": [
    "concat_df = pd.concat(raw_csv_read_df_list)"
   ]
  },
  {
   "cell_type": "markdown",
   "metadata": {},
   "source": [
    "Examining the contents to better understand the data set"
   ]
  },
  {
   "cell_type": "code",
   "execution_count": 5,
   "metadata": {
    "execution": {
     "iopub.execute_input": "2021-01-08T19:17:46.980552Z",
     "iopub.status.busy": "2021-01-08T19:17:46.980389Z",
     "iopub.status.idle": "2021-01-08T19:17:46.997162Z",
     "shell.execute_reply": "2021-01-08T19:17:46.996573Z",
     "shell.execute_reply.started": "2021-01-08T19:17:46.980533Z"
    }
   },
   "outputs": [
    {
     "data": {
      "text/html": [
       "<div>\n",
       "<style scoped>\n",
       "    .dataframe tbody tr th:only-of-type {\n",
       "        vertical-align: middle;\n",
       "    }\n",
       "\n",
       "    .dataframe tbody tr th {\n",
       "        vertical-align: top;\n",
       "    }\n",
       "\n",
       "    .dataframe thead th {\n",
       "        text-align: right;\n",
       "    }\n",
       "</style>\n",
       "<table border=\"1\" class=\"dataframe\">\n",
       "  <thead>\n",
       "    <tr style=\"text-align: right;\">\n",
       "      <th></th>\n",
       "      <th>C/A</th>\n",
       "      <th>UNIT</th>\n",
       "      <th>SCP</th>\n",
       "      <th>STATION</th>\n",
       "      <th>LINENAME</th>\n",
       "      <th>DIVISION</th>\n",
       "      <th>DATE</th>\n",
       "      <th>TIME</th>\n",
       "      <th>DESC</th>\n",
       "      <th>ENTRIES</th>\n",
       "      <th>EXITS</th>\n",
       "    </tr>\n",
       "  </thead>\n",
       "  <tbody>\n",
       "    <tr>\n",
       "      <th>0</th>\n",
       "      <td>A002</td>\n",
       "      <td>R051</td>\n",
       "      <td>02-00-00</td>\n",
       "      <td>59 ST</td>\n",
       "      <td>NQR456W</td>\n",
       "      <td>BMT</td>\n",
       "      <td>09/14/2019</td>\n",
       "      <td>00:00:00</td>\n",
       "      <td>REGULAR</td>\n",
       "      <td>7198818</td>\n",
       "      <td>2438323</td>\n",
       "    </tr>\n",
       "    <tr>\n",
       "      <th>1</th>\n",
       "      <td>A002</td>\n",
       "      <td>R051</td>\n",
       "      <td>02-00-00</td>\n",
       "      <td>59 ST</td>\n",
       "      <td>NQR456W</td>\n",
       "      <td>BMT</td>\n",
       "      <td>09/14/2019</td>\n",
       "      <td>04:00:00</td>\n",
       "      <td>REGULAR</td>\n",
       "      <td>7198834</td>\n",
       "      <td>2438325</td>\n",
       "    </tr>\n",
       "    <tr>\n",
       "      <th>2</th>\n",
       "      <td>A002</td>\n",
       "      <td>R051</td>\n",
       "      <td>02-00-00</td>\n",
       "      <td>59 ST</td>\n",
       "      <td>NQR456W</td>\n",
       "      <td>BMT</td>\n",
       "      <td>09/14/2019</td>\n",
       "      <td>08:00:00</td>\n",
       "      <td>REGULAR</td>\n",
       "      <td>7198847</td>\n",
       "      <td>2438354</td>\n",
       "    </tr>\n",
       "    <tr>\n",
       "      <th>3</th>\n",
       "      <td>A002</td>\n",
       "      <td>R051</td>\n",
       "      <td>02-00-00</td>\n",
       "      <td>59 ST</td>\n",
       "      <td>NQR456W</td>\n",
       "      <td>BMT</td>\n",
       "      <td>09/14/2019</td>\n",
       "      <td>12:00:00</td>\n",
       "      <td>REGULAR</td>\n",
       "      <td>7198929</td>\n",
       "      <td>2438428</td>\n",
       "    </tr>\n",
       "    <tr>\n",
       "      <th>4</th>\n",
       "      <td>A002</td>\n",
       "      <td>R051</td>\n",
       "      <td>02-00-00</td>\n",
       "      <td>59 ST</td>\n",
       "      <td>NQR456W</td>\n",
       "      <td>BMT</td>\n",
       "      <td>09/14/2019</td>\n",
       "      <td>16:00:00</td>\n",
       "      <td>REGULAR</td>\n",
       "      <td>7199125</td>\n",
       "      <td>2438483</td>\n",
       "    </tr>\n",
       "  </tbody>\n",
       "</table>\n",
       "</div>"
      ],
      "text/plain": [
       "    C/A  UNIT       SCP STATION LINENAME DIVISION        DATE      TIME  \\\n",
       "0  A002  R051  02-00-00   59 ST  NQR456W      BMT  09/14/2019  00:00:00   \n",
       "1  A002  R051  02-00-00   59 ST  NQR456W      BMT  09/14/2019  04:00:00   \n",
       "2  A002  R051  02-00-00   59 ST  NQR456W      BMT  09/14/2019  08:00:00   \n",
       "3  A002  R051  02-00-00   59 ST  NQR456W      BMT  09/14/2019  12:00:00   \n",
       "4  A002  R051  02-00-00   59 ST  NQR456W      BMT  09/14/2019  16:00:00   \n",
       "\n",
       "      DESC  ENTRIES  \\\n",
       "0  REGULAR  7198818   \n",
       "1  REGULAR  7198834   \n",
       "2  REGULAR  7198847   \n",
       "3  REGULAR  7198929   \n",
       "4  REGULAR  7199125   \n",
       "\n",
       "   EXITS                                                                 \n",
       "0                                            2438323                     \n",
       "1                                            2438325                     \n",
       "2                                            2438354                     \n",
       "3                                            2438428                     \n",
       "4                                            2438483                     "
      ]
     },
     "execution_count": 5,
     "metadata": {},
     "output_type": "execute_result"
    }
   ],
   "source": [
    "concat_df.head()"
   ]
  },
  {
   "cell_type": "code",
   "execution_count": 6,
   "metadata": {
    "execution": {
     "iopub.execute_input": "2021-01-08T19:17:46.998220Z",
     "iopub.status.busy": "2021-01-08T19:17:46.998045Z",
     "iopub.status.idle": "2021-01-08T19:17:47.001406Z",
     "shell.execute_reply": "2021-01-08T19:17:47.000949Z",
     "shell.execute_reply.started": "2021-01-08T19:17:46.998201Z"
    }
   },
   "outputs": [
    {
     "data": {
      "text/plain": [
       "Index(['C/A', 'UNIT', 'SCP', 'STATION', 'LINENAME', 'DIVISION', 'DATE', 'TIME',\n",
       "       'DESC', 'ENTRIES',\n",
       "       'EXITS                                                               '],\n",
       "      dtype='object')"
      ]
     },
     "execution_count": 6,
     "metadata": {},
     "output_type": "execute_result"
    }
   ],
   "source": [
    "concat_df.columns"
   ]
  },
  {
   "cell_type": "markdown",
   "metadata": {},
   "source": [
    "The name of the exits column has extra spaces at the end. So will strip those out"
   ]
  },
  {
   "cell_type": "code",
   "execution_count": 7,
   "metadata": {
    "execution": {
     "iopub.execute_input": "2021-01-08T19:17:47.002347Z",
     "iopub.status.busy": "2021-01-08T19:17:47.002210Z",
     "iopub.status.idle": "2021-01-08T19:17:47.009690Z",
     "shell.execute_reply": "2021-01-08T19:17:47.008322Z",
     "shell.execute_reply.started": "2021-01-08T19:17:47.002330Z"
    }
   },
   "outputs": [],
   "source": [
    "concat_df.columns = [column.strip() for column in concat_df.columns]"
   ]
  },
  {
   "cell_type": "code",
   "execution_count": 8,
   "metadata": {
    "execution": {
     "iopub.execute_input": "2021-01-08T19:17:47.010955Z",
     "iopub.status.busy": "2021-01-08T19:17:47.010741Z",
     "iopub.status.idle": "2021-01-08T19:17:47.014168Z",
     "shell.execute_reply": "2021-01-08T19:17:47.013629Z",
     "shell.execute_reply.started": "2021-01-08T19:17:47.010936Z"
    }
   },
   "outputs": [
    {
     "data": {
      "text/plain": [
       "Index(['C/A', 'UNIT', 'SCP', 'STATION', 'LINENAME', 'DIVISION', 'DATE', 'TIME',\n",
       "       'DESC', 'ENTRIES', 'EXITS'],\n",
       "      dtype='object')"
      ]
     },
     "execution_count": 8,
     "metadata": {},
     "output_type": "execute_result"
    }
   ],
   "source": [
    "concat_df.columns"
   ]
  },
  {
   "cell_type": "code",
   "execution_count": 9,
   "metadata": {
    "execution": {
     "iopub.execute_input": "2021-01-08T19:17:47.015176Z",
     "iopub.status.busy": "2021-01-08T19:17:47.015005Z",
     "iopub.status.idle": "2021-01-08T19:17:47.017687Z",
     "shell.execute_reply": "2021-01-08T19:17:47.017186Z",
     "shell.execute_reply.started": "2021-01-08T19:17:47.015154Z"
    }
   },
   "outputs": [
    {
     "name": "stdout",
     "output_type": "stream",
     "text": [
      "shape of dataframe is (10874353, 11)\n"
     ]
    }
   ],
   "source": [
    "print(\"shape of dataframe is {}\".format(concat_df.shape))"
   ]
  },
  {
   "cell_type": "code",
   "execution_count": 10,
   "metadata": {
    "execution": {
     "iopub.execute_input": "2021-01-08T19:17:47.018806Z",
     "iopub.status.busy": "2021-01-08T19:17:47.018667Z",
     "iopub.status.idle": "2021-01-08T19:17:47.757227Z",
     "shell.execute_reply": "2021-01-08T19:17:47.756390Z",
     "shell.execute_reply.started": "2021-01-08T19:17:47.018789Z"
    }
   },
   "outputs": [
    {
     "data": {
      "text/plain": [
       "00-00-00    1030380\n",
       "00-00-01    1021840\n",
       "00-00-02     910976\n",
       "00-00-03     458030\n",
       "00-03-00     382106\n",
       "             ...   \n",
       "02-05-05          1\n",
       "00-10-00          1\n",
       "00-F6-01          1\n",
       "00-55-01          1\n",
       "00-D6-01          1\n",
       "Name: SCP, Length: 234, dtype: int64"
      ]
     },
     "execution_count": 10,
     "metadata": {},
     "output_type": "execute_result"
    }
   ],
   "source": [
    "concat_df[\"SCP\"].value_counts()"
   ]
  },
  {
   "cell_type": "markdown",
   "metadata": {},
   "source": [
    "Getting a feel for the data:"
   ]
  },
  {
   "cell_type": "code",
   "execution_count": 11,
   "metadata": {
    "execution": {
     "iopub.execute_input": "2021-01-08T19:17:47.758409Z",
     "iopub.status.busy": "2021-01-08T19:17:47.758277Z",
     "iopub.status.idle": "2021-01-08T19:17:48.248452Z",
     "shell.execute_reply": "2021-01-08T19:17:48.247914Z",
     "shell.execute_reply.started": "2021-01-08T19:17:47.758393Z"
    }
   },
   "outputs": [
    {
     "data": {
      "text/html": [
       "<div>\n",
       "<style scoped>\n",
       "    .dataframe tbody tr th:only-of-type {\n",
       "        vertical-align: middle;\n",
       "    }\n",
       "\n",
       "    .dataframe tbody tr th {\n",
       "        vertical-align: top;\n",
       "    }\n",
       "\n",
       "    .dataframe thead th {\n",
       "        text-align: right;\n",
       "    }\n",
       "</style>\n",
       "<table border=\"1\" class=\"dataframe\">\n",
       "  <thead>\n",
       "    <tr style=\"text-align: right;\">\n",
       "      <th></th>\n",
       "      <th>ENTRIES</th>\n",
       "      <th>EXITS</th>\n",
       "    </tr>\n",
       "  </thead>\n",
       "  <tbody>\n",
       "    <tr>\n",
       "      <th>count</th>\n",
       "      <td>1.087435e+07</td>\n",
       "      <td>1.087435e+07</td>\n",
       "    </tr>\n",
       "    <tr>\n",
       "      <th>mean</th>\n",
       "      <td>4.154313e+07</td>\n",
       "      <td>3.414393e+07</td>\n",
       "    </tr>\n",
       "    <tr>\n",
       "      <th>std</th>\n",
       "      <td>2.127486e+08</td>\n",
       "      <td>1.962123e+08</td>\n",
       "    </tr>\n",
       "    <tr>\n",
       "      <th>min</th>\n",
       "      <td>0.000000e+00</td>\n",
       "      <td>0.000000e+00</td>\n",
       "    </tr>\n",
       "    <tr>\n",
       "      <th>25%</th>\n",
       "      <td>3.348110e+05</td>\n",
       "      <td>1.409970e+05</td>\n",
       "    </tr>\n",
       "    <tr>\n",
       "      <th>50%</th>\n",
       "      <td>2.153460e+06</td>\n",
       "      <td>1.244772e+06</td>\n",
       "    </tr>\n",
       "    <tr>\n",
       "      <th>75%</th>\n",
       "      <td>6.734404e+06</td>\n",
       "      <td>4.611480e+06</td>\n",
       "    </tr>\n",
       "    <tr>\n",
       "      <th>max</th>\n",
       "      <td>2.129552e+09</td>\n",
       "      <td>2.124342e+09</td>\n",
       "    </tr>\n",
       "  </tbody>\n",
       "</table>\n",
       "</div>"
      ],
      "text/plain": [
       "            ENTRIES         EXITS\n",
       "count  1.087435e+07  1.087435e+07\n",
       "mean   4.154313e+07  3.414393e+07\n",
       "std    2.127486e+08  1.962123e+08\n",
       "min    0.000000e+00  0.000000e+00\n",
       "25%    3.348110e+05  1.409970e+05\n",
       "50%    2.153460e+06  1.244772e+06\n",
       "75%    6.734404e+06  4.611480e+06\n",
       "max    2.129552e+09  2.124342e+09"
      ]
     },
     "execution_count": 11,
     "metadata": {},
     "output_type": "execute_result"
    }
   ],
   "source": [
    "concat_df.describe()"
   ]
  },
  {
   "cell_type": "markdown",
   "metadata": {},
   "source": [
    "# Challenge 2\n",
    "\n",
    "* Let's turn this into a time series.\n",
    "* Our pandas dataframe has columns called `Date` and `Time` (what datatype did pandas assign to these columns on import?), however in python and pandas we can convert date and time information to datetime objects, which allow us to do time-based operations\n",
    "* Using either [`pd.to_datetime`](https://pandas.pydata.org/pandas-docs/stable/reference/api/pandas.to_datetime.html) in pandas or the [python datetime library](https://docs.python.org/2/library/datetime.html), combine the Date and Time columns into a single new column of the datetime datatype"
   ]
  },
  {
   "cell_type": "code",
   "execution_count": 12,
   "metadata": {
    "execution": {
     "iopub.execute_input": "2021-01-08T19:17:48.249569Z",
     "iopub.status.busy": "2021-01-08T19:17:48.249403Z",
     "iopub.status.idle": "2021-01-08T19:17:48.252953Z",
     "shell.execute_reply": "2021-01-08T19:17:48.252394Z",
     "shell.execute_reply.started": "2021-01-08T19:17:48.249550Z"
    }
   },
   "outputs": [
    {
     "data": {
      "text/plain": [
       "str"
      ]
     },
     "execution_count": 12,
     "metadata": {},
     "output_type": "execute_result"
    }
   ],
   "source": [
    "type(concat_df.iloc[0,6])"
   ]
  },
  {
   "cell_type": "code",
   "execution_count": 13,
   "metadata": {
    "execution": {
     "iopub.execute_input": "2021-01-08T19:17:48.254056Z",
     "iopub.status.busy": "2021-01-08T19:17:48.253895Z",
     "iopub.status.idle": "2021-01-08T19:20:02.345744Z",
     "shell.execute_reply": "2021-01-08T19:20:02.344860Z",
     "shell.execute_reply.started": "2021-01-08T19:17:48.254037Z"
    }
   },
   "outputs": [],
   "source": [
    "concat_df[\"DATE_TIME\"] = pd.to_datetime(concat_df[\"DATE\"]+\" \"+concat_df[\"TIME\"])\n",
    "\n",
    "#also just want a column that just has the date but as a Timestamp object\n",
    "concat_df[\"DATETIME_DATE\"] = concat_df.apply(lambda row: row[\"DATE_TIME\"].date(), axis=1)"
   ]
  },
  {
   "cell_type": "code",
   "execution_count": 14,
   "metadata": {
    "execution": {
     "iopub.execute_input": "2021-01-08T19:20:02.347173Z",
     "iopub.status.busy": "2021-01-08T19:20:02.346861Z",
     "iopub.status.idle": "2021-01-08T19:20:02.354795Z",
     "shell.execute_reply": "2021-01-08T19:20:02.354106Z",
     "shell.execute_reply.started": "2021-01-08T19:20:02.347144Z"
    }
   },
   "outputs": [
    {
     "name": "stdout",
     "output_type": "stream",
     "text": [
      "<class 'pandas.core.frame.DataFrame'>\n",
      "Int64Index: 10874353 entries, 0 to 201602\n",
      "Data columns (total 13 columns):\n",
      " #   Column         Dtype         \n",
      "---  ------         -----         \n",
      " 0   C/A            object        \n",
      " 1   UNIT           object        \n",
      " 2   SCP            object        \n",
      " 3   STATION        object        \n",
      " 4   LINENAME       object        \n",
      " 5   DIVISION       object        \n",
      " 6   DATE           object        \n",
      " 7   TIME           object        \n",
      " 8   DESC           object        \n",
      " 9   ENTRIES        int64         \n",
      " 10  EXITS          int64         \n",
      " 11  DATE_TIME      datetime64[ns]\n",
      " 12  DATETIME_DATE  object        \n",
      "dtypes: datetime64[ns](1), int64(2), object(10)\n",
      "memory usage: 1.1+ GB\n"
     ]
    }
   ],
   "source": [
    "concat_df.info()"
   ]
  },
  {
   "cell_type": "code",
   "execution_count": 15,
   "metadata": {
    "execution": {
     "iopub.execute_input": "2021-01-08T19:20:02.356194Z",
     "iopub.status.busy": "2021-01-08T19:20:02.356000Z",
     "iopub.status.idle": "2021-01-08T19:20:02.369947Z",
     "shell.execute_reply": "2021-01-08T19:20:02.369304Z",
     "shell.execute_reply.started": "2021-01-08T19:20:02.356172Z"
    }
   },
   "outputs": [
    {
     "data": {
      "text/html": [
       "<div>\n",
       "<style scoped>\n",
       "    .dataframe tbody tr th:only-of-type {\n",
       "        vertical-align: middle;\n",
       "    }\n",
       "\n",
       "    .dataframe tbody tr th {\n",
       "        vertical-align: top;\n",
       "    }\n",
       "\n",
       "    .dataframe thead th {\n",
       "        text-align: right;\n",
       "    }\n",
       "</style>\n",
       "<table border=\"1\" class=\"dataframe\">\n",
       "  <thead>\n",
       "    <tr style=\"text-align: right;\">\n",
       "      <th></th>\n",
       "      <th>C/A</th>\n",
       "      <th>UNIT</th>\n",
       "      <th>SCP</th>\n",
       "      <th>STATION</th>\n",
       "      <th>LINENAME</th>\n",
       "      <th>DIVISION</th>\n",
       "      <th>DATE</th>\n",
       "      <th>TIME</th>\n",
       "      <th>DESC</th>\n",
       "      <th>ENTRIES</th>\n",
       "      <th>EXITS</th>\n",
       "      <th>DATE_TIME</th>\n",
       "      <th>DATETIME_DATE</th>\n",
       "    </tr>\n",
       "  </thead>\n",
       "  <tbody>\n",
       "    <tr>\n",
       "      <th>0</th>\n",
       "      <td>A002</td>\n",
       "      <td>R051</td>\n",
       "      <td>02-00-00</td>\n",
       "      <td>59 ST</td>\n",
       "      <td>NQR456W</td>\n",
       "      <td>BMT</td>\n",
       "      <td>09/14/2019</td>\n",
       "      <td>00:00:00</td>\n",
       "      <td>REGULAR</td>\n",
       "      <td>7198818</td>\n",
       "      <td>2438323</td>\n",
       "      <td>2019-09-14 00:00:00</td>\n",
       "      <td>2019-09-14</td>\n",
       "    </tr>\n",
       "    <tr>\n",
       "      <th>1</th>\n",
       "      <td>A002</td>\n",
       "      <td>R051</td>\n",
       "      <td>02-00-00</td>\n",
       "      <td>59 ST</td>\n",
       "      <td>NQR456W</td>\n",
       "      <td>BMT</td>\n",
       "      <td>09/14/2019</td>\n",
       "      <td>04:00:00</td>\n",
       "      <td>REGULAR</td>\n",
       "      <td>7198834</td>\n",
       "      <td>2438325</td>\n",
       "      <td>2019-09-14 04:00:00</td>\n",
       "      <td>2019-09-14</td>\n",
       "    </tr>\n",
       "    <tr>\n",
       "      <th>2</th>\n",
       "      <td>A002</td>\n",
       "      <td>R051</td>\n",
       "      <td>02-00-00</td>\n",
       "      <td>59 ST</td>\n",
       "      <td>NQR456W</td>\n",
       "      <td>BMT</td>\n",
       "      <td>09/14/2019</td>\n",
       "      <td>08:00:00</td>\n",
       "      <td>REGULAR</td>\n",
       "      <td>7198847</td>\n",
       "      <td>2438354</td>\n",
       "      <td>2019-09-14 08:00:00</td>\n",
       "      <td>2019-09-14</td>\n",
       "    </tr>\n",
       "    <tr>\n",
       "      <th>3</th>\n",
       "      <td>A002</td>\n",
       "      <td>R051</td>\n",
       "      <td>02-00-00</td>\n",
       "      <td>59 ST</td>\n",
       "      <td>NQR456W</td>\n",
       "      <td>BMT</td>\n",
       "      <td>09/14/2019</td>\n",
       "      <td>12:00:00</td>\n",
       "      <td>REGULAR</td>\n",
       "      <td>7198929</td>\n",
       "      <td>2438428</td>\n",
       "      <td>2019-09-14 12:00:00</td>\n",
       "      <td>2019-09-14</td>\n",
       "    </tr>\n",
       "    <tr>\n",
       "      <th>4</th>\n",
       "      <td>A002</td>\n",
       "      <td>R051</td>\n",
       "      <td>02-00-00</td>\n",
       "      <td>59 ST</td>\n",
       "      <td>NQR456W</td>\n",
       "      <td>BMT</td>\n",
       "      <td>09/14/2019</td>\n",
       "      <td>16:00:00</td>\n",
       "      <td>REGULAR</td>\n",
       "      <td>7199125</td>\n",
       "      <td>2438483</td>\n",
       "      <td>2019-09-14 16:00:00</td>\n",
       "      <td>2019-09-14</td>\n",
       "    </tr>\n",
       "  </tbody>\n",
       "</table>\n",
       "</div>"
      ],
      "text/plain": [
       "    C/A  UNIT       SCP STATION LINENAME DIVISION        DATE      TIME  \\\n",
       "0  A002  R051  02-00-00   59 ST  NQR456W      BMT  09/14/2019  00:00:00   \n",
       "1  A002  R051  02-00-00   59 ST  NQR456W      BMT  09/14/2019  04:00:00   \n",
       "2  A002  R051  02-00-00   59 ST  NQR456W      BMT  09/14/2019  08:00:00   \n",
       "3  A002  R051  02-00-00   59 ST  NQR456W      BMT  09/14/2019  12:00:00   \n",
       "4  A002  R051  02-00-00   59 ST  NQR456W      BMT  09/14/2019  16:00:00   \n",
       "\n",
       "      DESC  ENTRIES    EXITS           DATE_TIME DATETIME_DATE  \n",
       "0  REGULAR  7198818  2438323 2019-09-14 00:00:00    2019-09-14  \n",
       "1  REGULAR  7198834  2438325 2019-09-14 04:00:00    2019-09-14  \n",
       "2  REGULAR  7198847  2438354 2019-09-14 08:00:00    2019-09-14  \n",
       "3  REGULAR  7198929  2438428 2019-09-14 12:00:00    2019-09-14  \n",
       "4  REGULAR  7199125  2438483 2019-09-14 16:00:00    2019-09-14  "
      ]
     },
     "execution_count": 15,
     "metadata": {},
     "output_type": "execute_result"
    }
   ],
   "source": [
    "concat_df.head()"
   ]
  },
  {
   "cell_type": "code",
   "execution_count": 16,
   "metadata": {
    "execution": {
     "iopub.execute_input": "2021-01-08T19:20:02.371294Z",
     "iopub.status.busy": "2021-01-08T19:20:02.371099Z",
     "iopub.status.idle": "2021-01-08T19:20:02.375150Z",
     "shell.execute_reply": "2021-01-08T19:20:02.374553Z",
     "shell.execute_reply.started": "2021-01-08T19:20:02.371271Z"
    }
   },
   "outputs": [
    {
     "data": {
      "text/plain": [
       "pandas._libs.tslibs.timestamps.Timestamp"
      ]
     },
     "execution_count": 16,
     "metadata": {},
     "output_type": "execute_result"
    }
   ],
   "source": [
    "#is DATE_TIME a datetime type?\n",
    "type(concat_df.iloc[0,11])"
   ]
  },
  {
   "cell_type": "code",
   "execution_count": 17,
   "metadata": {
    "execution": {
     "iopub.execute_input": "2021-01-08T19:20:02.376423Z",
     "iopub.status.busy": "2021-01-08T19:20:02.376095Z",
     "iopub.status.idle": "2021-01-08T19:20:02.380045Z",
     "shell.execute_reply": "2021-01-08T19:20:02.379534Z",
     "shell.execute_reply.started": "2021-01-08T19:20:02.376397Z"
    }
   },
   "outputs": [
    {
     "data": {
      "text/plain": [
       "datetime.date"
      ]
     },
     "execution_count": 17,
     "metadata": {},
     "output_type": "execute_result"
    }
   ],
   "source": [
    "#is DATETIME_DATE a time object?\n",
    "type(concat_df.iloc[0,12])"
   ]
  },
  {
   "cell_type": "markdown",
   "metadata": {},
   "source": [
    "## Doing some more examination of the data"
   ]
  },
  {
   "cell_type": "markdown",
   "metadata": {},
   "source": [
    "Checking to see if the `ENTRIES` count is unqique for each `(\"C/A\", \"UNIT\", \"SCP\", \"STATION\", \"DATE_TIME\")` tuple.\n"
   ]
  },
  {
   "cell_type": "code",
   "execution_count": 18,
   "metadata": {
    "execution": {
     "iopub.execute_input": "2021-01-08T19:20:02.381169Z",
     "iopub.status.busy": "2021-01-08T19:20:02.380990Z",
     "iopub.status.idle": "2021-01-08T19:20:10.231075Z",
     "shell.execute_reply": "2021-01-08T19:20:10.230511Z",
     "shell.execute_reply.started": "2021-01-08T19:20:02.381149Z"
    }
   },
   "outputs": [
    {
     "data": {
      "text/html": [
       "<div>\n",
       "<style scoped>\n",
       "    .dataframe tbody tr th:only-of-type {\n",
       "        vertical-align: middle;\n",
       "    }\n",
       "\n",
       "    .dataframe tbody tr th {\n",
       "        vertical-align: top;\n",
       "    }\n",
       "\n",
       "    .dataframe thead th {\n",
       "        text-align: right;\n",
       "    }\n",
       "</style>\n",
       "<table border=\"1\" class=\"dataframe\">\n",
       "  <thead>\n",
       "    <tr style=\"text-align: right;\">\n",
       "      <th></th>\n",
       "      <th>C/A</th>\n",
       "      <th>UNIT</th>\n",
       "      <th>SCP</th>\n",
       "      <th>STATION</th>\n",
       "      <th>DATE_TIME</th>\n",
       "      <th>ENTRIES</th>\n",
       "    </tr>\n",
       "  </thead>\n",
       "  <tbody>\n",
       "    <tr>\n",
       "      <th>7412660</th>\n",
       "      <td>R174</td>\n",
       "      <td>R034</td>\n",
       "      <td>00-00-02</td>\n",
       "      <td>125 ST</td>\n",
       "      <td>2019-06-08 00:00:00</td>\n",
       "      <td>4</td>\n",
       "    </tr>\n",
       "    <tr>\n",
       "      <th>8456938</th>\n",
       "      <td>R256</td>\n",
       "      <td>R182</td>\n",
       "      <td>00-00-03</td>\n",
       "      <td>116 ST</td>\n",
       "      <td>2019-07-24 21:00:00</td>\n",
       "      <td>4</td>\n",
       "    </tr>\n",
       "    <tr>\n",
       "      <th>7414813</th>\n",
       "      <td>R174</td>\n",
       "      <td>R034</td>\n",
       "      <td>00-00-03</td>\n",
       "      <td>125 ST</td>\n",
       "      <td>2019-06-08 00:00:00</td>\n",
       "      <td>4</td>\n",
       "    </tr>\n",
       "    <tr>\n",
       "      <th>2484499</th>\n",
       "      <td>N045</td>\n",
       "      <td>R187</td>\n",
       "      <td>01-06-00</td>\n",
       "      <td>81 ST-MUSEUM</td>\n",
       "      <td>2019-06-11 21:00:00</td>\n",
       "      <td>4</td>\n",
       "    </tr>\n",
       "    <tr>\n",
       "      <th>7410508</th>\n",
       "      <td>R174</td>\n",
       "      <td>R034</td>\n",
       "      <td>00-00-01</td>\n",
       "      <td>125 ST</td>\n",
       "      <td>2019-06-08 00:00:00</td>\n",
       "      <td>4</td>\n",
       "    </tr>\n",
       "  </tbody>\n",
       "</table>\n",
       "</div>"
      ],
      "text/plain": [
       "          C/A  UNIT       SCP       STATION           DATE_TIME  ENTRIES\n",
       "7412660  R174  R034  00-00-02        125 ST 2019-06-08 00:00:00        4\n",
       "8456938  R256  R182  00-00-03        116 ST 2019-07-24 21:00:00        4\n",
       "7414813  R174  R034  00-00-03        125 ST 2019-06-08 00:00:00        4\n",
       "2484499  N045  R187  01-06-00  81 ST-MUSEUM 2019-06-11 21:00:00        4\n",
       "7410508  R174  R034  00-00-01        125 ST 2019-06-08 00:00:00        4"
      ]
     },
     "execution_count": 18,
     "metadata": {},
     "output_type": "execute_result"
    }
   ],
   "source": [
    "(concat_df\n",
    " .groupby([\"C/A\", \"UNIT\", \"SCP\", \"STATION\", \"DATE_TIME\"])\n",
    " .ENTRIES.count()\n",
    " .reset_index()\n",
    " .sort_values(\"ENTRIES\", ascending=False)).head(5)"
   ]
  },
  {
   "cell_type": "markdown",
   "metadata": {},
   "source": [
    "So it looks like some of these tuples have the same `ENTRIES` values. Taking a look at a few examples:"
   ]
  },
  {
   "cell_type": "code",
   "execution_count": 19,
   "metadata": {
    "execution": {
     "iopub.execute_input": "2021-01-08T19:20:10.232197Z",
     "iopub.status.busy": "2021-01-08T19:20:10.232032Z",
     "iopub.status.idle": "2021-01-08T19:20:16.189648Z",
     "shell.execute_reply": "2021-01-08T19:20:16.189063Z",
     "shell.execute_reply.started": "2021-01-08T19:20:10.232178Z"
    }
   },
   "outputs": [
    {
     "data": {
      "text/html": [
       "<div>\n",
       "<style scoped>\n",
       "    .dataframe tbody tr th:only-of-type {\n",
       "        vertical-align: middle;\n",
       "    }\n",
       "\n",
       "    .dataframe tbody tr th {\n",
       "        vertical-align: top;\n",
       "    }\n",
       "\n",
       "    .dataframe thead th {\n",
       "        text-align: right;\n",
       "    }\n",
       "</style>\n",
       "<table border=\"1\" class=\"dataframe\">\n",
       "  <thead>\n",
       "    <tr style=\"text-align: right;\">\n",
       "      <th></th>\n",
       "      <th>C/A</th>\n",
       "      <th>UNIT</th>\n",
       "      <th>SCP</th>\n",
       "      <th>STATION</th>\n",
       "      <th>LINENAME</th>\n",
       "      <th>DIVISION</th>\n",
       "      <th>DATE</th>\n",
       "      <th>TIME</th>\n",
       "      <th>DESC</th>\n",
       "      <th>ENTRIES</th>\n",
       "      <th>EXITS</th>\n",
       "      <th>DATE_TIME</th>\n",
       "      <th>DATETIME_DATE</th>\n",
       "    </tr>\n",
       "  </thead>\n",
       "  <tbody>\n",
       "    <tr>\n",
       "      <th>167326</th>\n",
       "      <td>R256</td>\n",
       "      <td>R182</td>\n",
       "      <td>00-00-03</td>\n",
       "      <td>116 ST</td>\n",
       "      <td>6</td>\n",
       "      <td>IRT</td>\n",
       "      <td>07/24/2019</td>\n",
       "      <td>01:00:00</td>\n",
       "      <td>REGULAR</td>\n",
       "      <td>304288</td>\n",
       "      <td>251923</td>\n",
       "      <td>2019-07-24 01:00:00</td>\n",
       "      <td>2019-07-24</td>\n",
       "    </tr>\n",
       "    <tr>\n",
       "      <th>167327</th>\n",
       "      <td>R256</td>\n",
       "      <td>R182</td>\n",
       "      <td>00-00-03</td>\n",
       "      <td>116 ST</td>\n",
       "      <td>6</td>\n",
       "      <td>IRT</td>\n",
       "      <td>07/24/2019</td>\n",
       "      <td>05:00:00</td>\n",
       "      <td>REGULAR</td>\n",
       "      <td>304307</td>\n",
       "      <td>251945</td>\n",
       "      <td>2019-07-24 05:00:00</td>\n",
       "      <td>2019-07-24</td>\n",
       "    </tr>\n",
       "    <tr>\n",
       "      <th>167328</th>\n",
       "      <td>R256</td>\n",
       "      <td>R182</td>\n",
       "      <td>00-00-03</td>\n",
       "      <td>116 ST</td>\n",
       "      <td>6</td>\n",
       "      <td>IRT</td>\n",
       "      <td>07/24/2019</td>\n",
       "      <td>09:00:00</td>\n",
       "      <td>REGULAR</td>\n",
       "      <td>304901</td>\n",
       "      <td>252245</td>\n",
       "      <td>2019-07-24 09:00:00</td>\n",
       "      <td>2019-07-24</td>\n",
       "    </tr>\n",
       "    <tr>\n",
       "      <th>167329</th>\n",
       "      <td>R256</td>\n",
       "      <td>R182</td>\n",
       "      <td>00-00-03</td>\n",
       "      <td>116 ST</td>\n",
       "      <td>6</td>\n",
       "      <td>IRT</td>\n",
       "      <td>07/24/2019</td>\n",
       "      <td>13:00:00</td>\n",
       "      <td>REGULAR</td>\n",
       "      <td>305391</td>\n",
       "      <td>252559</td>\n",
       "      <td>2019-07-24 13:00:00</td>\n",
       "      <td>2019-07-24</td>\n",
       "    </tr>\n",
       "    <tr>\n",
       "      <th>167330</th>\n",
       "      <td>R256</td>\n",
       "      <td>R182</td>\n",
       "      <td>00-00-03</td>\n",
       "      <td>116 ST</td>\n",
       "      <td>6</td>\n",
       "      <td>IRT</td>\n",
       "      <td>07/24/2019</td>\n",
       "      <td>17:00:00</td>\n",
       "      <td>REGULAR</td>\n",
       "      <td>305859</td>\n",
       "      <td>252912</td>\n",
       "      <td>2019-07-24 17:00:00</td>\n",
       "      <td>2019-07-24</td>\n",
       "    </tr>\n",
       "    <tr>\n",
       "      <th>167331</th>\n",
       "      <td>R256</td>\n",
       "      <td>R182</td>\n",
       "      <td>00-00-03</td>\n",
       "      <td>116 ST</td>\n",
       "      <td>6</td>\n",
       "      <td>IRT</td>\n",
       "      <td>07/24/2019</td>\n",
       "      <td>21:00:00</td>\n",
       "      <td>REGULAR</td>\n",
       "      <td>306182</td>\n",
       "      <td>253250</td>\n",
       "      <td>2019-07-24 21:00:00</td>\n",
       "      <td>2019-07-24</td>\n",
       "    </tr>\n",
       "    <tr>\n",
       "      <th>167332</th>\n",
       "      <td>R256</td>\n",
       "      <td>R182</td>\n",
       "      <td>00-00-03</td>\n",
       "      <td>116 ST</td>\n",
       "      <td>6</td>\n",
       "      <td>IRT</td>\n",
       "      <td>07/24/2019</td>\n",
       "      <td>21:00:00</td>\n",
       "      <td>RECOVR AUD</td>\n",
       "      <td>0</td>\n",
       "      <td>82</td>\n",
       "      <td>2019-07-24 21:00:00</td>\n",
       "      <td>2019-07-24</td>\n",
       "    </tr>\n",
       "    <tr>\n",
       "      <th>167326</th>\n",
       "      <td>R256</td>\n",
       "      <td>R182</td>\n",
       "      <td>00-00-03</td>\n",
       "      <td>116 ST</td>\n",
       "      <td>6</td>\n",
       "      <td>IRT</td>\n",
       "      <td>07/24/2019</td>\n",
       "      <td>01:00:00</td>\n",
       "      <td>REGULAR</td>\n",
       "      <td>304288</td>\n",
       "      <td>251923</td>\n",
       "      <td>2019-07-24 01:00:00</td>\n",
       "      <td>2019-07-24</td>\n",
       "    </tr>\n",
       "    <tr>\n",
       "      <th>167327</th>\n",
       "      <td>R256</td>\n",
       "      <td>R182</td>\n",
       "      <td>00-00-03</td>\n",
       "      <td>116 ST</td>\n",
       "      <td>6</td>\n",
       "      <td>IRT</td>\n",
       "      <td>07/24/2019</td>\n",
       "      <td>05:00:00</td>\n",
       "      <td>REGULAR</td>\n",
       "      <td>304307</td>\n",
       "      <td>251945</td>\n",
       "      <td>2019-07-24 05:00:00</td>\n",
       "      <td>2019-07-24</td>\n",
       "    </tr>\n",
       "    <tr>\n",
       "      <th>167328</th>\n",
       "      <td>R256</td>\n",
       "      <td>R182</td>\n",
       "      <td>00-00-03</td>\n",
       "      <td>116 ST</td>\n",
       "      <td>6</td>\n",
       "      <td>IRT</td>\n",
       "      <td>07/24/2019</td>\n",
       "      <td>09:00:00</td>\n",
       "      <td>REGULAR</td>\n",
       "      <td>304901</td>\n",
       "      <td>252245</td>\n",
       "      <td>2019-07-24 09:00:00</td>\n",
       "      <td>2019-07-24</td>\n",
       "    </tr>\n",
       "    <tr>\n",
       "      <th>167329</th>\n",
       "      <td>R256</td>\n",
       "      <td>R182</td>\n",
       "      <td>00-00-03</td>\n",
       "      <td>116 ST</td>\n",
       "      <td>6</td>\n",
       "      <td>IRT</td>\n",
       "      <td>07/24/2019</td>\n",
       "      <td>13:00:00</td>\n",
       "      <td>REGULAR</td>\n",
       "      <td>305391</td>\n",
       "      <td>252559</td>\n",
       "      <td>2019-07-24 13:00:00</td>\n",
       "      <td>2019-07-24</td>\n",
       "    </tr>\n",
       "    <tr>\n",
       "      <th>167330</th>\n",
       "      <td>R256</td>\n",
       "      <td>R182</td>\n",
       "      <td>00-00-03</td>\n",
       "      <td>116 ST</td>\n",
       "      <td>6</td>\n",
       "      <td>IRT</td>\n",
       "      <td>07/24/2019</td>\n",
       "      <td>17:00:00</td>\n",
       "      <td>REGULAR</td>\n",
       "      <td>305859</td>\n",
       "      <td>252912</td>\n",
       "      <td>2019-07-24 17:00:00</td>\n",
       "      <td>2019-07-24</td>\n",
       "    </tr>\n",
       "    <tr>\n",
       "      <th>167331</th>\n",
       "      <td>R256</td>\n",
       "      <td>R182</td>\n",
       "      <td>00-00-03</td>\n",
       "      <td>116 ST</td>\n",
       "      <td>6</td>\n",
       "      <td>IRT</td>\n",
       "      <td>07/24/2019</td>\n",
       "      <td>21:00:00</td>\n",
       "      <td>REGULAR</td>\n",
       "      <td>306182</td>\n",
       "      <td>253250</td>\n",
       "      <td>2019-07-24 21:00:00</td>\n",
       "      <td>2019-07-24</td>\n",
       "    </tr>\n",
       "    <tr>\n",
       "      <th>167332</th>\n",
       "      <td>R256</td>\n",
       "      <td>R182</td>\n",
       "      <td>00-00-03</td>\n",
       "      <td>116 ST</td>\n",
       "      <td>6</td>\n",
       "      <td>IRT</td>\n",
       "      <td>07/24/2019</td>\n",
       "      <td>21:00:00</td>\n",
       "      <td>RECOVR AUD</td>\n",
       "      <td>0</td>\n",
       "      <td>82</td>\n",
       "      <td>2019-07-24 21:00:00</td>\n",
       "      <td>2019-07-24</td>\n",
       "    </tr>\n",
       "  </tbody>\n",
       "</table>\n",
       "</div>"
      ],
      "text/plain": [
       "         C/A  UNIT       SCP STATION LINENAME DIVISION        DATE      TIME  \\\n",
       "167326  R256  R182  00-00-03  116 ST        6      IRT  07/24/2019  01:00:00   \n",
       "167327  R256  R182  00-00-03  116 ST        6      IRT  07/24/2019  05:00:00   \n",
       "167328  R256  R182  00-00-03  116 ST        6      IRT  07/24/2019  09:00:00   \n",
       "167329  R256  R182  00-00-03  116 ST        6      IRT  07/24/2019  13:00:00   \n",
       "167330  R256  R182  00-00-03  116 ST        6      IRT  07/24/2019  17:00:00   \n",
       "167331  R256  R182  00-00-03  116 ST        6      IRT  07/24/2019  21:00:00   \n",
       "167332  R256  R182  00-00-03  116 ST        6      IRT  07/24/2019  21:00:00   \n",
       "167326  R256  R182  00-00-03  116 ST        6      IRT  07/24/2019  01:00:00   \n",
       "167327  R256  R182  00-00-03  116 ST        6      IRT  07/24/2019  05:00:00   \n",
       "167328  R256  R182  00-00-03  116 ST        6      IRT  07/24/2019  09:00:00   \n",
       "167329  R256  R182  00-00-03  116 ST        6      IRT  07/24/2019  13:00:00   \n",
       "167330  R256  R182  00-00-03  116 ST        6      IRT  07/24/2019  17:00:00   \n",
       "167331  R256  R182  00-00-03  116 ST        6      IRT  07/24/2019  21:00:00   \n",
       "167332  R256  R182  00-00-03  116 ST        6      IRT  07/24/2019  21:00:00   \n",
       "\n",
       "              DESC  ENTRIES   EXITS           DATE_TIME DATETIME_DATE  \n",
       "167326     REGULAR   304288  251923 2019-07-24 01:00:00    2019-07-24  \n",
       "167327     REGULAR   304307  251945 2019-07-24 05:00:00    2019-07-24  \n",
       "167328     REGULAR   304901  252245 2019-07-24 09:00:00    2019-07-24  \n",
       "167329     REGULAR   305391  252559 2019-07-24 13:00:00    2019-07-24  \n",
       "167330     REGULAR   305859  252912 2019-07-24 17:00:00    2019-07-24  \n",
       "167331     REGULAR   306182  253250 2019-07-24 21:00:00    2019-07-24  \n",
       "167332  RECOVR AUD        0      82 2019-07-24 21:00:00    2019-07-24  \n",
       "167326     REGULAR   304288  251923 2019-07-24 01:00:00    2019-07-24  \n",
       "167327     REGULAR   304307  251945 2019-07-24 05:00:00    2019-07-24  \n",
       "167328     REGULAR   304901  252245 2019-07-24 09:00:00    2019-07-24  \n",
       "167329     REGULAR   305391  252559 2019-07-24 13:00:00    2019-07-24  \n",
       "167330     REGULAR   305859  252912 2019-07-24 17:00:00    2019-07-24  \n",
       "167331     REGULAR   306182  253250 2019-07-24 21:00:00    2019-07-24  \n",
       "167332  RECOVR AUD        0      82 2019-07-24 21:00:00    2019-07-24  "
      ]
     },
     "execution_count": 19,
     "metadata": {},
     "output_type": "execute_result"
    }
   ],
   "source": [
    "mask = (concat_df[\"C/A\"]==\"R256\") &\\\n",
    "    (concat_df[\"UNIT\"]==\"R182\") &\\\n",
    "    (concat_df[\"SCP\"]==\"00-00-03\") &\\\n",
    "    (concat_df[\"STATION\"]==\"116 ST\") &\\\n",
    "    (concat_df[\"DATE_TIME\"].dt.date == datetime.datetime(2019,7,24).date())\n",
    "\n",
    "#get the rows in the data frame according to the mask\n",
    "concat_df[mask].head(15)"
   ]
  },
  {
   "cell_type": "markdown",
   "metadata": {},
   "source": [
    "There are 4 rows that have the same `(\"C/A\",\"UNIT\",\"STATION\",\"DATE_TIME\")` tuple (rows 167331 and 167332)\n",
    "\n",
    "\n"
   ]
  },
  {
   "cell_type": "code",
   "execution_count": 20,
   "metadata": {
    "execution": {
     "iopub.execute_input": "2021-01-08T19:20:16.191067Z",
     "iopub.status.busy": "2021-01-08T19:20:16.190677Z",
     "iopub.status.idle": "2021-01-08T19:20:16.947175Z",
     "shell.execute_reply": "2021-01-08T19:20:16.946674Z",
     "shell.execute_reply.started": "2021-01-08T19:20:16.191036Z"
    }
   },
   "outputs": [
    {
     "data": {
      "text/plain": [
       "REGULAR       10826341\n",
       "RECOVR AUD       48012\n",
       "Name: DESC, dtype: int64"
      ]
     },
     "execution_count": 20,
     "metadata": {},
     "output_type": "execute_result"
    }
   ],
   "source": [
    "concat_df.DESC.value_counts()"
   ]
  },
  {
   "cell_type": "code",
   "execution_count": 21,
   "metadata": {
    "execution": {
     "iopub.execute_input": "2021-01-08T19:20:16.948180Z",
     "iopub.status.busy": "2021-01-08T19:20:16.948060Z",
     "iopub.status.idle": "2021-01-08T19:20:27.246850Z",
     "shell.execute_reply": "2021-01-08T19:20:27.246052Z",
     "shell.execute_reply.started": "2021-01-08T19:20:16.948165Z"
    }
   },
   "outputs": [],
   "source": [
    "concat_df.sort_values([\"C/A\", \"UNIT\", \"SCP\", \"STATION\", \"DATE_TIME\"], \n",
    "                          inplace=True, ascending=False)\n",
    "concat_df.drop_duplicates(subset=[\"C/A\", \"UNIT\", \"SCP\", \"STATION\", \"DATE_TIME\"], inplace=True)"
   ]
  },
  {
   "cell_type": "code",
   "execution_count": 22,
   "metadata": {
    "execution": {
     "iopub.execute_input": "2021-01-08T19:20:27.248226Z",
     "iopub.status.busy": "2021-01-08T19:20:27.247952Z",
     "iopub.status.idle": "2021-01-08T19:20:34.948441Z",
     "shell.execute_reply": "2021-01-08T19:20:34.947859Z",
     "shell.execute_reply.started": "2021-01-08T19:20:27.248200Z"
    }
   },
   "outputs": [
    {
     "data": {
      "text/html": [
       "<div>\n",
       "<style scoped>\n",
       "    .dataframe tbody tr th:only-of-type {\n",
       "        vertical-align: middle;\n",
       "    }\n",
       "\n",
       "    .dataframe tbody tr th {\n",
       "        vertical-align: top;\n",
       "    }\n",
       "\n",
       "    .dataframe thead th {\n",
       "        text-align: right;\n",
       "    }\n",
       "</style>\n",
       "<table border=\"1\" class=\"dataframe\">\n",
       "  <thead>\n",
       "    <tr style=\"text-align: right;\">\n",
       "      <th></th>\n",
       "      <th>C/A</th>\n",
       "      <th>UNIT</th>\n",
       "      <th>SCP</th>\n",
       "      <th>STATION</th>\n",
       "      <th>DATE_TIME</th>\n",
       "      <th>ENTRIES</th>\n",
       "    </tr>\n",
       "  </thead>\n",
       "  <tbody>\n",
       "    <tr>\n",
       "      <th>0</th>\n",
       "      <td>A002</td>\n",
       "      <td>R051</td>\n",
       "      <td>02-00-00</td>\n",
       "      <td>59 ST</td>\n",
       "      <td>2018-12-29 03:00:00</td>\n",
       "      <td>1</td>\n",
       "    </tr>\n",
       "    <tr>\n",
       "      <th>6975091</th>\n",
       "      <td>R139</td>\n",
       "      <td>R031</td>\n",
       "      <td>04-00-00</td>\n",
       "      <td>34 ST-PENN STA</td>\n",
       "      <td>2019-07-10 00:00:00</td>\n",
       "      <td>1</td>\n",
       "    </tr>\n",
       "    <tr>\n",
       "      <th>6975084</th>\n",
       "      <td>R139</td>\n",
       "      <td>R031</td>\n",
       "      <td>04-00-00</td>\n",
       "      <td>34 ST-PENN STA</td>\n",
       "      <td>2019-07-08 20:00:00</td>\n",
       "      <td>1</td>\n",
       "    </tr>\n",
       "    <tr>\n",
       "      <th>6975085</th>\n",
       "      <td>R139</td>\n",
       "      <td>R031</td>\n",
       "      <td>04-00-00</td>\n",
       "      <td>34 ST-PENN STA</td>\n",
       "      <td>2019-07-09 00:00:00</td>\n",
       "      <td>1</td>\n",
       "    </tr>\n",
       "    <tr>\n",
       "      <th>6975086</th>\n",
       "      <td>R139</td>\n",
       "      <td>R031</td>\n",
       "      <td>04-00-00</td>\n",
       "      <td>34 ST-PENN STA</td>\n",
       "      <td>2019-07-09 04:00:00</td>\n",
       "      <td>1</td>\n",
       "    </tr>\n",
       "  </tbody>\n",
       "</table>\n",
       "</div>"
      ],
      "text/plain": [
       "          C/A  UNIT       SCP         STATION           DATE_TIME  ENTRIES\n",
       "0        A002  R051  02-00-00           59 ST 2018-12-29 03:00:00        1\n",
       "6975091  R139  R031  04-00-00  34 ST-PENN STA 2019-07-10 00:00:00        1\n",
       "6975084  R139  R031  04-00-00  34 ST-PENN STA 2019-07-08 20:00:00        1\n",
       "6975085  R139  R031  04-00-00  34 ST-PENN STA 2019-07-09 00:00:00        1\n",
       "6975086  R139  R031  04-00-00  34 ST-PENN STA 2019-07-09 04:00:00        1"
      ]
     },
     "execution_count": 22,
     "metadata": {},
     "output_type": "execute_result"
    }
   ],
   "source": [
    "# Sanity Check to verify that \"C/A\", \"UNIT\", \"SCP\", \"STATION\", \"DATE_TIME\" is unique\n",
    "(concat_df\n",
    " .groupby([\"C/A\", \"UNIT\", \"SCP\", \"STATION\", \"DATE_TIME\"])\n",
    " .ENTRIES.count()\n",
    " .reset_index()\n",
    " .sort_values(\"ENTRIES\", ascending=False)).head(5)"
   ]
  },
  {
   "cell_type": "markdown",
   "metadata": {},
   "source": [
    "Looks like every row has a unique `ENTRIES` count now"
   ]
  },
  {
   "cell_type": "code",
   "execution_count": 23,
   "metadata": {
    "execution": {
     "iopub.execute_input": "2021-01-08T19:20:34.949493Z",
     "iopub.status.busy": "2021-01-08T19:20:34.949227Z",
     "iopub.status.idle": "2021-01-08T19:20:36.043354Z",
     "shell.execute_reply": "2021-01-08T19:20:36.042730Z",
     "shell.execute_reply.started": "2021-01-08T19:20:34.949470Z"
    }
   },
   "outputs": [],
   "source": [
    "#Dropping the EXITS and DESC columns same as in the lecture\n",
    "concat_df = concat_df.drop([\"EXITS\", \"DESC\"], axis=1, errors=\"ignore\")"
   ]
  },
  {
   "cell_type": "code",
   "execution_count": 24,
   "metadata": {
    "execution": {
     "iopub.execute_input": "2021-01-08T19:20:36.044603Z",
     "iopub.status.busy": "2021-01-08T19:20:36.044410Z",
     "iopub.status.idle": "2021-01-08T19:20:36.048369Z",
     "shell.execute_reply": "2021-01-08T19:20:36.047727Z",
     "shell.execute_reply.started": "2021-01-08T19:20:36.044580Z"
    }
   },
   "outputs": [
    {
     "data": {
      "text/plain": [
       "Index(['C/A', 'UNIT', 'SCP', 'STATION', 'LINENAME', 'DIVISION', 'DATE', 'TIME',\n",
       "       'ENTRIES', 'DATE_TIME', 'DATETIME_DATE'],\n",
       "      dtype='object')"
      ]
     },
     "execution_count": 24,
     "metadata": {},
     "output_type": "execute_result"
    }
   ],
   "source": [
    "concat_df.columns"
   ]
  },
  {
   "cell_type": "code",
   "execution_count": 25,
   "metadata": {
    "execution": {
     "iopub.execute_input": "2021-01-08T19:20:36.049573Z",
     "iopub.status.busy": "2021-01-08T19:20:36.049385Z",
     "iopub.status.idle": "2021-01-08T19:20:40.233357Z",
     "shell.execute_reply": "2021-01-08T19:20:40.232761Z",
     "shell.execute_reply.started": "2021-01-08T19:20:36.049551Z"
    }
   },
   "outputs": [
    {
     "data": {
      "text/html": [
       "<div>\n",
       "<style scoped>\n",
       "    .dataframe tbody tr th:only-of-type {\n",
       "        vertical-align: middle;\n",
       "    }\n",
       "\n",
       "    .dataframe tbody tr th {\n",
       "        vertical-align: top;\n",
       "    }\n",
       "\n",
       "    .dataframe thead th {\n",
       "        text-align: right;\n",
       "    }\n",
       "</style>\n",
       "<table border=\"1\" class=\"dataframe\">\n",
       "  <thead>\n",
       "    <tr style=\"text-align: right;\">\n",
       "      <th></th>\n",
       "      <th>C/A</th>\n",
       "      <th>UNIT</th>\n",
       "      <th>SCP</th>\n",
       "      <th>STATION</th>\n",
       "      <th>LINENAME</th>\n",
       "      <th>DIVISION</th>\n",
       "      <th>DATE</th>\n",
       "      <th>TIME</th>\n",
       "      <th>ENTRIES</th>\n",
       "      <th>DATE_TIME</th>\n",
       "      <th>DATETIME_DATE</th>\n",
       "    </tr>\n",
       "  </thead>\n",
       "  <tbody>\n",
       "    <tr>\n",
       "      <th>167331</th>\n",
       "      <td>R256</td>\n",
       "      <td>R182</td>\n",
       "      <td>00-00-03</td>\n",
       "      <td>116 ST</td>\n",
       "      <td>6</td>\n",
       "      <td>IRT</td>\n",
       "      <td>07/24/2019</td>\n",
       "      <td>21:00:00</td>\n",
       "      <td>306182</td>\n",
       "      <td>2019-07-24 21:00:00</td>\n",
       "      <td>2019-07-24</td>\n",
       "    </tr>\n",
       "    <tr>\n",
       "      <th>167330</th>\n",
       "      <td>R256</td>\n",
       "      <td>R182</td>\n",
       "      <td>00-00-03</td>\n",
       "      <td>116 ST</td>\n",
       "      <td>6</td>\n",
       "      <td>IRT</td>\n",
       "      <td>07/24/2019</td>\n",
       "      <td>17:00:00</td>\n",
       "      <td>305859</td>\n",
       "      <td>2019-07-24 17:00:00</td>\n",
       "      <td>2019-07-24</td>\n",
       "    </tr>\n",
       "    <tr>\n",
       "      <th>167329</th>\n",
       "      <td>R256</td>\n",
       "      <td>R182</td>\n",
       "      <td>00-00-03</td>\n",
       "      <td>116 ST</td>\n",
       "      <td>6</td>\n",
       "      <td>IRT</td>\n",
       "      <td>07/24/2019</td>\n",
       "      <td>13:00:00</td>\n",
       "      <td>305391</td>\n",
       "      <td>2019-07-24 13:00:00</td>\n",
       "      <td>2019-07-24</td>\n",
       "    </tr>\n",
       "    <tr>\n",
       "      <th>167328</th>\n",
       "      <td>R256</td>\n",
       "      <td>R182</td>\n",
       "      <td>00-00-03</td>\n",
       "      <td>116 ST</td>\n",
       "      <td>6</td>\n",
       "      <td>IRT</td>\n",
       "      <td>07/24/2019</td>\n",
       "      <td>09:00:00</td>\n",
       "      <td>304901</td>\n",
       "      <td>2019-07-24 09:00:00</td>\n",
       "      <td>2019-07-24</td>\n",
       "    </tr>\n",
       "    <tr>\n",
       "      <th>167327</th>\n",
       "      <td>R256</td>\n",
       "      <td>R182</td>\n",
       "      <td>00-00-03</td>\n",
       "      <td>116 ST</td>\n",
       "      <td>6</td>\n",
       "      <td>IRT</td>\n",
       "      <td>07/24/2019</td>\n",
       "      <td>05:00:00</td>\n",
       "      <td>304307</td>\n",
       "      <td>2019-07-24 05:00:00</td>\n",
       "      <td>2019-07-24</td>\n",
       "    </tr>\n",
       "    <tr>\n",
       "      <th>167326</th>\n",
       "      <td>R256</td>\n",
       "      <td>R182</td>\n",
       "      <td>00-00-03</td>\n",
       "      <td>116 ST</td>\n",
       "      <td>6</td>\n",
       "      <td>IRT</td>\n",
       "      <td>07/24/2019</td>\n",
       "      <td>01:00:00</td>\n",
       "      <td>304288</td>\n",
       "      <td>2019-07-24 01:00:00</td>\n",
       "      <td>2019-07-24</td>\n",
       "    </tr>\n",
       "  </tbody>\n",
       "</table>\n",
       "</div>"
      ],
      "text/plain": [
       "         C/A  UNIT       SCP STATION LINENAME DIVISION        DATE      TIME  \\\n",
       "167331  R256  R182  00-00-03  116 ST        6      IRT  07/24/2019  21:00:00   \n",
       "167330  R256  R182  00-00-03  116 ST        6      IRT  07/24/2019  17:00:00   \n",
       "167329  R256  R182  00-00-03  116 ST        6      IRT  07/24/2019  13:00:00   \n",
       "167328  R256  R182  00-00-03  116 ST        6      IRT  07/24/2019  09:00:00   \n",
       "167327  R256  R182  00-00-03  116 ST        6      IRT  07/24/2019  05:00:00   \n",
       "167326  R256  R182  00-00-03  116 ST        6      IRT  07/24/2019  01:00:00   \n",
       "\n",
       "        ENTRIES           DATE_TIME DATETIME_DATE  \n",
       "167331   306182 2019-07-24 21:00:00    2019-07-24  \n",
       "167330   305859 2019-07-24 17:00:00    2019-07-24  \n",
       "167329   305391 2019-07-24 13:00:00    2019-07-24  \n",
       "167328   304901 2019-07-24 09:00:00    2019-07-24  \n",
       "167327   304307 2019-07-24 05:00:00    2019-07-24  \n",
       "167326   304288 2019-07-24 01:00:00    2019-07-24  "
      ]
     },
     "execution_count": 25,
     "metadata": {},
     "output_type": "execute_result"
    }
   ],
   "source": [
    "#get the rows in the data frame according to the mask\n",
    "mask = (concat_df[\"C/A\"]==\"R256\") &\\\n",
    "    (concat_df[\"UNIT\"]==\"R182\") &\\\n",
    "    (concat_df[\"SCP\"]==\"00-00-03\") &\\\n",
    "    (concat_df[\"STATION\"]==\"116 ST\") &\\\n",
    "    (concat_df[\"DATE_TIME\"].dt.date == datetime.datetime(2019,7,24).date())\n",
    "concat_df[mask].head(15)"
   ]
  },
  {
   "cell_type": "code",
   "execution_count": 26,
   "metadata": {
    "execution": {
     "iopub.execute_input": "2021-01-08T19:20:40.234844Z",
     "iopub.status.busy": "2021-01-08T19:20:40.234609Z",
     "iopub.status.idle": "2021-01-08T19:20:44.527999Z",
     "shell.execute_reply": "2021-01-08T19:20:44.527374Z",
     "shell.execute_reply.started": "2021-01-08T19:20:40.234816Z"
    }
   },
   "outputs": [
    {
     "data": {
      "text/html": [
       "<div>\n",
       "<style scoped>\n",
       "    .dataframe tbody tr th:only-of-type {\n",
       "        vertical-align: middle;\n",
       "    }\n",
       "\n",
       "    .dataframe tbody tr th {\n",
       "        vertical-align: top;\n",
       "    }\n",
       "\n",
       "    .dataframe thead th {\n",
       "        text-align: right;\n",
       "    }\n",
       "</style>\n",
       "<table border=\"1\" class=\"dataframe\">\n",
       "  <thead>\n",
       "    <tr style=\"text-align: right;\">\n",
       "      <th></th>\n",
       "      <th>C/A</th>\n",
       "      <th>UNIT</th>\n",
       "      <th>SCP</th>\n",
       "      <th>STATION</th>\n",
       "      <th>LINENAME</th>\n",
       "      <th>DIVISION</th>\n",
       "      <th>DATE</th>\n",
       "      <th>TIME</th>\n",
       "      <th>ENTRIES</th>\n",
       "      <th>DATE_TIME</th>\n",
       "      <th>DATETIME_DATE</th>\n",
       "    </tr>\n",
       "  </thead>\n",
       "  <tbody>\n",
       "    <tr>\n",
       "      <th>167340</th>\n",
       "      <td>R256</td>\n",
       "      <td>R182</td>\n",
       "      <td>00-00-03</td>\n",
       "      <td>116 ST</td>\n",
       "      <td>6</td>\n",
       "      <td>IRT</td>\n",
       "      <td>07/25/2019</td>\n",
       "      <td>21:00:00</td>\n",
       "      <td>308174</td>\n",
       "      <td>2019-07-25 21:00:00</td>\n",
       "      <td>2019-07-25</td>\n",
       "    </tr>\n",
       "    <tr>\n",
       "      <th>167339</th>\n",
       "      <td>R256</td>\n",
       "      <td>R182</td>\n",
       "      <td>00-00-03</td>\n",
       "      <td>116 ST</td>\n",
       "      <td>6</td>\n",
       "      <td>IRT</td>\n",
       "      <td>07/25/2019</td>\n",
       "      <td>17:00:00</td>\n",
       "      <td>307851</td>\n",
       "      <td>2019-07-25 17:00:00</td>\n",
       "      <td>2019-07-25</td>\n",
       "    </tr>\n",
       "    <tr>\n",
       "      <th>167338</th>\n",
       "      <td>R256</td>\n",
       "      <td>R182</td>\n",
       "      <td>00-00-03</td>\n",
       "      <td>116 ST</td>\n",
       "      <td>6</td>\n",
       "      <td>IRT</td>\n",
       "      <td>07/25/2019</td>\n",
       "      <td>13:00:00</td>\n",
       "      <td>307388</td>\n",
       "      <td>2019-07-25 13:00:00</td>\n",
       "      <td>2019-07-25</td>\n",
       "    </tr>\n",
       "    <tr>\n",
       "      <th>167337</th>\n",
       "      <td>R256</td>\n",
       "      <td>R182</td>\n",
       "      <td>00-00-03</td>\n",
       "      <td>116 ST</td>\n",
       "      <td>6</td>\n",
       "      <td>IRT</td>\n",
       "      <td>07/25/2019</td>\n",
       "      <td>09:00:00</td>\n",
       "      <td>306885</td>\n",
       "      <td>2019-07-25 09:00:00</td>\n",
       "      <td>2019-07-25</td>\n",
       "    </tr>\n",
       "    <tr>\n",
       "      <th>167336</th>\n",
       "      <td>R256</td>\n",
       "      <td>R182</td>\n",
       "      <td>00-00-03</td>\n",
       "      <td>116 ST</td>\n",
       "      <td>6</td>\n",
       "      <td>IRT</td>\n",
       "      <td>07/25/2019</td>\n",
       "      <td>07:00:00</td>\n",
       "      <td>0</td>\n",
       "      <td>2019-07-25 07:00:00</td>\n",
       "      <td>2019-07-25</td>\n",
       "    </tr>\n",
       "    <tr>\n",
       "      <th>167335</th>\n",
       "      <td>R256</td>\n",
       "      <td>R182</td>\n",
       "      <td>00-00-03</td>\n",
       "      <td>116 ST</td>\n",
       "      <td>6</td>\n",
       "      <td>IRT</td>\n",
       "      <td>07/25/2019</td>\n",
       "      <td>05:00:00</td>\n",
       "      <td>306324</td>\n",
       "      <td>2019-07-25 05:00:00</td>\n",
       "      <td>2019-07-25</td>\n",
       "    </tr>\n",
       "    <tr>\n",
       "      <th>167334</th>\n",
       "      <td>R256</td>\n",
       "      <td>R182</td>\n",
       "      <td>00-00-03</td>\n",
       "      <td>116 ST</td>\n",
       "      <td>6</td>\n",
       "      <td>IRT</td>\n",
       "      <td>07/25/2019</td>\n",
       "      <td>02:00:00</td>\n",
       "      <td>0</td>\n",
       "      <td>2019-07-25 02:00:00</td>\n",
       "      <td>2019-07-25</td>\n",
       "    </tr>\n",
       "    <tr>\n",
       "      <th>167333</th>\n",
       "      <td>R256</td>\n",
       "      <td>R182</td>\n",
       "      <td>00-00-03</td>\n",
       "      <td>116 ST</td>\n",
       "      <td>6</td>\n",
       "      <td>IRT</td>\n",
       "      <td>07/25/2019</td>\n",
       "      <td>01:00:00</td>\n",
       "      <td>306300</td>\n",
       "      <td>2019-07-25 01:00:00</td>\n",
       "      <td>2019-07-25</td>\n",
       "    </tr>\n",
       "  </tbody>\n",
       "</table>\n",
       "</div>"
      ],
      "text/plain": [
       "         C/A  UNIT       SCP STATION LINENAME DIVISION        DATE      TIME  \\\n",
       "167340  R256  R182  00-00-03  116 ST        6      IRT  07/25/2019  21:00:00   \n",
       "167339  R256  R182  00-00-03  116 ST        6      IRT  07/25/2019  17:00:00   \n",
       "167338  R256  R182  00-00-03  116 ST        6      IRT  07/25/2019  13:00:00   \n",
       "167337  R256  R182  00-00-03  116 ST        6      IRT  07/25/2019  09:00:00   \n",
       "167336  R256  R182  00-00-03  116 ST        6      IRT  07/25/2019  07:00:00   \n",
       "167335  R256  R182  00-00-03  116 ST        6      IRT  07/25/2019  05:00:00   \n",
       "167334  R256  R182  00-00-03  116 ST        6      IRT  07/25/2019  02:00:00   \n",
       "167333  R256  R182  00-00-03  116 ST        6      IRT  07/25/2019  01:00:00   \n",
       "\n",
       "        ENTRIES           DATE_TIME DATETIME_DATE  \n",
       "167340   308174 2019-07-25 21:00:00    2019-07-25  \n",
       "167339   307851 2019-07-25 17:00:00    2019-07-25  \n",
       "167338   307388 2019-07-25 13:00:00    2019-07-25  \n",
       "167337   306885 2019-07-25 09:00:00    2019-07-25  \n",
       "167336        0 2019-07-25 07:00:00    2019-07-25  \n",
       "167335   306324 2019-07-25 05:00:00    2019-07-25  \n",
       "167334        0 2019-07-25 02:00:00    2019-07-25  \n",
       "167333   306300 2019-07-25 01:00:00    2019-07-25  "
      ]
     },
     "execution_count": 26,
     "metadata": {},
     "output_type": "execute_result"
    }
   ],
   "source": [
    "#get the rows in the data frame according to the mask\n",
    "mask = (concat_df[\"C/A\"]==\"R256\") &\\\n",
    "    (concat_df[\"UNIT\"]==\"R182\") &\\\n",
    "    (concat_df[\"SCP\"]==\"00-00-03\") &\\\n",
    "    (concat_df[\"STATION\"]==\"116 ST\") &\\\n",
    "    (concat_df[\"DATE_TIME\"].dt.date == datetime.datetime(2019,7,25).date())\n",
    "concat_df[mask].head(15)"
   ]
  },
  {
   "cell_type": "markdown",
   "metadata": {},
   "source": [
    "# Challenge 3"
   ]
  },
  {
   "cell_type": "markdown",
   "metadata": {},
   "source": [
    "* Each row is a turnstile, identified by a combination of the `C/A`, `UNIT`, `SCP`, and `STATION` columns, with information on entries and exits at that turnstile every n hours. (What is n?) We want total daily entries.\n",
    "* Group the data so that it represents daily entries for each turnstile (hint:`pd.groupby` or `DataFrame.groupby`)"
   ]
  },
  {
   "cell_type": "markdown",
   "metadata": {},
   "source": [
    "Answer to \"what is n?\": n = 4 hours"
   ]
  },
  {
   "cell_type": "code",
   "execution_count": 27,
   "metadata": {
    "execution": {
     "iopub.execute_input": "2021-01-08T19:20:44.529055Z",
     "iopub.status.busy": "2021-01-08T19:20:44.528826Z",
     "iopub.status.idle": "2021-01-08T19:20:53.720395Z",
     "shell.execute_reply": "2021-01-08T19:20:53.719626Z",
     "shell.execute_reply.started": "2021-01-08T19:20:44.529032Z"
    }
   },
   "outputs": [],
   "source": [
    "#Sorting the data frame by DATETIME_DATE in ascending order\n",
    "concat_df.sort_values(\"DATETIME_DATE\",inplace=True)"
   ]
  },
  {
   "cell_type": "code",
   "execution_count": 28,
   "metadata": {
    "execution": {
     "iopub.execute_input": "2021-01-08T19:20:53.721680Z",
     "iopub.status.busy": "2021-01-08T19:20:53.721317Z",
     "iopub.status.idle": "2021-01-08T19:20:53.734397Z",
     "shell.execute_reply": "2021-01-08T19:20:53.733663Z",
     "shell.execute_reply.started": "2021-01-08T19:20:53.721644Z"
    }
   },
   "outputs": [
    {
     "data": {
      "text/html": [
       "<div>\n",
       "<style scoped>\n",
       "    .dataframe tbody tr th:only-of-type {\n",
       "        vertical-align: middle;\n",
       "    }\n",
       "\n",
       "    .dataframe tbody tr th {\n",
       "        vertical-align: top;\n",
       "    }\n",
       "\n",
       "    .dataframe thead th {\n",
       "        text-align: right;\n",
       "    }\n",
       "</style>\n",
       "<table border=\"1\" class=\"dataframe\">\n",
       "  <thead>\n",
       "    <tr style=\"text-align: right;\">\n",
       "      <th></th>\n",
       "      <th>C/A</th>\n",
       "      <th>UNIT</th>\n",
       "      <th>SCP</th>\n",
       "      <th>STATION</th>\n",
       "      <th>LINENAME</th>\n",
       "      <th>DIVISION</th>\n",
       "      <th>DATE</th>\n",
       "      <th>TIME</th>\n",
       "      <th>ENTRIES</th>\n",
       "      <th>DATE_TIME</th>\n",
       "      <th>DATETIME_DATE</th>\n",
       "    </tr>\n",
       "  </thead>\n",
       "  <tbody>\n",
       "    <tr>\n",
       "      <th>0</th>\n",
       "      <td>A002</td>\n",
       "      <td>R051</td>\n",
       "      <td>02-00-00</td>\n",
       "      <td>59 ST</td>\n",
       "      <td>NQR456W</td>\n",
       "      <td>BMT</td>\n",
       "      <td>12/29/2018</td>\n",
       "      <td>03:00:00</td>\n",
       "      <td>6889287</td>\n",
       "      <td>2018-12-29 03:00:00</td>\n",
       "      <td>2018-12-29</td>\n",
       "    </tr>\n",
       "    <tr>\n",
       "      <th>32634</th>\n",
       "      <td>H022</td>\n",
       "      <td>R279</td>\n",
       "      <td>00-06-01</td>\n",
       "      <td>JEFFERSON ST</td>\n",
       "      <td>L</td>\n",
       "      <td>BMT</td>\n",
       "      <td>12/29/2018</td>\n",
       "      <td>11:00:00</td>\n",
       "      <td>8724325</td>\n",
       "      <td>2018-12-29 11:00:00</td>\n",
       "      <td>2018-12-29</td>\n",
       "    </tr>\n",
       "    <tr>\n",
       "      <th>32635</th>\n",
       "      <td>H022</td>\n",
       "      <td>R279</td>\n",
       "      <td>00-06-01</td>\n",
       "      <td>JEFFERSON ST</td>\n",
       "      <td>L</td>\n",
       "      <td>BMT</td>\n",
       "      <td>12/29/2018</td>\n",
       "      <td>15:00:00</td>\n",
       "      <td>8724709</td>\n",
       "      <td>2018-12-29 15:00:00</td>\n",
       "      <td>2018-12-29</td>\n",
       "    </tr>\n",
       "    <tr>\n",
       "      <th>32636</th>\n",
       "      <td>H022</td>\n",
       "      <td>R279</td>\n",
       "      <td>00-06-01</td>\n",
       "      <td>JEFFERSON ST</td>\n",
       "      <td>L</td>\n",
       "      <td>BMT</td>\n",
       "      <td>12/29/2018</td>\n",
       "      <td>19:00:00</td>\n",
       "      <td>8725141</td>\n",
       "      <td>2018-12-29 19:00:00</td>\n",
       "      <td>2018-12-29</td>\n",
       "    </tr>\n",
       "    <tr>\n",
       "      <th>32637</th>\n",
       "      <td>H022</td>\n",
       "      <td>R279</td>\n",
       "      <td>00-06-01</td>\n",
       "      <td>JEFFERSON ST</td>\n",
       "      <td>L</td>\n",
       "      <td>BMT</td>\n",
       "      <td>12/29/2018</td>\n",
       "      <td>23:00:00</td>\n",
       "      <td>8725385</td>\n",
       "      <td>2018-12-29 23:00:00</td>\n",
       "      <td>2018-12-29</td>\n",
       "    </tr>\n",
       "  </tbody>\n",
       "</table>\n",
       "</div>"
      ],
      "text/plain": [
       "        C/A  UNIT       SCP       STATION LINENAME DIVISION        DATE  \\\n",
       "0      A002  R051  02-00-00         59 ST  NQR456W      BMT  12/29/2018   \n",
       "32634  H022  R279  00-06-01  JEFFERSON ST        L      BMT  12/29/2018   \n",
       "32635  H022  R279  00-06-01  JEFFERSON ST        L      BMT  12/29/2018   \n",
       "32636  H022  R279  00-06-01  JEFFERSON ST        L      BMT  12/29/2018   \n",
       "32637  H022  R279  00-06-01  JEFFERSON ST        L      BMT  12/29/2018   \n",
       "\n",
       "           TIME  ENTRIES           DATE_TIME DATETIME_DATE  \n",
       "0      03:00:00  6889287 2018-12-29 03:00:00    2018-12-29  \n",
       "32634  11:00:00  8724325 2018-12-29 11:00:00    2018-12-29  \n",
       "32635  15:00:00  8724709 2018-12-29 15:00:00    2018-12-29  \n",
       "32636  19:00:00  8725141 2018-12-29 19:00:00    2018-12-29  \n",
       "32637  23:00:00  8725385 2018-12-29 23:00:00    2018-12-29  "
      ]
     },
     "execution_count": 28,
     "metadata": {},
     "output_type": "execute_result"
    }
   ],
   "source": [
    "concat_df.head()"
   ]
  },
  {
   "cell_type": "markdown",
   "metadata": {},
   "source": [
    "A turnstile can be uniquely identified by the tuple of `(\"C/A\",\"UNIT\",\"SCP\",\"STATION\")`\n",
    "\n",
    "I will pick the first `ENTRIES` count as being the entry count for that day"
   ]
  },
  {
   "cell_type": "code",
   "execution_count": 29,
   "metadata": {
    "execution": {
     "iopub.execute_input": "2021-01-08T19:20:53.735765Z",
     "iopub.status.busy": "2021-01-08T19:20:53.735505Z",
     "iopub.status.idle": "2021-01-08T19:20:58.040888Z",
     "shell.execute_reply": "2021-01-08T19:20:58.040396Z",
     "shell.execute_reply.started": "2021-01-08T19:20:53.735741Z"
    }
   },
   "outputs": [],
   "source": [
    "concat_df_daily_entries = (concat_df\n",
    "                        .groupby([\"C/A\", \"UNIT\", \"SCP\", \"STATION\", \"DATETIME_DATE\"],as_index=False)\n",
    "                        .ENTRIES.first())"
   ]
  },
  {
   "cell_type": "code",
   "execution_count": 30,
   "metadata": {
    "execution": {
     "iopub.execute_input": "2021-01-08T19:20:58.041850Z",
     "iopub.status.busy": "2021-01-08T19:20:58.041705Z",
     "iopub.status.idle": "2021-01-08T19:20:58.049570Z",
     "shell.execute_reply": "2021-01-08T19:20:58.048983Z",
     "shell.execute_reply.started": "2021-01-08T19:20:58.041831Z"
    }
   },
   "outputs": [
    {
     "data": {
      "text/html": [
       "<div>\n",
       "<style scoped>\n",
       "    .dataframe tbody tr th:only-of-type {\n",
       "        vertical-align: middle;\n",
       "    }\n",
       "\n",
       "    .dataframe tbody tr th {\n",
       "        vertical-align: top;\n",
       "    }\n",
       "\n",
       "    .dataframe thead th {\n",
       "        text-align: right;\n",
       "    }\n",
       "</style>\n",
       "<table border=\"1\" class=\"dataframe\">\n",
       "  <thead>\n",
       "    <tr style=\"text-align: right;\">\n",
       "      <th></th>\n",
       "      <th>C/A</th>\n",
       "      <th>UNIT</th>\n",
       "      <th>SCP</th>\n",
       "      <th>STATION</th>\n",
       "      <th>DATETIME_DATE</th>\n",
       "      <th>ENTRIES</th>\n",
       "    </tr>\n",
       "  </thead>\n",
       "  <tbody>\n",
       "    <tr>\n",
       "      <th>0</th>\n",
       "      <td>A002</td>\n",
       "      <td>R051</td>\n",
       "      <td>02-00-00</td>\n",
       "      <td>59 ST</td>\n",
       "      <td>2018-12-29</td>\n",
       "      <td>6889287</td>\n",
       "    </tr>\n",
       "    <tr>\n",
       "      <th>1</th>\n",
       "      <td>A002</td>\n",
       "      <td>R051</td>\n",
       "      <td>02-00-00</td>\n",
       "      <td>59 ST</td>\n",
       "      <td>2018-12-30</td>\n",
       "      <td>6890279</td>\n",
       "    </tr>\n",
       "    <tr>\n",
       "      <th>2</th>\n",
       "      <td>A002</td>\n",
       "      <td>R051</td>\n",
       "      <td>02-00-00</td>\n",
       "      <td>59 ST</td>\n",
       "      <td>2018-12-31</td>\n",
       "      <td>6891946</td>\n",
       "    </tr>\n",
       "    <tr>\n",
       "      <th>3</th>\n",
       "      <td>A002</td>\n",
       "      <td>R051</td>\n",
       "      <td>02-00-00</td>\n",
       "      <td>59 ST</td>\n",
       "      <td>2019-01-01</td>\n",
       "      <td>6892430</td>\n",
       "    </tr>\n",
       "    <tr>\n",
       "      <th>4</th>\n",
       "      <td>A002</td>\n",
       "      <td>R051</td>\n",
       "      <td>02-00-00</td>\n",
       "      <td>59 ST</td>\n",
       "      <td>2019-01-02</td>\n",
       "      <td>6892814</td>\n",
       "    </tr>\n",
       "  </tbody>\n",
       "</table>\n",
       "</div>"
      ],
      "text/plain": [
       "    C/A  UNIT       SCP STATION DATETIME_DATE  ENTRIES\n",
       "0  A002  R051  02-00-00   59 ST    2018-12-29  6889287\n",
       "1  A002  R051  02-00-00   59 ST    2018-12-30  6890279\n",
       "2  A002  R051  02-00-00   59 ST    2018-12-31  6891946\n",
       "3  A002  R051  02-00-00   59 ST    2019-01-01  6892430\n",
       "4  A002  R051  02-00-00   59 ST    2019-01-02  6892814"
      ]
     },
     "execution_count": 30,
     "metadata": {},
     "output_type": "execute_result"
    }
   ],
   "source": [
    "concat_df_daily_entries.head()"
   ]
  },
  {
   "cell_type": "markdown",
   "metadata": {},
   "source": [
    "I'm going to rename the column `ENTRIES` in the data frame `concat_df_daily_entries` to `DAILY_ENTRIES` so that it won't be confused with `ENTRIES` that still exists in data frame `concat_df`"
   ]
  },
  {
   "cell_type": "code",
   "execution_count": 31,
   "metadata": {
    "execution": {
     "iopub.execute_input": "2021-01-08T19:20:58.050717Z",
     "iopub.status.busy": "2021-01-08T19:20:58.050555Z",
     "iopub.status.idle": "2021-01-08T19:21:02.341957Z",
     "shell.execute_reply": "2021-01-08T19:21:02.341418Z",
     "shell.execute_reply.started": "2021-01-08T19:20:58.050698Z"
    }
   },
   "outputs": [
    {
     "data": {
      "text/html": [
       "<div>\n",
       "<style scoped>\n",
       "    .dataframe tbody tr th:only-of-type {\n",
       "        vertical-align: middle;\n",
       "    }\n",
       "\n",
       "    .dataframe tbody tr th {\n",
       "        vertical-align: top;\n",
       "    }\n",
       "\n",
       "    .dataframe thead th {\n",
       "        text-align: right;\n",
       "    }\n",
       "</style>\n",
       "<table border=\"1\" class=\"dataframe\">\n",
       "  <thead>\n",
       "    <tr style=\"text-align: right;\">\n",
       "      <th></th>\n",
       "      <th>C/A</th>\n",
       "      <th>UNIT</th>\n",
       "      <th>SCP</th>\n",
       "      <th>STATION</th>\n",
       "      <th>LINENAME</th>\n",
       "      <th>DIVISION</th>\n",
       "      <th>DATE</th>\n",
       "      <th>TIME</th>\n",
       "      <th>ENTRIES</th>\n",
       "      <th>DATE_TIME</th>\n",
       "      <th>DATETIME_DATE</th>\n",
       "    </tr>\n",
       "  </thead>\n",
       "  <tbody>\n",
       "    <tr>\n",
       "      <th>0</th>\n",
       "      <td>A002</td>\n",
       "      <td>R051</td>\n",
       "      <td>02-00-00</td>\n",
       "      <td>59 ST</td>\n",
       "      <td>NQR456W</td>\n",
       "      <td>BMT</td>\n",
       "      <td>06/08/2019</td>\n",
       "      <td>00:00:00</td>\n",
       "      <td>7089463</td>\n",
       "      <td>2019-06-08 00:00:00</td>\n",
       "      <td>2019-06-08</td>\n",
       "    </tr>\n",
       "    <tr>\n",
       "      <th>1</th>\n",
       "      <td>A002</td>\n",
       "      <td>R051</td>\n",
       "      <td>02-00-00</td>\n",
       "      <td>59 ST</td>\n",
       "      <td>NQR456W</td>\n",
       "      <td>BMT</td>\n",
       "      <td>06/08/2019</td>\n",
       "      <td>04:00:00</td>\n",
       "      <td>7089491</td>\n",
       "      <td>2019-06-08 04:00:00</td>\n",
       "      <td>2019-06-08</td>\n",
       "    </tr>\n",
       "    <tr>\n",
       "      <th>2</th>\n",
       "      <td>A002</td>\n",
       "      <td>R051</td>\n",
       "      <td>02-00-00</td>\n",
       "      <td>59 ST</td>\n",
       "      <td>NQR456W</td>\n",
       "      <td>BMT</td>\n",
       "      <td>06/08/2019</td>\n",
       "      <td>08:00:00</td>\n",
       "      <td>7089511</td>\n",
       "      <td>2019-06-08 08:00:00</td>\n",
       "      <td>2019-06-08</td>\n",
       "    </tr>\n",
       "    <tr>\n",
       "      <th>3</th>\n",
       "      <td>A002</td>\n",
       "      <td>R051</td>\n",
       "      <td>02-00-00</td>\n",
       "      <td>59 ST</td>\n",
       "      <td>NQR456W</td>\n",
       "      <td>BMT</td>\n",
       "      <td>06/08/2019</td>\n",
       "      <td>12:00:00</td>\n",
       "      <td>7089598</td>\n",
       "      <td>2019-06-08 12:00:00</td>\n",
       "      <td>2019-06-08</td>\n",
       "    </tr>\n",
       "    <tr>\n",
       "      <th>4</th>\n",
       "      <td>A002</td>\n",
       "      <td>R051</td>\n",
       "      <td>02-00-00</td>\n",
       "      <td>59 ST</td>\n",
       "      <td>NQR456W</td>\n",
       "      <td>BMT</td>\n",
       "      <td>06/08/2019</td>\n",
       "      <td>16:00:00</td>\n",
       "      <td>7089801</td>\n",
       "      <td>2019-06-08 16:00:00</td>\n",
       "      <td>2019-06-08</td>\n",
       "    </tr>\n",
       "    <tr>\n",
       "      <th>5</th>\n",
       "      <td>A002</td>\n",
       "      <td>R051</td>\n",
       "      <td>02-00-00</td>\n",
       "      <td>59 ST</td>\n",
       "      <td>NQR456W</td>\n",
       "      <td>BMT</td>\n",
       "      <td>06/08/2019</td>\n",
       "      <td>20:00:00</td>\n",
       "      <td>7090115</td>\n",
       "      <td>2019-06-08 20:00:00</td>\n",
       "      <td>2019-06-08</td>\n",
       "    </tr>\n",
       "  </tbody>\n",
       "</table>\n",
       "</div>"
      ],
      "text/plain": [
       "    C/A  UNIT       SCP STATION LINENAME DIVISION        DATE      TIME  \\\n",
       "0  A002  R051  02-00-00   59 ST  NQR456W      BMT  06/08/2019  00:00:00   \n",
       "1  A002  R051  02-00-00   59 ST  NQR456W      BMT  06/08/2019  04:00:00   \n",
       "2  A002  R051  02-00-00   59 ST  NQR456W      BMT  06/08/2019  08:00:00   \n",
       "3  A002  R051  02-00-00   59 ST  NQR456W      BMT  06/08/2019  12:00:00   \n",
       "4  A002  R051  02-00-00   59 ST  NQR456W      BMT  06/08/2019  16:00:00   \n",
       "5  A002  R051  02-00-00   59 ST  NQR456W      BMT  06/08/2019  20:00:00   \n",
       "\n",
       "   ENTRIES           DATE_TIME DATETIME_DATE  \n",
       "0  7089463 2019-06-08 00:00:00    2019-06-08  \n",
       "1  7089491 2019-06-08 04:00:00    2019-06-08  \n",
       "2  7089511 2019-06-08 08:00:00    2019-06-08  \n",
       "3  7089598 2019-06-08 12:00:00    2019-06-08  \n",
       "4  7089801 2019-06-08 16:00:00    2019-06-08  \n",
       "5  7090115 2019-06-08 20:00:00    2019-06-08  "
      ]
     },
     "execution_count": 31,
     "metadata": {},
     "output_type": "execute_result"
    }
   ],
   "source": [
    "mask = (concat_df[\"C/A\"]==\"A002\") &\\\n",
    "    (concat_df[\"UNIT\"]==\"R051\") &\\\n",
    "    (concat_df[\"SCP\"]==\"02-00-00\") &\\\n",
    "    (concat_df[\"STATION\"]==\"59 ST\") &\\\n",
    "    (concat_df[\"DATE_TIME\"].dt.date == datetime.datetime(2019,6,8).date())\n",
    "concat_df[mask].sort_values(\"DATE_TIME\").head(20)"
   ]
  },
  {
   "cell_type": "code",
   "execution_count": 32,
   "metadata": {
    "execution": {
     "iopub.execute_input": "2021-01-08T19:21:02.343107Z",
     "iopub.status.busy": "2021-01-08T19:21:02.342941Z",
     "iopub.status.idle": "2021-01-08T19:21:02.347969Z",
     "shell.execute_reply": "2021-01-08T19:21:02.347322Z",
     "shell.execute_reply.started": "2021-01-08T19:21:02.343088Z"
    }
   },
   "outputs": [],
   "source": [
    "concat_df_daily_entries.rename(columns={\"ENTRIES\":\"DAILY_ENTRIES\"}, inplace=True)"
   ]
  },
  {
   "cell_type": "code",
   "execution_count": 33,
   "metadata": {
    "execution": {
     "iopub.execute_input": "2021-01-08T19:21:02.349097Z",
     "iopub.status.busy": "2021-01-08T19:21:02.348929Z",
     "iopub.status.idle": "2021-01-08T19:21:02.352169Z",
     "shell.execute_reply": "2021-01-08T19:21:02.351680Z",
     "shell.execute_reply.started": "2021-01-08T19:21:02.349078Z"
    }
   },
   "outputs": [
    {
     "data": {
      "text/plain": [
       "Index(['C/A', 'UNIT', 'SCP', 'STATION', 'DATETIME_DATE', 'DAILY_ENTRIES'], dtype='object')"
      ]
     },
     "execution_count": 33,
     "metadata": {},
     "output_type": "execute_result"
    }
   ],
   "source": [
    "concat_df_daily_entries.columns"
   ]
  },
  {
   "cell_type": "code",
   "execution_count": 34,
   "metadata": {
    "execution": {
     "iopub.execute_input": "2021-01-08T19:21:02.353149Z",
     "iopub.status.busy": "2021-01-08T19:21:02.353014Z",
     "iopub.status.idle": "2021-01-08T19:21:02.361275Z",
     "shell.execute_reply": "2021-01-08T19:21:02.360793Z",
     "shell.execute_reply.started": "2021-01-08T19:21:02.353133Z"
    }
   },
   "outputs": [
    {
     "data": {
      "text/html": [
       "<div>\n",
       "<style scoped>\n",
       "    .dataframe tbody tr th:only-of-type {\n",
       "        vertical-align: middle;\n",
       "    }\n",
       "\n",
       "    .dataframe tbody tr th {\n",
       "        vertical-align: top;\n",
       "    }\n",
       "\n",
       "    .dataframe thead th {\n",
       "        text-align: right;\n",
       "    }\n",
       "</style>\n",
       "<table border=\"1\" class=\"dataframe\">\n",
       "  <thead>\n",
       "    <tr style=\"text-align: right;\">\n",
       "      <th></th>\n",
       "      <th>C/A</th>\n",
       "      <th>UNIT</th>\n",
       "      <th>SCP</th>\n",
       "      <th>STATION</th>\n",
       "      <th>DATETIME_DATE</th>\n",
       "      <th>DAILY_ENTRIES</th>\n",
       "    </tr>\n",
       "  </thead>\n",
       "  <tbody>\n",
       "    <tr>\n",
       "      <th>0</th>\n",
       "      <td>A002</td>\n",
       "      <td>R051</td>\n",
       "      <td>02-00-00</td>\n",
       "      <td>59 ST</td>\n",
       "      <td>2018-12-29</td>\n",
       "      <td>6889287</td>\n",
       "    </tr>\n",
       "    <tr>\n",
       "      <th>1</th>\n",
       "      <td>A002</td>\n",
       "      <td>R051</td>\n",
       "      <td>02-00-00</td>\n",
       "      <td>59 ST</td>\n",
       "      <td>2018-12-30</td>\n",
       "      <td>6890279</td>\n",
       "    </tr>\n",
       "    <tr>\n",
       "      <th>2</th>\n",
       "      <td>A002</td>\n",
       "      <td>R051</td>\n",
       "      <td>02-00-00</td>\n",
       "      <td>59 ST</td>\n",
       "      <td>2018-12-31</td>\n",
       "      <td>6891946</td>\n",
       "    </tr>\n",
       "    <tr>\n",
       "      <th>3</th>\n",
       "      <td>A002</td>\n",
       "      <td>R051</td>\n",
       "      <td>02-00-00</td>\n",
       "      <td>59 ST</td>\n",
       "      <td>2019-01-01</td>\n",
       "      <td>6892430</td>\n",
       "    </tr>\n",
       "    <tr>\n",
       "      <th>4</th>\n",
       "      <td>A002</td>\n",
       "      <td>R051</td>\n",
       "      <td>02-00-00</td>\n",
       "      <td>59 ST</td>\n",
       "      <td>2019-01-02</td>\n",
       "      <td>6892814</td>\n",
       "    </tr>\n",
       "    <tr>\n",
       "      <th>5</th>\n",
       "      <td>A002</td>\n",
       "      <td>R051</td>\n",
       "      <td>02-00-00</td>\n",
       "      <td>59 ST</td>\n",
       "      <td>2019-01-03</td>\n",
       "      <td>6895434</td>\n",
       "    </tr>\n",
       "    <tr>\n",
       "      <th>6</th>\n",
       "      <td>A002</td>\n",
       "      <td>R051</td>\n",
       "      <td>02-00-00</td>\n",
       "      <td>59 ST</td>\n",
       "      <td>2019-01-04</td>\n",
       "      <td>6895462</td>\n",
       "    </tr>\n",
       "    <tr>\n",
       "      <th>7</th>\n",
       "      <td>A002</td>\n",
       "      <td>R051</td>\n",
       "      <td>02-00-00</td>\n",
       "      <td>59 ST</td>\n",
       "      <td>2019-01-05</td>\n",
       "      <td>6897740</td>\n",
       "    </tr>\n",
       "    <tr>\n",
       "      <th>8</th>\n",
       "      <td>A002</td>\n",
       "      <td>R051</td>\n",
       "      <td>02-00-00</td>\n",
       "      <td>59 ST</td>\n",
       "      <td>2019-01-06</td>\n",
       "      <td>6898382</td>\n",
       "    </tr>\n",
       "    <tr>\n",
       "      <th>9</th>\n",
       "      <td>A002</td>\n",
       "      <td>R051</td>\n",
       "      <td>02-00-00</td>\n",
       "      <td>59 ST</td>\n",
       "      <td>2019-01-07</td>\n",
       "      <td>6898763</td>\n",
       "    </tr>\n",
       "  </tbody>\n",
       "</table>\n",
       "</div>"
      ],
      "text/plain": [
       "    C/A  UNIT       SCP STATION DATETIME_DATE  DAILY_ENTRIES\n",
       "0  A002  R051  02-00-00   59 ST    2018-12-29        6889287\n",
       "1  A002  R051  02-00-00   59 ST    2018-12-30        6890279\n",
       "2  A002  R051  02-00-00   59 ST    2018-12-31        6891946\n",
       "3  A002  R051  02-00-00   59 ST    2019-01-01        6892430\n",
       "4  A002  R051  02-00-00   59 ST    2019-01-02        6892814\n",
       "5  A002  R051  02-00-00   59 ST    2019-01-03        6895434\n",
       "6  A002  R051  02-00-00   59 ST    2019-01-04        6895462\n",
       "7  A002  R051  02-00-00   59 ST    2019-01-05        6897740\n",
       "8  A002  R051  02-00-00   59 ST    2019-01-06        6898382\n",
       "9  A002  R051  02-00-00   59 ST    2019-01-07        6898763"
      ]
     },
     "execution_count": 34,
     "metadata": {},
     "output_type": "execute_result"
    }
   ],
   "source": [
    "concat_df_daily_entries.head(10)"
   ]
  },
  {
   "cell_type": "markdown",
   "metadata": {},
   "source": [
    "Adding two new columns:\n",
    "* `PREV_DATETIME_DATE`: The datetime date of the immediately previous day of the current row\n",
    "* `PREV_DAILY_ENTRIES`: The `ENTRIES` values for that immediately previous datetime day\n"
   ]
  },
  {
   "cell_type": "code",
   "execution_count": 35,
   "metadata": {
    "execution": {
     "iopub.execute_input": "2021-01-08T19:21:02.362439Z",
     "iopub.status.busy": "2021-01-08T19:21:02.362269Z",
     "iopub.status.idle": "2021-01-08T19:21:04.787379Z",
     "shell.execute_reply": "2021-01-08T19:21:04.786826Z",
     "shell.execute_reply.started": "2021-01-08T19:21:02.362420Z"
    }
   },
   "outputs": [
    {
     "name": "stderr",
     "output_type": "stream",
     "text": [
      "<ipython-input-35-ba449c8b501f>:1: FutureWarning: Indexing with multiple keys (implicitly converted to a tuple of keys) will be deprecated, use a list instead.\n",
      "  concat_df_daily_entries[[\"PREV_DATETIME_DATE\", \"PREV_DAILY_ENTRIES\"]] = (concat_df_daily_entries\n"
     ]
    }
   ],
   "source": [
    "concat_df_daily_entries[[\"PREV_DATETIME_DATE\", \"PREV_DAILY_ENTRIES\"]] = (concat_df_daily_entries\n",
    "                                                       .groupby([\"C/A\", \"UNIT\", \"SCP\", \"STATION\"])[\"DATETIME_DATE\", \"DAILY_ENTRIES\"]\n",
    "                                                       .apply(lambda grp: grp.shift(1)))"
   ]
  },
  {
   "cell_type": "code",
   "execution_count": 36,
   "metadata": {
    "execution": {
     "iopub.execute_input": "2021-01-08T19:21:04.788294Z",
     "iopub.status.busy": "2021-01-08T19:21:04.788159Z",
     "iopub.status.idle": "2021-01-08T19:21:04.800182Z",
     "shell.execute_reply": "2021-01-08T19:21:04.799491Z",
     "shell.execute_reply.started": "2021-01-08T19:21:04.788276Z"
    }
   },
   "outputs": [
    {
     "data": {
      "text/html": [
       "<div>\n",
       "<style scoped>\n",
       "    .dataframe tbody tr th:only-of-type {\n",
       "        vertical-align: middle;\n",
       "    }\n",
       "\n",
       "    .dataframe tbody tr th {\n",
       "        vertical-align: top;\n",
       "    }\n",
       "\n",
       "    .dataframe thead th {\n",
       "        text-align: right;\n",
       "    }\n",
       "</style>\n",
       "<table border=\"1\" class=\"dataframe\">\n",
       "  <thead>\n",
       "    <tr style=\"text-align: right;\">\n",
       "      <th></th>\n",
       "      <th>C/A</th>\n",
       "      <th>UNIT</th>\n",
       "      <th>SCP</th>\n",
       "      <th>STATION</th>\n",
       "      <th>DATETIME_DATE</th>\n",
       "      <th>DAILY_ENTRIES</th>\n",
       "      <th>PREV_DATETIME_DATE</th>\n",
       "      <th>PREV_DAILY_ENTRIES</th>\n",
       "    </tr>\n",
       "  </thead>\n",
       "  <tbody>\n",
       "    <tr>\n",
       "      <th>0</th>\n",
       "      <td>A002</td>\n",
       "      <td>R051</td>\n",
       "      <td>02-00-00</td>\n",
       "      <td>59 ST</td>\n",
       "      <td>2018-12-29</td>\n",
       "      <td>6889287</td>\n",
       "      <td>NaN</td>\n",
       "      <td>NaN</td>\n",
       "    </tr>\n",
       "    <tr>\n",
       "      <th>1</th>\n",
       "      <td>A002</td>\n",
       "      <td>R051</td>\n",
       "      <td>02-00-00</td>\n",
       "      <td>59 ST</td>\n",
       "      <td>2018-12-30</td>\n",
       "      <td>6890279</td>\n",
       "      <td>2018-12-29</td>\n",
       "      <td>6889287.0</td>\n",
       "    </tr>\n",
       "    <tr>\n",
       "      <th>2</th>\n",
       "      <td>A002</td>\n",
       "      <td>R051</td>\n",
       "      <td>02-00-00</td>\n",
       "      <td>59 ST</td>\n",
       "      <td>2018-12-31</td>\n",
       "      <td>6891946</td>\n",
       "      <td>2018-12-30</td>\n",
       "      <td>6890279.0</td>\n",
       "    </tr>\n",
       "    <tr>\n",
       "      <th>3</th>\n",
       "      <td>A002</td>\n",
       "      <td>R051</td>\n",
       "      <td>02-00-00</td>\n",
       "      <td>59 ST</td>\n",
       "      <td>2019-01-01</td>\n",
       "      <td>6892430</td>\n",
       "      <td>2018-12-31</td>\n",
       "      <td>6891946.0</td>\n",
       "    </tr>\n",
       "    <tr>\n",
       "      <th>4</th>\n",
       "      <td>A002</td>\n",
       "      <td>R051</td>\n",
       "      <td>02-00-00</td>\n",
       "      <td>59 ST</td>\n",
       "      <td>2019-01-02</td>\n",
       "      <td>6892814</td>\n",
       "      <td>2019-01-01</td>\n",
       "      <td>6892430.0</td>\n",
       "    </tr>\n",
       "  </tbody>\n",
       "</table>\n",
       "</div>"
      ],
      "text/plain": [
       "    C/A  UNIT       SCP STATION DATETIME_DATE  DAILY_ENTRIES  \\\n",
       "0  A002  R051  02-00-00   59 ST    2018-12-29        6889287   \n",
       "1  A002  R051  02-00-00   59 ST    2018-12-30        6890279   \n",
       "2  A002  R051  02-00-00   59 ST    2018-12-31        6891946   \n",
       "3  A002  R051  02-00-00   59 ST    2019-01-01        6892430   \n",
       "4  A002  R051  02-00-00   59 ST    2019-01-02        6892814   \n",
       "\n",
       "  PREV_DATETIME_DATE  PREV_DAILY_ENTRIES  \n",
       "0                NaN                 NaN  \n",
       "1         2018-12-29           6889287.0  \n",
       "2         2018-12-30           6890279.0  \n",
       "3         2018-12-31           6891946.0  \n",
       "4         2019-01-01           6892430.0  "
      ]
     },
     "execution_count": 36,
     "metadata": {},
     "output_type": "execute_result"
    }
   ],
   "source": [
    "concat_df_daily_entries.head()"
   ]
  },
  {
   "cell_type": "code",
   "execution_count": 37,
   "metadata": {
    "execution": {
     "iopub.execute_input": "2021-01-08T19:21:04.801202Z",
     "iopub.status.busy": "2021-01-08T19:21:04.801031Z",
     "iopub.status.idle": "2021-01-08T19:21:04.809844Z",
     "shell.execute_reply": "2021-01-08T19:21:04.809325Z",
     "shell.execute_reply.started": "2021-01-08T19:21:04.801180Z"
    }
   },
   "outputs": [
    {
     "data": {
      "text/html": [
       "<div>\n",
       "<style scoped>\n",
       "    .dataframe tbody tr th:only-of-type {\n",
       "        vertical-align: middle;\n",
       "    }\n",
       "\n",
       "    .dataframe tbody tr th {\n",
       "        vertical-align: top;\n",
       "    }\n",
       "\n",
       "    .dataframe thead th {\n",
       "        text-align: right;\n",
       "    }\n",
       "</style>\n",
       "<table border=\"1\" class=\"dataframe\">\n",
       "  <thead>\n",
       "    <tr style=\"text-align: right;\">\n",
       "      <th></th>\n",
       "      <th>C/A</th>\n",
       "      <th>UNIT</th>\n",
       "      <th>SCP</th>\n",
       "      <th>STATION</th>\n",
       "      <th>DATETIME_DATE</th>\n",
       "      <th>DAILY_ENTRIES</th>\n",
       "      <th>PREV_DATETIME_DATE</th>\n",
       "      <th>PREV_DAILY_ENTRIES</th>\n",
       "    </tr>\n",
       "  </thead>\n",
       "  <tbody>\n",
       "    <tr>\n",
       "      <th>1734030</th>\n",
       "      <td>TRAM2</td>\n",
       "      <td>R469</td>\n",
       "      <td>00-05-01</td>\n",
       "      <td>RIT-ROOSEVELT</td>\n",
       "      <td>2019-12-23</td>\n",
       "      <td>5554</td>\n",
       "      <td>2019-12-22</td>\n",
       "      <td>5554.0</td>\n",
       "    </tr>\n",
       "    <tr>\n",
       "      <th>1734031</th>\n",
       "      <td>TRAM2</td>\n",
       "      <td>R469</td>\n",
       "      <td>00-05-01</td>\n",
       "      <td>RIT-ROOSEVELT</td>\n",
       "      <td>2019-12-24</td>\n",
       "      <td>5554</td>\n",
       "      <td>2019-12-23</td>\n",
       "      <td>5554.0</td>\n",
       "    </tr>\n",
       "    <tr>\n",
       "      <th>1734032</th>\n",
       "      <td>TRAM2</td>\n",
       "      <td>R469</td>\n",
       "      <td>00-05-01</td>\n",
       "      <td>RIT-ROOSEVELT</td>\n",
       "      <td>2019-12-25</td>\n",
       "      <td>5554</td>\n",
       "      <td>2019-12-24</td>\n",
       "      <td>5554.0</td>\n",
       "    </tr>\n",
       "    <tr>\n",
       "      <th>1734033</th>\n",
       "      <td>TRAM2</td>\n",
       "      <td>R469</td>\n",
       "      <td>00-05-01</td>\n",
       "      <td>RIT-ROOSEVELT</td>\n",
       "      <td>2019-12-26</td>\n",
       "      <td>5554</td>\n",
       "      <td>2019-12-25</td>\n",
       "      <td>5554.0</td>\n",
       "    </tr>\n",
       "    <tr>\n",
       "      <th>1734034</th>\n",
       "      <td>TRAM2</td>\n",
       "      <td>R469</td>\n",
       "      <td>00-05-01</td>\n",
       "      <td>RIT-ROOSEVELT</td>\n",
       "      <td>2019-12-27</td>\n",
       "      <td>5554</td>\n",
       "      <td>2019-12-26</td>\n",
       "      <td>5554.0</td>\n",
       "    </tr>\n",
       "  </tbody>\n",
       "</table>\n",
       "</div>"
      ],
      "text/plain": [
       "           C/A  UNIT       SCP        STATION DATETIME_DATE  DAILY_ENTRIES  \\\n",
       "1734030  TRAM2  R469  00-05-01  RIT-ROOSEVELT    2019-12-23           5554   \n",
       "1734031  TRAM2  R469  00-05-01  RIT-ROOSEVELT    2019-12-24           5554   \n",
       "1734032  TRAM2  R469  00-05-01  RIT-ROOSEVELT    2019-12-25           5554   \n",
       "1734033  TRAM2  R469  00-05-01  RIT-ROOSEVELT    2019-12-26           5554   \n",
       "1734034  TRAM2  R469  00-05-01  RIT-ROOSEVELT    2019-12-27           5554   \n",
       "\n",
       "        PREV_DATETIME_DATE  PREV_DAILY_ENTRIES  \n",
       "1734030         2019-12-22              5554.0  \n",
       "1734031         2019-12-23              5554.0  \n",
       "1734032         2019-12-24              5554.0  \n",
       "1734033         2019-12-25              5554.0  \n",
       "1734034         2019-12-26              5554.0  "
      ]
     },
     "execution_count": 37,
     "metadata": {},
     "output_type": "execute_result"
    }
   ],
   "source": [
    "concat_df_daily_entries.tail()"
   ]
  },
  {
   "cell_type": "markdown",
   "metadata": {},
   "source": [
    "Drop rows that are NaN for `PREV_DATETIME_DATE`\n",
    "turnstiles_daily.dropna(subset=[\"PREV_DATE\"], axis=0, inplace=True)"
   ]
  },
  {
   "cell_type": "code",
   "execution_count": 38,
   "metadata": {
    "execution": {
     "iopub.execute_input": "2021-01-08T19:21:04.810670Z",
     "iopub.status.busy": "2021-01-08T19:21:04.810531Z",
     "iopub.status.idle": "2021-01-08T19:21:05.073451Z",
     "shell.execute_reply": "2021-01-08T19:21:05.072946Z",
     "shell.execute_reply.started": "2021-01-08T19:21:04.810653Z"
    }
   },
   "outputs": [],
   "source": [
    "concat_df_daily_entries.dropna(subset=[\"PREV_DATETIME_DATE\"], axis=0, inplace=True)"
   ]
  },
  {
   "cell_type": "markdown",
   "metadata": {},
   "source": [
    "Searching for entries in `concat_df_daily_entries` where `DAILY_ENTRIES` < `PREV_DAILY_ENTRIES`"
   ]
  },
  {
   "cell_type": "code",
   "execution_count": 39,
   "metadata": {
    "execution": {
     "iopub.execute_input": "2021-01-08T19:21:05.074388Z",
     "iopub.status.busy": "2021-01-08T19:21:05.074239Z",
     "iopub.status.idle": "2021-01-08T19:21:05.089299Z",
     "shell.execute_reply": "2021-01-08T19:21:05.088696Z",
     "shell.execute_reply.started": "2021-01-08T19:21:05.074369Z"
    }
   },
   "outputs": [
    {
     "data": {
      "text/html": [
       "<div>\n",
       "<style scoped>\n",
       "    .dataframe tbody tr th:only-of-type {\n",
       "        vertical-align: middle;\n",
       "    }\n",
       "\n",
       "    .dataframe tbody tr th {\n",
       "        vertical-align: top;\n",
       "    }\n",
       "\n",
       "    .dataframe thead th {\n",
       "        text-align: right;\n",
       "    }\n",
       "</style>\n",
       "<table border=\"1\" class=\"dataframe\">\n",
       "  <thead>\n",
       "    <tr style=\"text-align: right;\">\n",
       "      <th></th>\n",
       "      <th>C/A</th>\n",
       "      <th>UNIT</th>\n",
       "      <th>SCP</th>\n",
       "      <th>STATION</th>\n",
       "      <th>DATETIME_DATE</th>\n",
       "      <th>DAILY_ENTRIES</th>\n",
       "      <th>PREV_DATETIME_DATE</th>\n",
       "      <th>PREV_DAILY_ENTRIES</th>\n",
       "    </tr>\n",
       "  </thead>\n",
       "  <tbody>\n",
       "    <tr>\n",
       "      <th>3556</th>\n",
       "      <td>A002</td>\n",
       "      <td>R051</td>\n",
       "      <td>02-05-00</td>\n",
       "      <td>59 ST</td>\n",
       "      <td>2019-12-18</td>\n",
       "      <td>12</td>\n",
       "      <td>2019-12-17</td>\n",
       "      <td>2.120000e+02</td>\n",
       "    </tr>\n",
       "    <tr>\n",
       "      <th>4119</th>\n",
       "      <td>A002</td>\n",
       "      <td>R051</td>\n",
       "      <td>02-06-00</td>\n",
       "      <td>59 ST</td>\n",
       "      <td>2019-07-20</td>\n",
       "      <td>7615</td>\n",
       "      <td>2019-07-12</td>\n",
       "      <td>2.582490e+05</td>\n",
       "    </tr>\n",
       "    <tr>\n",
       "      <th>4257</th>\n",
       "      <td>A002</td>\n",
       "      <td>R051</td>\n",
       "      <td>02-06-00</td>\n",
       "      <td>59 ST</td>\n",
       "      <td>2019-12-05</td>\n",
       "      <td>1091</td>\n",
       "      <td>2019-12-04</td>\n",
       "      <td>1.307240e+05</td>\n",
       "    </tr>\n",
       "    <tr>\n",
       "      <th>6427</th>\n",
       "      <td>A006</td>\n",
       "      <td>R079</td>\n",
       "      <td>00-03-01</td>\n",
       "      <td>5 AV/59 ST</td>\n",
       "      <td>2019-01-03</td>\n",
       "      <td>364</td>\n",
       "      <td>2019-01-02</td>\n",
       "      <td>2.452000e+04</td>\n",
       "    </tr>\n",
       "    <tr>\n",
       "      <th>6440</th>\n",
       "      <td>A006</td>\n",
       "      <td>R079</td>\n",
       "      <td>00-03-01</td>\n",
       "      <td>5 AV/59 ST</td>\n",
       "      <td>2019-01-16</td>\n",
       "      <td>4325</td>\n",
       "      <td>2019-01-15</td>\n",
       "      <td>1.536000e+04</td>\n",
       "    </tr>\n",
       "    <tr>\n",
       "      <th>7701</th>\n",
       "      <td>A007</td>\n",
       "      <td>R079</td>\n",
       "      <td>01-05-01</td>\n",
       "      <td>5 AV/59 ST</td>\n",
       "      <td>2019-08-05</td>\n",
       "      <td>0</td>\n",
       "      <td>2019-08-04</td>\n",
       "      <td>1.000000e+00</td>\n",
       "    </tr>\n",
       "    <tr>\n",
       "      <th>12101</th>\n",
       "      <td>A011</td>\n",
       "      <td>R080</td>\n",
       "      <td>01-00-00</td>\n",
       "      <td>57 ST-7 AV</td>\n",
       "      <td>2018-12-30</td>\n",
       "      <td>46</td>\n",
       "      <td>2018-12-29</td>\n",
       "      <td>8.858351e+08</td>\n",
       "    </tr>\n",
       "    <tr>\n",
       "      <th>12458</th>\n",
       "      <td>A011</td>\n",
       "      <td>R080</td>\n",
       "      <td>01-00-01</td>\n",
       "      <td>57 ST-7 AV</td>\n",
       "      <td>2018-12-30</td>\n",
       "      <td>197</td>\n",
       "      <td>2018-12-29</td>\n",
       "      <td>1.681555e+07</td>\n",
       "    </tr>\n",
       "    <tr>\n",
       "      <th>12816</th>\n",
       "      <td>A011</td>\n",
       "      <td>R080</td>\n",
       "      <td>01-00-02</td>\n",
       "      <td>57 ST-7 AV</td>\n",
       "      <td>2018-12-31</td>\n",
       "      <td>535</td>\n",
       "      <td>2018-12-30</td>\n",
       "      <td>1.562636e+09</td>\n",
       "    </tr>\n",
       "    <tr>\n",
       "      <th>13173</th>\n",
       "      <td>A011</td>\n",
       "      <td>R080</td>\n",
       "      <td>01-00-03</td>\n",
       "      <td>57 ST-7 AV</td>\n",
       "      <td>2018-12-31</td>\n",
       "      <td>782</td>\n",
       "      <td>2018-12-30</td>\n",
       "      <td>1.663107e+09</td>\n",
       "    </tr>\n",
       "  </tbody>\n",
       "</table>\n",
       "</div>"
      ],
      "text/plain": [
       "        C/A  UNIT       SCP     STATION DATETIME_DATE  DAILY_ENTRIES  \\\n",
       "3556   A002  R051  02-05-00       59 ST    2019-12-18             12   \n",
       "4119   A002  R051  02-06-00       59 ST    2019-07-20           7615   \n",
       "4257   A002  R051  02-06-00       59 ST    2019-12-05           1091   \n",
       "6427   A006  R079  00-03-01  5 AV/59 ST    2019-01-03            364   \n",
       "6440   A006  R079  00-03-01  5 AV/59 ST    2019-01-16           4325   \n",
       "7701   A007  R079  01-05-01  5 AV/59 ST    2019-08-05              0   \n",
       "12101  A011  R080  01-00-00  57 ST-7 AV    2018-12-30             46   \n",
       "12458  A011  R080  01-00-01  57 ST-7 AV    2018-12-30            197   \n",
       "12816  A011  R080  01-00-02  57 ST-7 AV    2018-12-31            535   \n",
       "13173  A011  R080  01-00-03  57 ST-7 AV    2018-12-31            782   \n",
       "\n",
       "      PREV_DATETIME_DATE  PREV_DAILY_ENTRIES  \n",
       "3556          2019-12-17        2.120000e+02  \n",
       "4119          2019-07-12        2.582490e+05  \n",
       "4257          2019-12-04        1.307240e+05  \n",
       "6427          2019-01-02        2.452000e+04  \n",
       "6440          2019-01-15        1.536000e+04  \n",
       "7701          2019-08-04        1.000000e+00  \n",
       "12101         2018-12-29        8.858351e+08  \n",
       "12458         2018-12-29        1.681555e+07  \n",
       "12816         2018-12-30        1.562636e+09  \n",
       "13173         2018-12-30        1.663107e+09  "
      ]
     },
     "execution_count": 39,
     "metadata": {},
     "output_type": "execute_result"
    }
   ],
   "source": [
    "mask = concat_df_daily_entries[\"DAILY_ENTRIES\"] < concat_df_daily_entries[\"PREV_DAILY_ENTRIES\"]\n",
    "concat_df_daily_entries[mask].head(10)"
   ]
  },
  {
   "cell_type": "markdown",
   "metadata": {},
   "source": [
    "Let's pick a turnstile and a date where we see DAILY_ENTRIES < PREV_DAILY_ENTRIES and examine the entry counts on every 4 hour increment\n"
   ]
  },
  {
   "cell_type": "code",
   "execution_count": 40,
   "metadata": {
    "execution": {
     "iopub.execute_input": "2021-01-08T19:21:05.090382Z",
     "iopub.status.busy": "2021-01-08T19:21:05.090147Z",
     "iopub.status.idle": "2021-01-08T19:21:09.634234Z",
     "shell.execute_reply": "2021-01-08T19:21:09.633654Z",
     "shell.execute_reply.started": "2021-01-08T19:21:05.090363Z"
    }
   },
   "outputs": [
    {
     "data": {
      "text/html": [
       "<div>\n",
       "<style scoped>\n",
       "    .dataframe tbody tr th:only-of-type {\n",
       "        vertical-align: middle;\n",
       "    }\n",
       "\n",
       "    .dataframe tbody tr th {\n",
       "        vertical-align: top;\n",
       "    }\n",
       "\n",
       "    .dataframe thead th {\n",
       "        text-align: right;\n",
       "    }\n",
       "</style>\n",
       "<table border=\"1\" class=\"dataframe\">\n",
       "  <thead>\n",
       "    <tr style=\"text-align: right;\">\n",
       "      <th></th>\n",
       "      <th>C/A</th>\n",
       "      <th>UNIT</th>\n",
       "      <th>SCP</th>\n",
       "      <th>STATION</th>\n",
       "      <th>LINENAME</th>\n",
       "      <th>DIVISION</th>\n",
       "      <th>DATE</th>\n",
       "      <th>TIME</th>\n",
       "      <th>ENTRIES</th>\n",
       "      <th>DATE_TIME</th>\n",
       "      <th>DATETIME_DATE</th>\n",
       "    </tr>\n",
       "  </thead>\n",
       "  <tbody>\n",
       "    <tr>\n",
       "      <th>1633</th>\n",
       "      <td>A011</td>\n",
       "      <td>R080</td>\n",
       "      <td>01-03-00</td>\n",
       "      <td>57 ST-7 AV</td>\n",
       "      <td>NQRW</td>\n",
       "      <td>BMT</td>\n",
       "      <td>08/20/2019</td>\n",
       "      <td>00:00:00</td>\n",
       "      <td>885829659</td>\n",
       "      <td>2019-08-20 00:00:00</td>\n",
       "      <td>2019-08-20</td>\n",
       "    </tr>\n",
       "    <tr>\n",
       "      <th>1634</th>\n",
       "      <td>A011</td>\n",
       "      <td>R080</td>\n",
       "      <td>01-03-00</td>\n",
       "      <td>57 ST-7 AV</td>\n",
       "      <td>NQRW</td>\n",
       "      <td>BMT</td>\n",
       "      <td>08/20/2019</td>\n",
       "      <td>04:00:00</td>\n",
       "      <td>885829659</td>\n",
       "      <td>2019-08-20 04:00:00</td>\n",
       "      <td>2019-08-20</td>\n",
       "    </tr>\n",
       "    <tr>\n",
       "      <th>1635</th>\n",
       "      <td>A011</td>\n",
       "      <td>R080</td>\n",
       "      <td>01-03-00</td>\n",
       "      <td>57 ST-7 AV</td>\n",
       "      <td>NQRW</td>\n",
       "      <td>BMT</td>\n",
       "      <td>08/20/2019</td>\n",
       "      <td>08:00:00</td>\n",
       "      <td>885829659</td>\n",
       "      <td>2019-08-20 08:00:00</td>\n",
       "      <td>2019-08-20</td>\n",
       "    </tr>\n",
       "    <tr>\n",
       "      <th>1636</th>\n",
       "      <td>A011</td>\n",
       "      <td>R080</td>\n",
       "      <td>01-03-00</td>\n",
       "      <td>57 ST-7 AV</td>\n",
       "      <td>NQRW</td>\n",
       "      <td>BMT</td>\n",
       "      <td>08/20/2019</td>\n",
       "      <td>12:00:00</td>\n",
       "      <td>885829659</td>\n",
       "      <td>2019-08-20 12:00:00</td>\n",
       "      <td>2019-08-20</td>\n",
       "    </tr>\n",
       "    <tr>\n",
       "      <th>1637</th>\n",
       "      <td>A011</td>\n",
       "      <td>R080</td>\n",
       "      <td>01-03-00</td>\n",
       "      <td>57 ST-7 AV</td>\n",
       "      <td>NQRW</td>\n",
       "      <td>BMT</td>\n",
       "      <td>08/20/2019</td>\n",
       "      <td>16:00:00</td>\n",
       "      <td>885829605</td>\n",
       "      <td>2019-08-20 16:00:00</td>\n",
       "      <td>2019-08-20</td>\n",
       "    </tr>\n",
       "    <tr>\n",
       "      <th>1638</th>\n",
       "      <td>A011</td>\n",
       "      <td>R080</td>\n",
       "      <td>01-03-00</td>\n",
       "      <td>57 ST-7 AV</td>\n",
       "      <td>NQRW</td>\n",
       "      <td>BMT</td>\n",
       "      <td>08/20/2019</td>\n",
       "      <td>20:00:00</td>\n",
       "      <td>885829427</td>\n",
       "      <td>2019-08-20 20:00:00</td>\n",
       "      <td>2019-08-20</td>\n",
       "    </tr>\n",
       "  </tbody>\n",
       "</table>\n",
       "</div>"
      ],
      "text/plain": [
       "       C/A  UNIT       SCP     STATION LINENAME DIVISION        DATE  \\\n",
       "1633  A011  R080  01-03-00  57 ST-7 AV     NQRW      BMT  08/20/2019   \n",
       "1634  A011  R080  01-03-00  57 ST-7 AV     NQRW      BMT  08/20/2019   \n",
       "1635  A011  R080  01-03-00  57 ST-7 AV     NQRW      BMT  08/20/2019   \n",
       "1636  A011  R080  01-03-00  57 ST-7 AV     NQRW      BMT  08/20/2019   \n",
       "1637  A011  R080  01-03-00  57 ST-7 AV     NQRW      BMT  08/20/2019   \n",
       "1638  A011  R080  01-03-00  57 ST-7 AV     NQRW      BMT  08/20/2019   \n",
       "\n",
       "          TIME    ENTRIES           DATE_TIME DATETIME_DATE  \n",
       "1633  00:00:00  885829659 2019-08-20 00:00:00    2019-08-20  \n",
       "1634  04:00:00  885829659 2019-08-20 04:00:00    2019-08-20  \n",
       "1635  08:00:00  885829659 2019-08-20 08:00:00    2019-08-20  \n",
       "1636  12:00:00  885829659 2019-08-20 12:00:00    2019-08-20  \n",
       "1637  16:00:00  885829605 2019-08-20 16:00:00    2019-08-20  \n",
       "1638  20:00:00  885829427 2019-08-20 20:00:00    2019-08-20  "
      ]
     },
     "execution_count": 40,
     "metadata": {},
     "output_type": "execute_result"
    }
   ],
   "source": [
    "mask = (concat_df[\"C/A\"] == \"A011\") &\\\n",
    "        (concat_df[\"UNIT\"] == \"R080\") &\\\n",
    "        (concat_df[\"SCP\"] == \"01-03-00\") &\\\n",
    "        (concat_df[\"STATION\"] == \"57 ST-7 AV\") &\\\n",
    "        (concat_df[\"DATE_TIME\"].dt.date == datetime.datetime(2019,8,20).date())\n",
    "\n",
    "concat_df[mask].sort_values(\"DATE_TIME\").head(8)"
   ]
  },
  {
   "cell_type": "markdown",
   "metadata": {},
   "source": [
    "It's not strange that the counter doesn't count up for 12 hours.\n",
    "\n",
    "But it is strange that it counts down: it's 885829659 at 12:00:00 and is 885829605 at 16:00.\n",
    "\n",
    "Possible reasons:\n",
    "* malfunction\n",
    "* someone or something forced the number to 88529605 at 16:00\n",
    "* The counter rolled over or reset to 0 sometime between 12:00 and 16:00. And then 8M+ people passed through after the number reached zero\n",
    "\n"
   ]
  },
  {
   "cell_type": "markdown",
   "metadata": {},
   "source": [
    "Let's determine how many rows have this issue where DAILY_ENTRIES < PREV_DAILY_ENTRIES"
   ]
  },
  {
   "cell_type": "code",
   "execution_count": 41,
   "metadata": {
    "execution": {
     "iopub.execute_input": "2021-01-08T19:21:09.635423Z",
     "iopub.status.busy": "2021-01-08T19:21:09.635224Z",
     "iopub.status.idle": "2021-01-08T19:21:09.652970Z",
     "shell.execute_reply": "2021-01-08T19:21:09.652436Z",
     "shell.execute_reply.started": "2021-01-08T19:21:09.635373Z"
    }
   },
   "outputs": [
    {
     "data": {
      "text/plain": [
       "C/A    UNIT  SCP       STATION        \n",
       "A002   R051  02-05-00  59 ST                1\n",
       "             02-06-00  59 ST                2\n",
       "A006   R079  00-03-01  5 AV/59 ST           2\n",
       "A007   R079  01-05-01  5 AV/59 ST           1\n",
       "A011   R080  01-00-00  57 ST-7 AV           1\n",
       "                                         ... \n",
       "R645   R110  00-03-00  FLATBUSH AV-B.C      3\n",
       "             00-03-02  FLATBUSH AV-B.C      5\n",
       "R646   R110  01-00-01  FLATBUSH AV-B.C    349\n",
       "R730   R431  00-00-04  EASTCHSTER/DYRE    347\n",
       "TRAM1  R468  00-00-01  RIT-MANHATTAN        1\n",
       "Length: 936, dtype: int64"
      ]
     },
     "execution_count": 41,
     "metadata": {},
     "output_type": "execute_result"
    }
   ],
   "source": [
    "mask = concat_df_daily_entries[\"DAILY_ENTRIES\"] < concat_df_daily_entries[\"PREV_DAILY_ENTRIES\"]\n",
    "concat_df_daily_entries[mask].groupby([\"C/A\", \"UNIT\", \"SCP\", \"STATION\"]).size()"
   ]
  },
  {
   "cell_type": "markdown",
   "metadata": {},
   "source": [
    "Will apply a function to each entry in the data frame.\n",
    "\n",
    "If DAILY_ENTRIES < PREV_DAILY_ENTRIES, will set DAILY_ENTRIES = -1*(DAILY_ENTRIES - PREV_DAILY_ENTRIES)\n",
    "If DAILY_ENTRIES - PREV_DAILY_ENTRIES > BIG_NUMBER, will set DAILY_ENTRIES = 0 under the assumption that the counter was reset on that day\n"
   ]
  },
  {
   "cell_type": "code",
   "execution_count": 42,
   "metadata": {
    "execution": {
     "iopub.execute_input": "2021-01-08T19:21:09.653849Z",
     "iopub.status.busy": "2021-01-08T19:21:09.653706Z",
     "iopub.status.idle": "2021-01-08T19:21:09.657183Z",
     "shell.execute_reply": "2021-01-08T19:21:09.656521Z",
     "shell.execute_reply.started": "2021-01-08T19:21:09.653831Z"
    }
   },
   "outputs": [],
   "source": [
    "def get_daily_counts(row_in_dataframe,BIG_NUMBER):\n",
    "    count = row_in_dataframe[\"DAILY_ENTRIES\"] - row_in_dataframe[\"PREV_DAILY_ENTRIES\"]\n",
    "    \n",
    "    if count < 0:\n",
    "        count = -1 * count\n",
    "    if count > BIG_NUMBER:\n",
    "        #print(\"row[DAILY_ENTRIES] = {} row[PREV_DAILY_ENTRIES] = {}\".format(row_in_dataframe[\"DAILY_ENTRIES\"], row_in_dataframe[\"PREV_DAILY_ENTRIES\"]))\n",
    "        count = min(row_in_dataframe[\"DAILY_ENTRIES\"], row_in_dataframe[\"PREV_DAILY_ENTRIES\"])\n",
    "    if count > BIG_NUMBER:\n",
    "        #print(\"Set it zero\")\n",
    "        return 0\n",
    "    \n",
    "    #if all else fails\n",
    "    return count"
   ]
  },
  {
   "cell_type": "code",
   "execution_count": 43,
   "metadata": {
    "execution": {
     "iopub.execute_input": "2021-01-08T19:21:09.658085Z",
     "iopub.status.busy": "2021-01-08T19:21:09.657945Z",
     "iopub.status.idle": "2021-01-08T19:21:23.099186Z",
     "shell.execute_reply": "2021-01-08T19:21:23.098656Z",
     "shell.execute_reply.started": "2021-01-08T19:21:09.658067Z"
    }
   },
   "outputs": [],
   "source": [
    "#run it over the dataframe to adjust \"DAILY_ENTRIES\" values\n",
    "concat_df_daily_entries[\"DAILY_ENTRIES\"] = concat_df_daily_entries.apply(get_daily_counts,axis=1,BIG_NUMBER=1000000)"
   ]
  },
  {
   "cell_type": "markdown",
   "metadata": {},
   "source": [
    "Are things still counting backwards?"
   ]
  },
  {
   "cell_type": "code",
   "execution_count": 44,
   "metadata": {
    "execution": {
     "iopub.execute_input": "2021-01-08T19:21:23.100154Z",
     "iopub.status.busy": "2021-01-08T19:21:23.100015Z",
     "iopub.status.idle": "2021-01-08T19:21:24.470542Z",
     "shell.execute_reply": "2021-01-08T19:21:24.470035Z",
     "shell.execute_reply.started": "2021-01-08T19:21:23.100135Z"
    }
   },
   "outputs": [
    {
     "data": {
      "text/html": [
       "<div>\n",
       "<style scoped>\n",
       "    .dataframe tbody tr th:only-of-type {\n",
       "        vertical-align: middle;\n",
       "    }\n",
       "\n",
       "    .dataframe tbody tr th {\n",
       "        vertical-align: top;\n",
       "    }\n",
       "\n",
       "    .dataframe thead th {\n",
       "        text-align: right;\n",
       "    }\n",
       "</style>\n",
       "<table border=\"1\" class=\"dataframe\">\n",
       "  <thead>\n",
       "    <tr style=\"text-align: right;\">\n",
       "      <th></th>\n",
       "      <th>C/A</th>\n",
       "      <th>UNIT</th>\n",
       "      <th>SCP</th>\n",
       "      <th>STATION</th>\n",
       "      <th>DATETIME_DATE</th>\n",
       "      <th>DAILY_ENTRIES</th>\n",
       "      <th>PREV_DATETIME_DATE</th>\n",
       "      <th>PREV_DAILY_ENTRIES</th>\n",
       "    </tr>\n",
       "  </thead>\n",
       "  <tbody>\n",
       "    <tr>\n",
       "      <th>13916</th>\n",
       "      <td>A011</td>\n",
       "      <td>R080</td>\n",
       "      <td>01-03-00</td>\n",
       "      <td>57 ST-7 AV</td>\n",
       "      <td>2019-08-20</td>\n",
       "      <td>232.0</td>\n",
       "      <td>2019-08-19</td>\n",
       "      <td>885829659.0</td>\n",
       "    </tr>\n",
       "  </tbody>\n",
       "</table>\n",
       "</div>"
      ],
      "text/plain": [
       "        C/A  UNIT       SCP     STATION DATETIME_DATE  DAILY_ENTRIES  \\\n",
       "13916  A011  R080  01-03-00  57 ST-7 AV    2019-08-20          232.0   \n",
       "\n",
       "      PREV_DATETIME_DATE  PREV_DAILY_ENTRIES  \n",
       "13916         2019-08-19         885829659.0  "
      ]
     },
     "execution_count": 44,
     "metadata": {},
     "output_type": "execute_result"
    }
   ],
   "source": [
    "mask = (concat_df_daily_entries[\"C/A\"] == \"A011\") &\\\n",
    "        (concat_df_daily_entries[\"UNIT\"] == \"R080\") &\\\n",
    "        (concat_df_daily_entries[\"SCP\"] == \"01-03-00\") &\\\n",
    "        (concat_df_daily_entries[\"STATION\"] == \"57 ST-7 AV\") &\\\n",
    "        (concat_df_daily_entries[\"DATETIME_DATE\"].astype(str) == \"2019-08-20\")\n",
    "\n",
    "concat_df_daily_entries[mask].head(5)"
   ]
  },
  {
   "cell_type": "code",
   "execution_count": 45,
   "metadata": {
    "execution": {
     "iopub.execute_input": "2021-01-08T19:21:24.471693Z",
     "iopub.status.busy": "2021-01-08T19:21:24.471529Z",
     "iopub.status.idle": "2021-01-08T19:21:24.481781Z",
     "shell.execute_reply": "2021-01-08T19:21:24.481271Z",
     "shell.execute_reply.started": "2021-01-08T19:21:24.471674Z"
    }
   },
   "outputs": [
    {
     "data": {
      "text/html": [
       "<div>\n",
       "<style scoped>\n",
       "    .dataframe tbody tr th:only-of-type {\n",
       "        vertical-align: middle;\n",
       "    }\n",
       "\n",
       "    .dataframe tbody tr th {\n",
       "        vertical-align: top;\n",
       "    }\n",
       "\n",
       "    .dataframe thead th {\n",
       "        text-align: right;\n",
       "    }\n",
       "</style>\n",
       "<table border=\"1\" class=\"dataframe\">\n",
       "  <thead>\n",
       "    <tr style=\"text-align: right;\">\n",
       "      <th></th>\n",
       "      <th>C/A</th>\n",
       "      <th>UNIT</th>\n",
       "      <th>SCP</th>\n",
       "      <th>STATION</th>\n",
       "      <th>DATETIME_DATE</th>\n",
       "      <th>DAILY_ENTRIES</th>\n",
       "      <th>PREV_DATETIME_DATE</th>\n",
       "      <th>PREV_DAILY_ENTRIES</th>\n",
       "    </tr>\n",
       "  </thead>\n",
       "  <tbody>\n",
       "    <tr>\n",
       "      <th>1</th>\n",
       "      <td>A002</td>\n",
       "      <td>R051</td>\n",
       "      <td>02-00-00</td>\n",
       "      <td>59 ST</td>\n",
       "      <td>2018-12-30</td>\n",
       "      <td>992.0</td>\n",
       "      <td>2018-12-29</td>\n",
       "      <td>6889287.0</td>\n",
       "    </tr>\n",
       "    <tr>\n",
       "      <th>2</th>\n",
       "      <td>A002</td>\n",
       "      <td>R051</td>\n",
       "      <td>02-00-00</td>\n",
       "      <td>59 ST</td>\n",
       "      <td>2018-12-31</td>\n",
       "      <td>1667.0</td>\n",
       "      <td>2018-12-30</td>\n",
       "      <td>6890279.0</td>\n",
       "    </tr>\n",
       "    <tr>\n",
       "      <th>3</th>\n",
       "      <td>A002</td>\n",
       "      <td>R051</td>\n",
       "      <td>02-00-00</td>\n",
       "      <td>59 ST</td>\n",
       "      <td>2019-01-01</td>\n",
       "      <td>484.0</td>\n",
       "      <td>2018-12-31</td>\n",
       "      <td>6891946.0</td>\n",
       "    </tr>\n",
       "    <tr>\n",
       "      <th>4</th>\n",
       "      <td>A002</td>\n",
       "      <td>R051</td>\n",
       "      <td>02-00-00</td>\n",
       "      <td>59 ST</td>\n",
       "      <td>2019-01-02</td>\n",
       "      <td>384.0</td>\n",
       "      <td>2019-01-01</td>\n",
       "      <td>6892430.0</td>\n",
       "    </tr>\n",
       "    <tr>\n",
       "      <th>5</th>\n",
       "      <td>A002</td>\n",
       "      <td>R051</td>\n",
       "      <td>02-00-00</td>\n",
       "      <td>59 ST</td>\n",
       "      <td>2019-01-03</td>\n",
       "      <td>2620.0</td>\n",
       "      <td>2019-01-02</td>\n",
       "      <td>6892814.0</td>\n",
       "    </tr>\n",
       "    <tr>\n",
       "      <th>6</th>\n",
       "      <td>A002</td>\n",
       "      <td>R051</td>\n",
       "      <td>02-00-00</td>\n",
       "      <td>59 ST</td>\n",
       "      <td>2019-01-04</td>\n",
       "      <td>28.0</td>\n",
       "      <td>2019-01-03</td>\n",
       "      <td>6895434.0</td>\n",
       "    </tr>\n",
       "    <tr>\n",
       "      <th>7</th>\n",
       "      <td>A002</td>\n",
       "      <td>R051</td>\n",
       "      <td>02-00-00</td>\n",
       "      <td>59 ST</td>\n",
       "      <td>2019-01-05</td>\n",
       "      <td>2278.0</td>\n",
       "      <td>2019-01-04</td>\n",
       "      <td>6895462.0</td>\n",
       "    </tr>\n",
       "    <tr>\n",
       "      <th>8</th>\n",
       "      <td>A002</td>\n",
       "      <td>R051</td>\n",
       "      <td>02-00-00</td>\n",
       "      <td>59 ST</td>\n",
       "      <td>2019-01-06</td>\n",
       "      <td>642.0</td>\n",
       "      <td>2019-01-05</td>\n",
       "      <td>6897740.0</td>\n",
       "    </tr>\n",
       "    <tr>\n",
       "      <th>9</th>\n",
       "      <td>A002</td>\n",
       "      <td>R051</td>\n",
       "      <td>02-00-00</td>\n",
       "      <td>59 ST</td>\n",
       "      <td>2019-01-07</td>\n",
       "      <td>381.0</td>\n",
       "      <td>2019-01-06</td>\n",
       "      <td>6898382.0</td>\n",
       "    </tr>\n",
       "    <tr>\n",
       "      <th>10</th>\n",
       "      <td>A002</td>\n",
       "      <td>R051</td>\n",
       "      <td>02-00-00</td>\n",
       "      <td>59 ST</td>\n",
       "      <td>2019-01-08</td>\n",
       "      <td>1524.0</td>\n",
       "      <td>2019-01-07</td>\n",
       "      <td>6898763.0</td>\n",
       "    </tr>\n",
       "    <tr>\n",
       "      <th>11</th>\n",
       "      <td>A002</td>\n",
       "      <td>R051</td>\n",
       "      <td>02-00-00</td>\n",
       "      <td>59 ST</td>\n",
       "      <td>2019-01-09</td>\n",
       "      <td>1155.0</td>\n",
       "      <td>2019-01-08</td>\n",
       "      <td>6900287.0</td>\n",
       "    </tr>\n",
       "  </tbody>\n",
       "</table>\n",
       "</div>"
      ],
      "text/plain": [
       "     C/A  UNIT       SCP STATION DATETIME_DATE  DAILY_ENTRIES  \\\n",
       "1   A002  R051  02-00-00   59 ST    2018-12-30          992.0   \n",
       "2   A002  R051  02-00-00   59 ST    2018-12-31         1667.0   \n",
       "3   A002  R051  02-00-00   59 ST    2019-01-01          484.0   \n",
       "4   A002  R051  02-00-00   59 ST    2019-01-02          384.0   \n",
       "5   A002  R051  02-00-00   59 ST    2019-01-03         2620.0   \n",
       "6   A002  R051  02-00-00   59 ST    2019-01-04           28.0   \n",
       "7   A002  R051  02-00-00   59 ST    2019-01-05         2278.0   \n",
       "8   A002  R051  02-00-00   59 ST    2019-01-06          642.0   \n",
       "9   A002  R051  02-00-00   59 ST    2019-01-07          381.0   \n",
       "10  A002  R051  02-00-00   59 ST    2019-01-08         1524.0   \n",
       "11  A002  R051  02-00-00   59 ST    2019-01-09         1155.0   \n",
       "\n",
       "   PREV_DATETIME_DATE  PREV_DAILY_ENTRIES  \n",
       "1          2018-12-29           6889287.0  \n",
       "2          2018-12-30           6890279.0  \n",
       "3          2018-12-31           6891946.0  \n",
       "4          2019-01-01           6892430.0  \n",
       "5          2019-01-02           6892814.0  \n",
       "6          2019-01-03           6895434.0  \n",
       "7          2019-01-04           6895462.0  \n",
       "8          2019-01-05           6897740.0  \n",
       "9          2019-01-06           6898382.0  \n",
       "10         2019-01-07           6898763.0  \n",
       "11         2019-01-08           6900287.0  "
      ]
     },
     "execution_count": 45,
     "metadata": {},
     "output_type": "execute_result"
    }
   ],
   "source": [
    "concat_df_daily_entries.head(11)"
   ]
  },
  {
   "cell_type": "markdown",
   "metadata": {},
   "source": [
    "I think I should rename PREV_DAILY_ENTRIES to PREV_DAILY_ENTRIES_COUNT.\n"
   ]
  },
  {
   "cell_type": "code",
   "execution_count": 46,
   "metadata": {
    "execution": {
     "iopub.execute_input": "2021-01-08T19:21:24.482803Z",
     "iopub.status.busy": "2021-01-08T19:21:24.482649Z",
     "iopub.status.idle": "2021-01-08T19:21:24.485505Z",
     "shell.execute_reply": "2021-01-08T19:21:24.484963Z",
     "shell.execute_reply.started": "2021-01-08T19:21:24.482785Z"
    }
   },
   "outputs": [],
   "source": [
    "concat_df_daily_entries.rename(columns={\"PREV_DAILY_ENTRIES\":\"PREV_DAILY_ENTRIES_COUNT\"},inplace=True)"
   ]
  },
  {
   "cell_type": "code",
   "execution_count": 47,
   "metadata": {
    "execution": {
     "iopub.execute_input": "2021-01-08T19:21:24.486537Z",
     "iopub.status.busy": "2021-01-08T19:21:24.486397Z",
     "iopub.status.idle": "2021-01-08T19:21:24.496865Z",
     "shell.execute_reply": "2021-01-08T19:21:24.496347Z",
     "shell.execute_reply.started": "2021-01-08T19:21:24.486519Z"
    }
   },
   "outputs": [
    {
     "data": {
      "text/html": [
       "<div>\n",
       "<style scoped>\n",
       "    .dataframe tbody tr th:only-of-type {\n",
       "        vertical-align: middle;\n",
       "    }\n",
       "\n",
       "    .dataframe tbody tr th {\n",
       "        vertical-align: top;\n",
       "    }\n",
       "\n",
       "    .dataframe thead th {\n",
       "        text-align: right;\n",
       "    }\n",
       "</style>\n",
       "<table border=\"1\" class=\"dataframe\">\n",
       "  <thead>\n",
       "    <tr style=\"text-align: right;\">\n",
       "      <th></th>\n",
       "      <th>C/A</th>\n",
       "      <th>UNIT</th>\n",
       "      <th>SCP</th>\n",
       "      <th>STATION</th>\n",
       "      <th>DATETIME_DATE</th>\n",
       "      <th>DAILY_ENTRIES</th>\n",
       "      <th>PREV_DATETIME_DATE</th>\n",
       "      <th>PREV_DAILY_ENTRIES_COUNT</th>\n",
       "    </tr>\n",
       "  </thead>\n",
       "  <tbody>\n",
       "    <tr>\n",
       "      <th>1</th>\n",
       "      <td>A002</td>\n",
       "      <td>R051</td>\n",
       "      <td>02-00-00</td>\n",
       "      <td>59 ST</td>\n",
       "      <td>2018-12-30</td>\n",
       "      <td>992.0</td>\n",
       "      <td>2018-12-29</td>\n",
       "      <td>6889287.0</td>\n",
       "    </tr>\n",
       "    <tr>\n",
       "      <th>2</th>\n",
       "      <td>A002</td>\n",
       "      <td>R051</td>\n",
       "      <td>02-00-00</td>\n",
       "      <td>59 ST</td>\n",
       "      <td>2018-12-31</td>\n",
       "      <td>1667.0</td>\n",
       "      <td>2018-12-30</td>\n",
       "      <td>6890279.0</td>\n",
       "    </tr>\n",
       "    <tr>\n",
       "      <th>3</th>\n",
       "      <td>A002</td>\n",
       "      <td>R051</td>\n",
       "      <td>02-00-00</td>\n",
       "      <td>59 ST</td>\n",
       "      <td>2019-01-01</td>\n",
       "      <td>484.0</td>\n",
       "      <td>2018-12-31</td>\n",
       "      <td>6891946.0</td>\n",
       "    </tr>\n",
       "    <tr>\n",
       "      <th>4</th>\n",
       "      <td>A002</td>\n",
       "      <td>R051</td>\n",
       "      <td>02-00-00</td>\n",
       "      <td>59 ST</td>\n",
       "      <td>2019-01-02</td>\n",
       "      <td>384.0</td>\n",
       "      <td>2019-01-01</td>\n",
       "      <td>6892430.0</td>\n",
       "    </tr>\n",
       "    <tr>\n",
       "      <th>5</th>\n",
       "      <td>A002</td>\n",
       "      <td>R051</td>\n",
       "      <td>02-00-00</td>\n",
       "      <td>59 ST</td>\n",
       "      <td>2019-01-03</td>\n",
       "      <td>2620.0</td>\n",
       "      <td>2019-01-02</td>\n",
       "      <td>6892814.0</td>\n",
       "    </tr>\n",
       "    <tr>\n",
       "      <th>6</th>\n",
       "      <td>A002</td>\n",
       "      <td>R051</td>\n",
       "      <td>02-00-00</td>\n",
       "      <td>59 ST</td>\n",
       "      <td>2019-01-04</td>\n",
       "      <td>28.0</td>\n",
       "      <td>2019-01-03</td>\n",
       "      <td>6895434.0</td>\n",
       "    </tr>\n",
       "    <tr>\n",
       "      <th>7</th>\n",
       "      <td>A002</td>\n",
       "      <td>R051</td>\n",
       "      <td>02-00-00</td>\n",
       "      <td>59 ST</td>\n",
       "      <td>2019-01-05</td>\n",
       "      <td>2278.0</td>\n",
       "      <td>2019-01-04</td>\n",
       "      <td>6895462.0</td>\n",
       "    </tr>\n",
       "    <tr>\n",
       "      <th>8</th>\n",
       "      <td>A002</td>\n",
       "      <td>R051</td>\n",
       "      <td>02-00-00</td>\n",
       "      <td>59 ST</td>\n",
       "      <td>2019-01-06</td>\n",
       "      <td>642.0</td>\n",
       "      <td>2019-01-05</td>\n",
       "      <td>6897740.0</td>\n",
       "    </tr>\n",
       "    <tr>\n",
       "      <th>9</th>\n",
       "      <td>A002</td>\n",
       "      <td>R051</td>\n",
       "      <td>02-00-00</td>\n",
       "      <td>59 ST</td>\n",
       "      <td>2019-01-07</td>\n",
       "      <td>381.0</td>\n",
       "      <td>2019-01-06</td>\n",
       "      <td>6898382.0</td>\n",
       "    </tr>\n",
       "    <tr>\n",
       "      <th>10</th>\n",
       "      <td>A002</td>\n",
       "      <td>R051</td>\n",
       "      <td>02-00-00</td>\n",
       "      <td>59 ST</td>\n",
       "      <td>2019-01-08</td>\n",
       "      <td>1524.0</td>\n",
       "      <td>2019-01-07</td>\n",
       "      <td>6898763.0</td>\n",
       "    </tr>\n",
       "    <tr>\n",
       "      <th>11</th>\n",
       "      <td>A002</td>\n",
       "      <td>R051</td>\n",
       "      <td>02-00-00</td>\n",
       "      <td>59 ST</td>\n",
       "      <td>2019-01-09</td>\n",
       "      <td>1155.0</td>\n",
       "      <td>2019-01-08</td>\n",
       "      <td>6900287.0</td>\n",
       "    </tr>\n",
       "  </tbody>\n",
       "</table>\n",
       "</div>"
      ],
      "text/plain": [
       "     C/A  UNIT       SCP STATION DATETIME_DATE  DAILY_ENTRIES  \\\n",
       "1   A002  R051  02-00-00   59 ST    2018-12-30          992.0   \n",
       "2   A002  R051  02-00-00   59 ST    2018-12-31         1667.0   \n",
       "3   A002  R051  02-00-00   59 ST    2019-01-01          484.0   \n",
       "4   A002  R051  02-00-00   59 ST    2019-01-02          384.0   \n",
       "5   A002  R051  02-00-00   59 ST    2019-01-03         2620.0   \n",
       "6   A002  R051  02-00-00   59 ST    2019-01-04           28.0   \n",
       "7   A002  R051  02-00-00   59 ST    2019-01-05         2278.0   \n",
       "8   A002  R051  02-00-00   59 ST    2019-01-06          642.0   \n",
       "9   A002  R051  02-00-00   59 ST    2019-01-07          381.0   \n",
       "10  A002  R051  02-00-00   59 ST    2019-01-08         1524.0   \n",
       "11  A002  R051  02-00-00   59 ST    2019-01-09         1155.0   \n",
       "\n",
       "   PREV_DATETIME_DATE  PREV_DAILY_ENTRIES_COUNT  \n",
       "1          2018-12-29                 6889287.0  \n",
       "2          2018-12-30                 6890279.0  \n",
       "3          2018-12-31                 6891946.0  \n",
       "4          2019-01-01                 6892430.0  \n",
       "5          2019-01-02                 6892814.0  \n",
       "6          2019-01-03                 6895434.0  \n",
       "7          2019-01-04                 6895462.0  \n",
       "8          2019-01-05                 6897740.0  \n",
       "9          2019-01-06                 6898382.0  \n",
       "10         2019-01-07                 6898763.0  \n",
       "11         2019-01-08                 6900287.0  "
      ]
     },
     "execution_count": 47,
     "metadata": {},
     "output_type": "execute_result"
    }
   ],
   "source": [
    "concat_df_daily_entries.head(11)"
   ]
  },
  {
   "cell_type": "code",
   "execution_count": 48,
   "metadata": {
    "execution": {
     "iopub.execute_input": "2021-01-08T19:21:24.498000Z",
     "iopub.status.busy": "2021-01-08T19:21:24.497820Z",
     "iopub.status.idle": "2021-01-08T19:21:24.501035Z",
     "shell.execute_reply": "2021-01-08T19:21:24.500529Z",
     "shell.execute_reply.started": "2021-01-08T19:21:24.497982Z"
    }
   },
   "outputs": [
    {
     "data": {
      "text/plain": [
       "(1728991, 8)"
      ]
     },
     "execution_count": 48,
     "metadata": {},
     "output_type": "execute_result"
    }
   ],
   "source": [
    "concat_df_daily_entries.shape"
   ]
  },
  {
   "cell_type": "markdown",
   "metadata": {},
   "source": [
    "# Challenge 4\n",
    "We will plot the daily time series for a single turnstile.\n",
    "In ipython notebook, add this to the beginning of your next cell:\n",
    "\n",
    "```python\n",
    "    %matplotlib inline\n",
    "```\n",
    "\n",
    "This will make your matplotlib graphs integrate nicely with the notebook.\n",
    "\n",
    "To plot the time series, import matplotlib with\n",
    "\n",
    "```python\n",
    "  import matplotlib.pyplot as plt\n",
    "\n",
    "```\n",
    "\n",
    "* Select one turnstile (combination of [C/A, UNIT, SCP, STATION])\n",
    "* Filter your pandas DataFrame so it only represents a single turnstile (make sure that turnstile has entries for multiple days).\n",
    "* Using matplotlib, create a plot with the days on the X axis and the daily entries for that turnstile on the Y axis\n",
    "* You can use the following as a starting point:\n",
    "\n",
    "```python\n",
    " plt.figure(figsize=(10,3))\n",
    "    plt.plot(<days>,<entries>)\n",
    "```"
   ]
  },
  {
   "cell_type": "code",
   "execution_count": 49,
   "metadata": {
    "execution": {
     "iopub.execute_input": "2021-01-08T19:21:24.502079Z",
     "iopub.status.busy": "2021-01-08T19:21:24.501915Z",
     "iopub.status.idle": "2021-01-08T19:21:24.794820Z",
     "shell.execute_reply": "2021-01-08T19:21:24.794292Z",
     "shell.execute_reply.started": "2021-01-08T19:21:24.502060Z"
    }
   },
   "outputs": [],
   "source": [
    "%matplotlib inline"
   ]
  },
  {
   "cell_type": "code",
   "execution_count": 50,
   "metadata": {
    "execution": {
     "iopub.execute_input": "2021-01-08T19:21:24.795866Z",
     "iopub.status.busy": "2021-01-08T19:21:24.795709Z",
     "iopub.status.idle": "2021-01-08T19:21:24.798196Z",
     "shell.execute_reply": "2021-01-08T19:21:24.797629Z",
     "shell.execute_reply.started": "2021-01-08T19:21:24.795848Z"
    }
   },
   "outputs": [],
   "source": [
    "import matplotlib.pyplot as plt"
   ]
  },
  {
   "cell_type": "code",
   "execution_count": 51,
   "metadata": {
    "execution": {
     "iopub.execute_input": "2021-01-08T19:21:24.799242Z",
     "iopub.status.busy": "2021-01-08T19:21:24.799088Z",
     "iopub.status.idle": "2021-01-08T19:21:24.804815Z",
     "shell.execute_reply": "2021-01-08T19:21:24.804348Z",
     "shell.execute_reply.started": "2021-01-08T19:21:24.799222Z"
    }
   },
   "outputs": [
    {
     "name": "stdout",
     "output_type": "stream",
     "text": [
      "<class 'pandas.core.frame.DataFrame'>\n",
      "Int64Index: 1728991 entries, 1 to 1734034\n",
      "Data columns (total 8 columns):\n",
      " #   Column                    Dtype  \n",
      "---  ------                    -----  \n",
      " 0   C/A                       object \n",
      " 1   UNIT                      object \n",
      " 2   SCP                       object \n",
      " 3   STATION                   object \n",
      " 4   DATETIME_DATE             object \n",
      " 5   DAILY_ENTRIES             float64\n",
      " 6   PREV_DATETIME_DATE        object \n",
      " 7   PREV_DAILY_ENTRIES_COUNT  float64\n",
      "dtypes: float64(2), object(6)\n",
      "memory usage: 118.7+ MB\n"
     ]
    }
   ],
   "source": [
    "concat_df_daily_entries.info()"
   ]
  },
  {
   "cell_type": "markdown",
   "metadata": {},
   "source": [
    "Creating a mask so that I can select a single station in the `concat_df_daily_entries` data frame."
   ]
  },
  {
   "cell_type": "code",
   "execution_count": 52,
   "metadata": {
    "execution": {
     "iopub.execute_input": "2021-01-08T19:21:24.805726Z",
     "iopub.status.busy": "2021-01-08T19:21:24.805591Z",
     "iopub.status.idle": "2021-01-08T19:21:25.134577Z",
     "shell.execute_reply": "2021-01-08T19:21:25.133717Z",
     "shell.execute_reply.started": "2021-01-08T19:21:24.805708Z"
    }
   },
   "outputs": [],
   "source": [
    "mask = (concat_df_daily_entries[\"C/A\"] == \"A002\") &\\\n",
    "        (concat_df_daily_entries[\"UNIT\"]==\"R051\") &\\\n",
    "        (concat_df_daily_entries[\"SCP\"]==\"02-00-00\") &\\\n",
    "        (concat_df_daily_entries[\"STATION\"] == \"59 ST\") #&\\\n",
    "#        (concat_df_daily_entries[\"DATETIME_DATE\"] >= pd.Timestamp(year=2019,month=8,day=1)) &\\\n",
    "#        (concat_df_daily_entries[\"DATETIME_DATE\"] < pd.Timestamp(year=2019,month=9,day=1))"
   ]
  },
  {
   "cell_type": "code",
   "execution_count": 53,
   "metadata": {
    "execution": {
     "iopub.execute_input": "2021-01-08T19:21:25.135783Z",
     "iopub.status.busy": "2021-01-08T19:21:25.135556Z",
     "iopub.status.idle": "2021-01-08T19:21:25.149318Z",
     "shell.execute_reply": "2021-01-08T19:21:25.148802Z",
     "shell.execute_reply.started": "2021-01-08T19:21:25.135701Z"
    }
   },
   "outputs": [
    {
     "data": {
      "text/html": [
       "<div>\n",
       "<style scoped>\n",
       "    .dataframe tbody tr th:only-of-type {\n",
       "        vertical-align: middle;\n",
       "    }\n",
       "\n",
       "    .dataframe tbody tr th {\n",
       "        vertical-align: top;\n",
       "    }\n",
       "\n",
       "    .dataframe thead th {\n",
       "        text-align: right;\n",
       "    }\n",
       "</style>\n",
       "<table border=\"1\" class=\"dataframe\">\n",
       "  <thead>\n",
       "    <tr style=\"text-align: right;\">\n",
       "      <th></th>\n",
       "      <th>C/A</th>\n",
       "      <th>UNIT</th>\n",
       "      <th>SCP</th>\n",
       "      <th>STATION</th>\n",
       "      <th>DATETIME_DATE</th>\n",
       "      <th>DAILY_ENTRIES</th>\n",
       "      <th>PREV_DATETIME_DATE</th>\n",
       "      <th>PREV_DAILY_ENTRIES_COUNT</th>\n",
       "    </tr>\n",
       "  </thead>\n",
       "  <tbody>\n",
       "    <tr>\n",
       "      <th>337</th>\n",
       "      <td>A002</td>\n",
       "      <td>R051</td>\n",
       "      <td>02-00-00</td>\n",
       "      <td>59 ST</td>\n",
       "      <td>2019-12-08</td>\n",
       "      <td>1548.0</td>\n",
       "      <td>2019-12-07</td>\n",
       "      <td>7299950.0</td>\n",
       "    </tr>\n",
       "    <tr>\n",
       "      <th>338</th>\n",
       "      <td>A002</td>\n",
       "      <td>R051</td>\n",
       "      <td>02-00-00</td>\n",
       "      <td>59 ST</td>\n",
       "      <td>2019-12-09</td>\n",
       "      <td>426.0</td>\n",
       "      <td>2019-12-08</td>\n",
       "      <td>7301498.0</td>\n",
       "    </tr>\n",
       "    <tr>\n",
       "      <th>339</th>\n",
       "      <td>A002</td>\n",
       "      <td>R051</td>\n",
       "      <td>02-00-00</td>\n",
       "      <td>59 ST</td>\n",
       "      <td>2019-12-10</td>\n",
       "      <td>2518.0</td>\n",
       "      <td>2019-12-09</td>\n",
       "      <td>7301924.0</td>\n",
       "    </tr>\n",
       "    <tr>\n",
       "      <th>340</th>\n",
       "      <td>A002</td>\n",
       "      <td>R051</td>\n",
       "      <td>02-00-00</td>\n",
       "      <td>59 ST</td>\n",
       "      <td>2019-12-11</td>\n",
       "      <td>1476.0</td>\n",
       "      <td>2019-12-10</td>\n",
       "      <td>7304442.0</td>\n",
       "    </tr>\n",
       "    <tr>\n",
       "      <th>341</th>\n",
       "      <td>A002</td>\n",
       "      <td>R051</td>\n",
       "      <td>02-00-00</td>\n",
       "      <td>59 ST</td>\n",
       "      <td>2019-12-12</td>\n",
       "      <td>1580.0</td>\n",
       "      <td>2019-12-11</td>\n",
       "      <td>7305918.0</td>\n",
       "    </tr>\n",
       "    <tr>\n",
       "      <th>342</th>\n",
       "      <td>A002</td>\n",
       "      <td>R051</td>\n",
       "      <td>02-00-00</td>\n",
       "      <td>59 ST</td>\n",
       "      <td>2019-12-13</td>\n",
       "      <td>486.0</td>\n",
       "      <td>2019-12-12</td>\n",
       "      <td>7307498.0</td>\n",
       "    </tr>\n",
       "    <tr>\n",
       "      <th>343</th>\n",
       "      <td>A002</td>\n",
       "      <td>R051</td>\n",
       "      <td>02-00-00</td>\n",
       "      <td>59 ST</td>\n",
       "      <td>2019-12-14</td>\n",
       "      <td>1822.0</td>\n",
       "      <td>2019-12-13</td>\n",
       "      <td>7307984.0</td>\n",
       "    </tr>\n",
       "    <tr>\n",
       "      <th>344</th>\n",
       "      <td>A002</td>\n",
       "      <td>R051</td>\n",
       "      <td>02-00-00</td>\n",
       "      <td>59 ST</td>\n",
       "      <td>2019-12-15</td>\n",
       "      <td>53.0</td>\n",
       "      <td>2019-12-14</td>\n",
       "      <td>7309806.0</td>\n",
       "    </tr>\n",
       "    <tr>\n",
       "      <th>345</th>\n",
       "      <td>A002</td>\n",
       "      <td>R051</td>\n",
       "      <td>02-00-00</td>\n",
       "      <td>59 ST</td>\n",
       "      <td>2019-12-16</td>\n",
       "      <td>736.0</td>\n",
       "      <td>2019-12-15</td>\n",
       "      <td>7309859.0</td>\n",
       "    </tr>\n",
       "    <tr>\n",
       "      <th>346</th>\n",
       "      <td>A002</td>\n",
       "      <td>R051</td>\n",
       "      <td>02-00-00</td>\n",
       "      <td>59 ST</td>\n",
       "      <td>2019-12-17</td>\n",
       "      <td>1500.0</td>\n",
       "      <td>2019-12-16</td>\n",
       "      <td>7310595.0</td>\n",
       "    </tr>\n",
       "    <tr>\n",
       "      <th>347</th>\n",
       "      <td>A002</td>\n",
       "      <td>R051</td>\n",
       "      <td>02-00-00</td>\n",
       "      <td>59 ST</td>\n",
       "      <td>2019-12-18</td>\n",
       "      <td>1536.0</td>\n",
       "      <td>2019-12-17</td>\n",
       "      <td>7312095.0</td>\n",
       "    </tr>\n",
       "    <tr>\n",
       "      <th>348</th>\n",
       "      <td>A002</td>\n",
       "      <td>R051</td>\n",
       "      <td>02-00-00</td>\n",
       "      <td>59 ST</td>\n",
       "      <td>2019-12-19</td>\n",
       "      <td>2931.0</td>\n",
       "      <td>2019-12-18</td>\n",
       "      <td>7313631.0</td>\n",
       "    </tr>\n",
       "    <tr>\n",
       "      <th>349</th>\n",
       "      <td>A002</td>\n",
       "      <td>R051</td>\n",
       "      <td>02-00-00</td>\n",
       "      <td>59 ST</td>\n",
       "      <td>2019-12-20</td>\n",
       "      <td>46.0</td>\n",
       "      <td>2019-12-19</td>\n",
       "      <td>7316562.0</td>\n",
       "    </tr>\n",
       "    <tr>\n",
       "      <th>350</th>\n",
       "      <td>A002</td>\n",
       "      <td>R051</td>\n",
       "      <td>02-00-00</td>\n",
       "      <td>59 ST</td>\n",
       "      <td>2019-12-21</td>\n",
       "      <td>1441.0</td>\n",
       "      <td>2019-12-20</td>\n",
       "      <td>7316608.0</td>\n",
       "    </tr>\n",
       "    <tr>\n",
       "      <th>351</th>\n",
       "      <td>A002</td>\n",
       "      <td>R051</td>\n",
       "      <td>02-00-00</td>\n",
       "      <td>59 ST</td>\n",
       "      <td>2019-12-22</td>\n",
       "      <td>724.0</td>\n",
       "      <td>2019-12-21</td>\n",
       "      <td>7318049.0</td>\n",
       "    </tr>\n",
       "    <tr>\n",
       "      <th>352</th>\n",
       "      <td>A002</td>\n",
       "      <td>R051</td>\n",
       "      <td>02-00-00</td>\n",
       "      <td>59 ST</td>\n",
       "      <td>2019-12-23</td>\n",
       "      <td>615.0</td>\n",
       "      <td>2019-12-22</td>\n",
       "      <td>7318773.0</td>\n",
       "    </tr>\n",
       "    <tr>\n",
       "      <th>353</th>\n",
       "      <td>A002</td>\n",
       "      <td>R051</td>\n",
       "      <td>02-00-00</td>\n",
       "      <td>59 ST</td>\n",
       "      <td>2019-12-24</td>\n",
       "      <td>1803.0</td>\n",
       "      <td>2019-12-23</td>\n",
       "      <td>7319388.0</td>\n",
       "    </tr>\n",
       "    <tr>\n",
       "      <th>354</th>\n",
       "      <td>A002</td>\n",
       "      <td>R051</td>\n",
       "      <td>02-00-00</td>\n",
       "      <td>59 ST</td>\n",
       "      <td>2019-12-25</td>\n",
       "      <td>763.0</td>\n",
       "      <td>2019-12-24</td>\n",
       "      <td>7321191.0</td>\n",
       "    </tr>\n",
       "    <tr>\n",
       "      <th>355</th>\n",
       "      <td>A002</td>\n",
       "      <td>R051</td>\n",
       "      <td>02-00-00</td>\n",
       "      <td>59 ST</td>\n",
       "      <td>2019-12-26</td>\n",
       "      <td>1127.0</td>\n",
       "      <td>2019-12-25</td>\n",
       "      <td>7321954.0</td>\n",
       "    </tr>\n",
       "    <tr>\n",
       "      <th>356</th>\n",
       "      <td>A002</td>\n",
       "      <td>R051</td>\n",
       "      <td>02-00-00</td>\n",
       "      <td>59 ST</td>\n",
       "      <td>2019-12-27</td>\n",
       "      <td>25.0</td>\n",
       "      <td>2019-12-26</td>\n",
       "      <td>7323081.0</td>\n",
       "    </tr>\n",
       "  </tbody>\n",
       "</table>\n",
       "</div>"
      ],
      "text/plain": [
       "      C/A  UNIT       SCP STATION DATETIME_DATE  DAILY_ENTRIES  \\\n",
       "337  A002  R051  02-00-00   59 ST    2019-12-08         1548.0   \n",
       "338  A002  R051  02-00-00   59 ST    2019-12-09          426.0   \n",
       "339  A002  R051  02-00-00   59 ST    2019-12-10         2518.0   \n",
       "340  A002  R051  02-00-00   59 ST    2019-12-11         1476.0   \n",
       "341  A002  R051  02-00-00   59 ST    2019-12-12         1580.0   \n",
       "342  A002  R051  02-00-00   59 ST    2019-12-13          486.0   \n",
       "343  A002  R051  02-00-00   59 ST    2019-12-14         1822.0   \n",
       "344  A002  R051  02-00-00   59 ST    2019-12-15           53.0   \n",
       "345  A002  R051  02-00-00   59 ST    2019-12-16          736.0   \n",
       "346  A002  R051  02-00-00   59 ST    2019-12-17         1500.0   \n",
       "347  A002  R051  02-00-00   59 ST    2019-12-18         1536.0   \n",
       "348  A002  R051  02-00-00   59 ST    2019-12-19         2931.0   \n",
       "349  A002  R051  02-00-00   59 ST    2019-12-20           46.0   \n",
       "350  A002  R051  02-00-00   59 ST    2019-12-21         1441.0   \n",
       "351  A002  R051  02-00-00   59 ST    2019-12-22          724.0   \n",
       "352  A002  R051  02-00-00   59 ST    2019-12-23          615.0   \n",
       "353  A002  R051  02-00-00   59 ST    2019-12-24         1803.0   \n",
       "354  A002  R051  02-00-00   59 ST    2019-12-25          763.0   \n",
       "355  A002  R051  02-00-00   59 ST    2019-12-26         1127.0   \n",
       "356  A002  R051  02-00-00   59 ST    2019-12-27           25.0   \n",
       "\n",
       "    PREV_DATETIME_DATE  PREV_DAILY_ENTRIES_COUNT  \n",
       "337         2019-12-07                 7299950.0  \n",
       "338         2019-12-08                 7301498.0  \n",
       "339         2019-12-09                 7301924.0  \n",
       "340         2019-12-10                 7304442.0  \n",
       "341         2019-12-11                 7305918.0  \n",
       "342         2019-12-12                 7307498.0  \n",
       "343         2019-12-13                 7307984.0  \n",
       "344         2019-12-14                 7309806.0  \n",
       "345         2019-12-15                 7309859.0  \n",
       "346         2019-12-16                 7310595.0  \n",
       "347         2019-12-17                 7312095.0  \n",
       "348         2019-12-18                 7313631.0  \n",
       "349         2019-12-19                 7316562.0  \n",
       "350         2019-12-20                 7316608.0  \n",
       "351         2019-12-21                 7318049.0  \n",
       "352         2019-12-22                 7318773.0  \n",
       "353         2019-12-23                 7319388.0  \n",
       "354         2019-12-24                 7321191.0  \n",
       "355         2019-12-25                 7321954.0  \n",
       "356         2019-12-26                 7323081.0  "
      ]
     },
     "execution_count": 53,
     "metadata": {},
     "output_type": "execute_result"
    }
   ],
   "source": [
    "concat_df_daily_entries[mask].tail(20)"
   ]
  },
  {
   "cell_type": "markdown",
   "metadata": {},
   "source": [
    "Creating a series of `DAILY_ENTRIES` counts from a single turnstile using the `mask` defined above. \n",
    "\n",
    "Will pick the turnstile that is identified by the tuple `(\"A002\",\"R051\",\"02-00-00\",\"59 ST\")`."
   ]
  },
  {
   "cell_type": "code",
   "execution_count": 54,
   "metadata": {
    "execution": {
     "iopub.execute_input": "2021-01-08T19:21:25.150179Z",
     "iopub.status.busy": "2021-01-08T19:21:25.150045Z",
     "iopub.status.idle": "2021-01-08T19:21:25.153337Z",
     "shell.execute_reply": "2021-01-08T19:21:25.152825Z",
     "shell.execute_reply.started": "2021-01-08T19:21:25.150161Z"
    }
   },
   "outputs": [],
   "source": [
    "\n",
    "\n",
    "\n",
    "one_turnstile_daily_entries_series = concat_df_daily_entries[mask][\"DAILY_ENTRIES\"]"
   ]
  },
  {
   "cell_type": "code",
   "execution_count": 55,
   "metadata": {
    "execution": {
     "iopub.execute_input": "2021-01-08T19:21:25.154234Z",
     "iopub.status.busy": "2021-01-08T19:21:25.154093Z",
     "iopub.status.idle": "2021-01-08T19:21:25.157912Z",
     "shell.execute_reply": "2021-01-08T19:21:25.157479Z",
     "shell.execute_reply.started": "2021-01-08T19:21:25.154216Z"
    }
   },
   "outputs": [
    {
     "data": {
      "text/plain": [
       "1     992.0\n",
       "2    1667.0\n",
       "3     484.0\n",
       "4     384.0\n",
       "5    2620.0\n",
       "Name: DAILY_ENTRIES, dtype: float64"
      ]
     },
     "execution_count": 55,
     "metadata": {},
     "output_type": "execute_result"
    }
   ],
   "source": [
    "one_turnstile_daily_entries_series.head()"
   ]
  },
  {
   "cell_type": "code",
   "execution_count": 56,
   "metadata": {
    "execution": {
     "iopub.execute_input": "2021-01-08T19:21:25.158944Z",
     "iopub.status.busy": "2021-01-08T19:21:25.158804Z",
     "iopub.status.idle": "2021-01-08T19:21:25.161975Z",
     "shell.execute_reply": "2021-01-08T19:21:25.161544Z",
     "shell.execute_reply.started": "2021-01-08T19:21:25.158926Z"
    }
   },
   "outputs": [
    {
     "data": {
      "text/plain": [
       "pandas.core.series.Series"
      ]
     },
     "execution_count": 56,
     "metadata": {},
     "output_type": "execute_result"
    }
   ],
   "source": [
    "type(one_turnstile_daily_entries_series)"
   ]
  },
  {
   "cell_type": "code",
   "execution_count": 57,
   "metadata": {
    "execution": {
     "iopub.execute_input": "2021-01-08T19:21:25.162851Z",
     "iopub.status.busy": "2021-01-08T19:21:25.162715Z",
     "iopub.status.idle": "2021-01-08T19:21:32.533847Z",
     "shell.execute_reply": "2021-01-08T19:21:32.533274Z",
     "shell.execute_reply.started": "2021-01-08T19:21:25.162834Z"
    }
   },
   "outputs": [
    {
     "data": {
      "image/png": "[encoded data removed]",
      "text/plain": [
       "<Figure size 5760x864 with 1 Axes>"
      ]
     },
     "metadata": {
      "needs_background": "light"
     },
     "output_type": "display_data"
    }
   ],
   "source": [
    "plt.figure(figsize=(80,12))\n",
    "plt.xticks(rotation=\"vertical\")\n",
    "#note: plt.plot can't directly plot the \"DATETIME_DATE\" column so I convert it\n",
    "#to a string first\n",
    "#plt.plot(linewidth=2)\n",
    "plt.plot(concat_df_daily_entries[mask][\"DATETIME_DATE\"].astype(str), one_turnstile_daily_entries_series,c=\"green\")\n",
    "plt.grid()\n",
    "plt.title(\"Daily Entries for turnstile at A002 R051 02-00-00 59 ST\",fontsize=40,weight=\"bold\",color=\"green\")\n",
    "plt.xlabel(\"Date\", color=\"green\",fontstyle=\"italic\",fontsize=20)\n",
    "plt.ylabel(\"Daily Entries\",weight=\"bold\" ,color=\"green\",fontsize=20)\n",
    "\n",
    "plt.savefig('single_turnstile.png')\n",
    "plt.show()"
   ]
  },
  {
   "cell_type": "markdown",
   "metadata": {},
   "source": [
    "# Challenge 5\n",
    "* So far we've been operating on a single turnstile level, let's combine turnstiles in the same ControlArea/Unit/Station combo. There are some ControlArea/Unit/Station groups that have a single turnstile, but most have multiple turnstiles-- same value for the C/A, UNIT and STATION columns, different values for the SCP column."
   ]
  },
  {
   "cell_type": "code",
   "execution_count": 58,
   "metadata": {
    "execution": {
     "iopub.execute_input": "2021-01-08T19:21:32.535206Z",
     "iopub.status.busy": "2021-01-08T19:21:32.535066Z",
     "iopub.status.idle": "2021-01-08T19:21:32.940823Z",
     "shell.execute_reply": "2021-01-08T19:21:32.940282Z",
     "shell.execute_reply.started": "2021-01-08T19:21:32.535190Z"
    }
   },
   "outputs": [],
   "source": [
    "#summing entry counts across all turnstiles that belong to the same station on a daily basis\n",
    "#SCP is the field the distinguishes different turnstiles in a (C/A,UNIT,STATION)\n",
    "#we want to group all turnstiles together so doing this\n",
    "\n",
    "concat_df_station_daily_entries = concat_df_daily_entries.groupby([\"C/A\",\"UNIT\",\"STATION\",\"DATETIME_DATE\"]).size()"
   ]
  },
  {
   "cell_type": "code",
   "execution_count": 59,
   "metadata": {
    "execution": {
     "iopub.execute_input": "2021-01-08T19:21:32.942024Z",
     "iopub.status.busy": "2021-01-08T19:21:32.941794Z",
     "iopub.status.idle": "2021-01-08T19:21:32.950081Z",
     "shell.execute_reply": "2021-01-08T19:21:32.949484Z",
     "shell.execute_reply.started": "2021-01-08T19:21:32.942001Z"
    }
   },
   "outputs": [
    {
     "data": {
      "text/plain": [
       "C/A   UNIT  STATION  DATETIME_DATE\n",
       "A002  R051  59 ST    2018-12-30       12\n",
       "                     2018-12-31       12\n",
       "                     2019-01-01       12\n",
       "                     2019-01-02       12\n",
       "                     2019-01-03       12\n",
       "dtype: int64"
      ]
     },
     "execution_count": 59,
     "metadata": {},
     "output_type": "execute_result"
    }
   ],
   "source": [
    "concat_df_station_daily_entries.head()"
   ]
  },
  {
   "cell_type": "code",
   "execution_count": 60,
   "metadata": {
    "execution": {
     "iopub.execute_input": "2021-01-08T19:21:32.951259Z",
     "iopub.status.busy": "2021-01-08T19:21:32.951087Z",
     "iopub.status.idle": "2021-01-08T19:21:32.954385Z",
     "shell.execute_reply": "2021-01-08T19:21:32.953941Z",
     "shell.execute_reply.started": "2021-01-08T19:21:32.951239Z"
    }
   },
   "outputs": [
    {
     "data": {
      "text/plain": [
       "pandas.core.series.Series"
      ]
     },
     "execution_count": 60,
     "metadata": {},
     "output_type": "execute_result"
    }
   ],
   "source": [
    "type(concat_df_station_daily_entries)"
   ]
  },
  {
   "cell_type": "code",
   "execution_count": 61,
   "metadata": {
    "execution": {
     "iopub.execute_input": "2021-01-08T19:21:32.955341Z",
     "iopub.status.busy": "2021-01-08T19:21:32.955207Z",
     "iopub.status.idle": "2021-01-08T19:21:32.989776Z",
     "shell.execute_reply": "2021-01-08T19:21:32.989249Z",
     "shell.execute_reply.started": "2021-01-08T19:21:32.955324Z"
    }
   },
   "outputs": [
    {
     "data": {
      "text/html": [
       "<div>\n",
       "<style scoped>\n",
       "    .dataframe tbody tr th:only-of-type {\n",
       "        vertical-align: middle;\n",
       "    }\n",
       "\n",
       "    .dataframe tbody tr th {\n",
       "        vertical-align: top;\n",
       "    }\n",
       "\n",
       "    .dataframe thead th {\n",
       "        text-align: right;\n",
       "    }\n",
       "</style>\n",
       "<table border=\"1\" class=\"dataframe\">\n",
       "  <thead>\n",
       "    <tr style=\"text-align: right;\">\n",
       "      <th></th>\n",
       "      <th>C/A</th>\n",
       "      <th>UNIT</th>\n",
       "      <th>STATION</th>\n",
       "      <th>DATETIME_DATE</th>\n",
       "      <th>0</th>\n",
       "    </tr>\n",
       "  </thead>\n",
       "  <tbody>\n",
       "    <tr>\n",
       "      <th>0</th>\n",
       "      <td>A002</td>\n",
       "      <td>R051</td>\n",
       "      <td>59 ST</td>\n",
       "      <td>2018-12-30</td>\n",
       "      <td>12</td>\n",
       "    </tr>\n",
       "    <tr>\n",
       "      <th>1</th>\n",
       "      <td>A002</td>\n",
       "      <td>R051</td>\n",
       "      <td>59 ST</td>\n",
       "      <td>2018-12-31</td>\n",
       "      <td>12</td>\n",
       "    </tr>\n",
       "    <tr>\n",
       "      <th>2</th>\n",
       "      <td>A002</td>\n",
       "      <td>R051</td>\n",
       "      <td>59 ST</td>\n",
       "      <td>2019-01-01</td>\n",
       "      <td>12</td>\n",
       "    </tr>\n",
       "    <tr>\n",
       "      <th>3</th>\n",
       "      <td>A002</td>\n",
       "      <td>R051</td>\n",
       "      <td>59 ST</td>\n",
       "      <td>2019-01-02</td>\n",
       "      <td>12</td>\n",
       "    </tr>\n",
       "    <tr>\n",
       "      <th>4</th>\n",
       "      <td>A002</td>\n",
       "      <td>R051</td>\n",
       "      <td>59 ST</td>\n",
       "      <td>2019-01-03</td>\n",
       "      <td>12</td>\n",
       "    </tr>\n",
       "    <tr>\n",
       "      <th>...</th>\n",
       "      <td>...</td>\n",
       "      <td>...</td>\n",
       "      <td>...</td>\n",
       "      <td>...</td>\n",
       "      <td>...</td>\n",
       "    </tr>\n",
       "    <tr>\n",
       "      <th>264623</th>\n",
       "      <td>TRAM2</td>\n",
       "      <td>R469</td>\n",
       "      <td>RIT-ROOSEVELT</td>\n",
       "      <td>2019-12-23</td>\n",
       "      <td>6</td>\n",
       "    </tr>\n",
       "    <tr>\n",
       "      <th>264624</th>\n",
       "      <td>TRAM2</td>\n",
       "      <td>R469</td>\n",
       "      <td>RIT-ROOSEVELT</td>\n",
       "      <td>2019-12-24</td>\n",
       "      <td>6</td>\n",
       "    </tr>\n",
       "    <tr>\n",
       "      <th>264625</th>\n",
       "      <td>TRAM2</td>\n",
       "      <td>R469</td>\n",
       "      <td>RIT-ROOSEVELT</td>\n",
       "      <td>2019-12-25</td>\n",
       "      <td>6</td>\n",
       "    </tr>\n",
       "    <tr>\n",
       "      <th>264626</th>\n",
       "      <td>TRAM2</td>\n",
       "      <td>R469</td>\n",
       "      <td>RIT-ROOSEVELT</td>\n",
       "      <td>2019-12-26</td>\n",
       "      <td>6</td>\n",
       "    </tr>\n",
       "    <tr>\n",
       "      <th>264627</th>\n",
       "      <td>TRAM2</td>\n",
       "      <td>R469</td>\n",
       "      <td>RIT-ROOSEVELT</td>\n",
       "      <td>2019-12-27</td>\n",
       "      <td>6</td>\n",
       "    </tr>\n",
       "  </tbody>\n",
       "</table>\n",
       "<p>264628 rows × 5 columns</p>\n",
       "</div>"
      ],
      "text/plain": [
       "          C/A  UNIT        STATION DATETIME_DATE   0\n",
       "0        A002  R051          59 ST    2018-12-30  12\n",
       "1        A002  R051          59 ST    2018-12-31  12\n",
       "2        A002  R051          59 ST    2019-01-01  12\n",
       "3        A002  R051          59 ST    2019-01-02  12\n",
       "4        A002  R051          59 ST    2019-01-03  12\n",
       "...       ...   ...            ...           ...  ..\n",
       "264623  TRAM2  R469  RIT-ROOSEVELT    2019-12-23   6\n",
       "264624  TRAM2  R469  RIT-ROOSEVELT    2019-12-24   6\n",
       "264625  TRAM2  R469  RIT-ROOSEVELT    2019-12-25   6\n",
       "264626  TRAM2  R469  RIT-ROOSEVELT    2019-12-26   6\n",
       "264627  TRAM2  R469  RIT-ROOSEVELT    2019-12-27   6\n",
       "\n",
       "[264628 rows x 5 columns]"
      ]
     },
     "execution_count": 61,
     "metadata": {},
     "output_type": "execute_result"
    }
   ],
   "source": [
    "concat_df_station_daily_entries.reset_index()"
   ]
  },
  {
   "cell_type": "markdown",
   "metadata": {},
   "source": [
    "# Challenge 6\n",
    "Similarly, combine everything in each station, and come up with daily time series for each STATION, by adding up all the turnstiles in a station.Similarly, combine everything in each station, and come up with daily time series for each STATION, by adding up all the turnstiles in a station."
   ]
  },
  {
   "cell_type": "code",
   "execution_count": 62,
   "metadata": {
    "execution": {
     "iopub.execute_input": "2021-01-08T19:21:32.990903Z",
     "iopub.status.busy": "2021-01-08T19:21:32.990743Z",
     "iopub.status.idle": "2021-01-08T19:21:33.211509Z",
     "shell.execute_reply": "2021-01-08T19:21:33.211028Z",
     "shell.execute_reply.started": "2021-01-08T19:21:32.990884Z"
    }
   },
   "outputs": [],
   "source": [
    "concat_df_station_daily_entries = (concat_df_daily_entries.groupby([\"STATION\",\"DATETIME_DATE\"])[\"DAILY_ENTRIES\"].sum().reset_index())"
   ]
  },
  {
   "cell_type": "code",
   "execution_count": 63,
   "metadata": {
    "execution": {
     "iopub.execute_input": "2021-01-08T19:21:33.212474Z",
     "iopub.status.busy": "2021-01-08T19:21:33.212337Z",
     "iopub.status.idle": "2021-01-08T19:21:33.220549Z",
     "shell.execute_reply": "2021-01-08T19:21:33.219899Z",
     "shell.execute_reply.started": "2021-01-08T19:21:33.212456Z"
    }
   },
   "outputs": [
    {
     "data": {
      "text/html": [
       "<div>\n",
       "<style scoped>\n",
       "    .dataframe tbody tr th:only-of-type {\n",
       "        vertical-align: middle;\n",
       "    }\n",
       "\n",
       "    .dataframe tbody tr th {\n",
       "        vertical-align: top;\n",
       "    }\n",
       "\n",
       "    .dataframe thead th {\n",
       "        text-align: right;\n",
       "    }\n",
       "</style>\n",
       "<table border=\"1\" class=\"dataframe\">\n",
       "  <thead>\n",
       "    <tr style=\"text-align: right;\">\n",
       "      <th></th>\n",
       "      <th>STATION</th>\n",
       "      <th>DATETIME_DATE</th>\n",
       "      <th>DAILY_ENTRIES</th>\n",
       "    </tr>\n",
       "  </thead>\n",
       "  <tbody>\n",
       "    <tr>\n",
       "      <th>0</th>\n",
       "      <td>1 AV</td>\n",
       "      <td>2018-12-30</td>\n",
       "      <td>14118.0</td>\n",
       "    </tr>\n",
       "    <tr>\n",
       "      <th>1</th>\n",
       "      <td>1 AV</td>\n",
       "      <td>2018-12-31</td>\n",
       "      <td>12737.0</td>\n",
       "    </tr>\n",
       "    <tr>\n",
       "      <th>2</th>\n",
       "      <td>1 AV</td>\n",
       "      <td>2019-01-01</td>\n",
       "      <td>12257.0</td>\n",
       "    </tr>\n",
       "    <tr>\n",
       "      <th>3</th>\n",
       "      <td>1 AV</td>\n",
       "      <td>2019-01-02</td>\n",
       "      <td>12102.0</td>\n",
       "    </tr>\n",
       "    <tr>\n",
       "      <th>4</th>\n",
       "      <td>1 AV</td>\n",
       "      <td>2019-01-03</td>\n",
       "      <td>16355.0</td>\n",
       "    </tr>\n",
       "    <tr>\n",
       "      <th>5</th>\n",
       "      <td>1 AV</td>\n",
       "      <td>2019-01-04</td>\n",
       "      <td>27953.0</td>\n",
       "    </tr>\n",
       "    <tr>\n",
       "      <th>6</th>\n",
       "      <td>1 AV</td>\n",
       "      <td>2019-01-05</td>\n",
       "      <td>17323.0</td>\n",
       "    </tr>\n",
       "    <tr>\n",
       "      <th>7</th>\n",
       "      <td>1 AV</td>\n",
       "      <td>2019-01-06</td>\n",
       "      <td>12390.0</td>\n",
       "    </tr>\n",
       "    <tr>\n",
       "      <th>8</th>\n",
       "      <td>1 AV</td>\n",
       "      <td>2019-01-07</td>\n",
       "      <td>11351.0</td>\n",
       "    </tr>\n",
       "    <tr>\n",
       "      <th>9</th>\n",
       "      <td>1 AV</td>\n",
       "      <td>2019-01-08</td>\n",
       "      <td>28845.0</td>\n",
       "    </tr>\n",
       "    <tr>\n",
       "      <th>10</th>\n",
       "      <td>1 AV</td>\n",
       "      <td>2019-01-09</td>\n",
       "      <td>11885.0</td>\n",
       "    </tr>\n",
       "    <tr>\n",
       "      <th>11</th>\n",
       "      <td>1 AV</td>\n",
       "      <td>2019-01-10</td>\n",
       "      <td>21096.0</td>\n",
       "    </tr>\n",
       "    <tr>\n",
       "      <th>12</th>\n",
       "      <td>1 AV</td>\n",
       "      <td>2019-01-11</td>\n",
       "      <td>20392.0</td>\n",
       "    </tr>\n",
       "    <tr>\n",
       "      <th>13</th>\n",
       "      <td>1 AV</td>\n",
       "      <td>2019-01-12</td>\n",
       "      <td>23294.0</td>\n",
       "    </tr>\n",
       "    <tr>\n",
       "      <th>14</th>\n",
       "      <td>1 AV</td>\n",
       "      <td>2019-01-13</td>\n",
       "      <td>14557.0</td>\n",
       "    </tr>\n",
       "    <tr>\n",
       "      <th>15</th>\n",
       "      <td>1 AV</td>\n",
       "      <td>2019-01-14</td>\n",
       "      <td>13927.0</td>\n",
       "    </tr>\n",
       "    <tr>\n",
       "      <th>16</th>\n",
       "      <td>1 AV</td>\n",
       "      <td>2019-01-15</td>\n",
       "      <td>9576.0</td>\n",
       "    </tr>\n",
       "    <tr>\n",
       "      <th>17</th>\n",
       "      <td>1 AV</td>\n",
       "      <td>2019-01-16</td>\n",
       "      <td>26327.0</td>\n",
       "    </tr>\n",
       "    <tr>\n",
       "      <th>18</th>\n",
       "      <td>1 AV</td>\n",
       "      <td>2019-01-17</td>\n",
       "      <td>24054.0</td>\n",
       "    </tr>\n",
       "    <tr>\n",
       "      <th>19</th>\n",
       "      <td>1 AV</td>\n",
       "      <td>2019-01-18</td>\n",
       "      <td>17451.0</td>\n",
       "    </tr>\n",
       "  </tbody>\n",
       "</table>\n",
       "</div>"
      ],
      "text/plain": [
       "   STATION DATETIME_DATE  DAILY_ENTRIES\n",
       "0     1 AV    2018-12-30        14118.0\n",
       "1     1 AV    2018-12-31        12737.0\n",
       "2     1 AV    2019-01-01        12257.0\n",
       "3     1 AV    2019-01-02        12102.0\n",
       "4     1 AV    2019-01-03        16355.0\n",
       "5     1 AV    2019-01-04        27953.0\n",
       "6     1 AV    2019-01-05        17323.0\n",
       "7     1 AV    2019-01-06        12390.0\n",
       "8     1 AV    2019-01-07        11351.0\n",
       "9     1 AV    2019-01-08        28845.0\n",
       "10    1 AV    2019-01-09        11885.0\n",
       "11    1 AV    2019-01-10        21096.0\n",
       "12    1 AV    2019-01-11        20392.0\n",
       "13    1 AV    2019-01-12        23294.0\n",
       "14    1 AV    2019-01-13        14557.0\n",
       "15    1 AV    2019-01-14        13927.0\n",
       "16    1 AV    2019-01-15         9576.0\n",
       "17    1 AV    2019-01-16        26327.0\n",
       "18    1 AV    2019-01-17        24054.0\n",
       "19    1 AV    2019-01-18        17451.0"
      ]
     },
     "execution_count": 63,
     "metadata": {},
     "output_type": "execute_result"
    }
   ],
   "source": [
    "concat_df_station_daily_entries.head(20)\n"
   ]
  },
  {
   "cell_type": "code",
   "execution_count": 64,
   "metadata": {
    "execution": {
     "iopub.execute_input": "2021-01-08T19:21:33.221643Z",
     "iopub.status.busy": "2021-01-08T19:21:33.221425Z",
     "iopub.status.idle": "2021-01-08T19:21:33.224754Z",
     "shell.execute_reply": "2021-01-08T19:21:33.224285Z",
     "shell.execute_reply.started": "2021-01-08T19:21:33.221620Z"
    }
   },
   "outputs": [
    {
     "data": {
      "text/plain": [
       "pandas.core.frame.DataFrame"
      ]
     },
     "execution_count": 64,
     "metadata": {},
     "output_type": "execute_result"
    }
   ],
   "source": [
    "type(concat_df_station_daily_entries)"
   ]
  },
  {
   "cell_type": "code",
   "execution_count": 65,
   "metadata": {
    "execution": {
     "iopub.execute_input": "2021-01-08T19:21:33.225842Z",
     "iopub.status.busy": "2021-01-08T19:21:33.225682Z",
     "iopub.status.idle": "2021-01-08T19:21:33.231026Z",
     "shell.execute_reply": "2021-01-08T19:21:33.230471Z",
     "shell.execute_reply.started": "2021-01-08T19:21:33.225823Z"
    }
   },
   "outputs": [
    {
     "data": {
      "text/plain": [
       "Index(['STATION', 'DATETIME_DATE', 'DAILY_ENTRIES'], dtype='object')"
      ]
     },
     "execution_count": 65,
     "metadata": {},
     "output_type": "execute_result"
    }
   ],
   "source": [
    "concat_df_station_daily_entries.columns"
   ]
  },
  {
   "cell_type": "code",
   "execution_count": 66,
   "metadata": {
    "execution": {
     "iopub.execute_input": "2021-01-08T19:21:33.232178Z",
     "iopub.status.busy": "2021-01-08T19:21:33.232010Z",
     "iopub.status.idle": "2021-01-08T19:21:33.241217Z",
     "shell.execute_reply": "2021-01-08T19:21:33.240632Z",
     "shell.execute_reply.started": "2021-01-08T19:21:33.232158Z"
    }
   },
   "outputs": [
    {
     "data": {
      "text/html": [
       "<div>\n",
       "<style scoped>\n",
       "    .dataframe tbody tr th:only-of-type {\n",
       "        vertical-align: middle;\n",
       "    }\n",
       "\n",
       "    .dataframe tbody tr th {\n",
       "        vertical-align: top;\n",
       "    }\n",
       "\n",
       "    .dataframe thead th {\n",
       "        text-align: right;\n",
       "    }\n",
       "</style>\n",
       "<table border=\"1\" class=\"dataframe\">\n",
       "  <thead>\n",
       "    <tr style=\"text-align: right;\">\n",
       "      <th></th>\n",
       "      <th>STATION</th>\n",
       "      <th>DATETIME_DATE</th>\n",
       "      <th>DAILY_ENTRIES</th>\n",
       "    </tr>\n",
       "  </thead>\n",
       "  <tbody>\n",
       "    <tr>\n",
       "      <th>0</th>\n",
       "      <td>1 AV</td>\n",
       "      <td>2018-12-30</td>\n",
       "      <td>14118.0</td>\n",
       "    </tr>\n",
       "    <tr>\n",
       "      <th>1</th>\n",
       "      <td>1 AV</td>\n",
       "      <td>2018-12-31</td>\n",
       "      <td>12737.0</td>\n",
       "    </tr>\n",
       "    <tr>\n",
       "      <th>2</th>\n",
       "      <td>1 AV</td>\n",
       "      <td>2019-01-01</td>\n",
       "      <td>12257.0</td>\n",
       "    </tr>\n",
       "    <tr>\n",
       "      <th>3</th>\n",
       "      <td>1 AV</td>\n",
       "      <td>2019-01-02</td>\n",
       "      <td>12102.0</td>\n",
       "    </tr>\n",
       "    <tr>\n",
       "      <th>4</th>\n",
       "      <td>1 AV</td>\n",
       "      <td>2019-01-03</td>\n",
       "      <td>16355.0</td>\n",
       "    </tr>\n",
       "    <tr>\n",
       "      <th>...</th>\n",
       "      <td>...</td>\n",
       "      <td>...</td>\n",
       "      <td>...</td>\n",
       "    </tr>\n",
       "    <tr>\n",
       "      <th>134306</th>\n",
       "      <td>ZEREGA AV</td>\n",
       "      <td>2019-12-23</td>\n",
       "      <td>1877.0</td>\n",
       "    </tr>\n",
       "    <tr>\n",
       "      <th>134307</th>\n",
       "      <td>ZEREGA AV</td>\n",
       "      <td>2019-12-24</td>\n",
       "      <td>2994.0</td>\n",
       "    </tr>\n",
       "    <tr>\n",
       "      <th>134308</th>\n",
       "      <td>ZEREGA AV</td>\n",
       "      <td>2019-12-25</td>\n",
       "      <td>602.0</td>\n",
       "    </tr>\n",
       "    <tr>\n",
       "      <th>134309</th>\n",
       "      <td>ZEREGA AV</td>\n",
       "      <td>2019-12-26</td>\n",
       "      <td>2371.0</td>\n",
       "    </tr>\n",
       "    <tr>\n",
       "      <th>134310</th>\n",
       "      <td>ZEREGA AV</td>\n",
       "      <td>2019-12-27</td>\n",
       "      <td>1201.0</td>\n",
       "    </tr>\n",
       "  </tbody>\n",
       "</table>\n",
       "<p>134311 rows × 3 columns</p>\n",
       "</div>"
      ],
      "text/plain": [
       "          STATION DATETIME_DATE  DAILY_ENTRIES\n",
       "0            1 AV    2018-12-30        14118.0\n",
       "1            1 AV    2018-12-31        12737.0\n",
       "2            1 AV    2019-01-01        12257.0\n",
       "3            1 AV    2019-01-02        12102.0\n",
       "4            1 AV    2019-01-03        16355.0\n",
       "...           ...           ...            ...\n",
       "134306  ZEREGA AV    2019-12-23         1877.0\n",
       "134307  ZEREGA AV    2019-12-24         2994.0\n",
       "134308  ZEREGA AV    2019-12-25          602.0\n",
       "134309  ZEREGA AV    2019-12-26         2371.0\n",
       "134310  ZEREGA AV    2019-12-27         1201.0\n",
       "\n",
       "[134311 rows x 3 columns]"
      ]
     },
     "execution_count": 66,
     "metadata": {},
     "output_type": "execute_result"
    }
   ],
   "source": [
    "concat_df_station_daily_entries"
   ]
  },
  {
   "cell_type": "code",
   "execution_count": 67,
   "metadata": {
    "execution": {
     "iopub.execute_input": "2021-01-08T19:21:33.242488Z",
     "iopub.status.busy": "2021-01-08T19:21:33.242151Z",
     "iopub.status.idle": "2021-01-08T19:21:33.267230Z",
     "shell.execute_reply": "2021-01-08T19:21:33.266735Z",
     "shell.execute_reply.started": "2021-01-08T19:21:33.242467Z"
    }
   },
   "outputs": [
    {
     "data": {
      "text/html": [
       "<div>\n",
       "<style scoped>\n",
       "    .dataframe tbody tr th:only-of-type {\n",
       "        vertical-align: middle;\n",
       "    }\n",
       "\n",
       "    .dataframe tbody tr th {\n",
       "        vertical-align: top;\n",
       "    }\n",
       "\n",
       "    .dataframe thead th {\n",
       "        text-align: right;\n",
       "    }\n",
       "</style>\n",
       "<table border=\"1\" class=\"dataframe\">\n",
       "  <thead>\n",
       "    <tr style=\"text-align: right;\">\n",
       "      <th></th>\n",
       "      <th>STATION</th>\n",
       "      <th>DATETIME_DATE</th>\n",
       "      <th>DAILY_ENTRIES</th>\n",
       "    </tr>\n",
       "  </thead>\n",
       "  <tbody>\n",
       "    <tr>\n",
       "      <th>161</th>\n",
       "      <td>1 AV</td>\n",
       "      <td>2019-06-09</td>\n",
       "      <td>8991.0</td>\n",
       "    </tr>\n",
       "  </tbody>\n",
       "</table>\n",
       "</div>"
      ],
      "text/plain": [
       "    STATION DATETIME_DATE  DAILY_ENTRIES\n",
       "161    1 AV    2019-06-09         8991.0"
      ]
     },
     "execution_count": 67,
     "metadata": {},
     "output_type": "execute_result"
    }
   ],
   "source": [
    "mask = (concat_df_station_daily_entries[\"STATION\"] == \"1 AV\") &\\\n",
    "(concat_df_station_daily_entries[\"DATETIME_DATE\"] == pd.Timestamp(year=2019, month=6, day=9))\n",
    "concat_df_station_daily_entries[mask].head()"
   ]
  },
  {
   "cell_type": "markdown",
   "metadata": {},
   "source": [
    "So station \"1 AV\" had 8991 entries on 6/9/2019"
   ]
  },
  {
   "cell_type": "markdown",
   "metadata": {},
   "source": [
    "# Challenge 7\n",
    "Plot the daily time series for a station.\n",
    "\n"
   ]
  },
  {
   "cell_type": "code",
   "execution_count": 68,
   "metadata": {
    "execution": {
     "iopub.execute_input": "2021-01-08T19:21:33.268158Z",
     "iopub.status.busy": "2021-01-08T19:21:33.268018Z",
     "iopub.status.idle": "2021-01-08T19:21:33.277452Z",
     "shell.execute_reply": "2021-01-08T19:21:33.276826Z",
     "shell.execute_reply.started": "2021-01-08T19:21:33.268140Z"
    }
   },
   "outputs": [],
   "source": [
    "mask = (concat_df_station_daily_entries[\"STATION\"] == \"59 ST\")\n"
   ]
  },
  {
   "cell_type": "code",
   "execution_count": 69,
   "metadata": {
    "execution": {
     "iopub.execute_input": "2021-01-08T19:21:33.278473Z",
     "iopub.status.busy": "2021-01-08T19:21:33.278308Z",
     "iopub.status.idle": "2021-01-08T19:21:33.281701Z",
     "shell.execute_reply": "2021-01-08T19:21:33.281034Z",
     "shell.execute_reply.started": "2021-01-08T19:21:33.278454Z"
    }
   },
   "outputs": [],
   "source": [
    "\n",
    "one_station_daily_entries_series = concat_df_station_daily_entries[mask][\"DAILY_ENTRIES\"]"
   ]
  },
  {
   "cell_type": "code",
   "execution_count": 70,
   "metadata": {
    "execution": {
     "iopub.execute_input": "2021-01-08T19:21:33.282813Z",
     "iopub.status.busy": "2021-01-08T19:21:33.282649Z",
     "iopub.status.idle": "2021-01-08T19:21:40.696479Z",
     "shell.execute_reply": "2021-01-08T19:21:40.695803Z",
     "shell.execute_reply.started": "2021-01-08T19:21:33.282794Z"
    }
   },
   "outputs": [
    {
     "data": {
      "image/png": "[encoded data removed]",
      "text/plain": [
       "<Figure size 7200x1440 with 1 Axes>"
      ]
     },
     "metadata": {
      "needs_background": "light"
     },
     "output_type": "display_data"
    }
   ],
   "source": [
    "plt.figure(figsize=(100,20))\n",
    "plt.xticks(rotation=\"vertical\")\n",
    "#note: plt.plot can't directly plot the \"DATETIME_DATE\" column so I convert it\n",
    "#to a string first\n",
    "plt.plot(concat_df_station_daily_entries[mask][\"DATETIME_DATE\"].astype(str),one_station_daily_entries_series)\n",
    "plt.title(\"Daily Entries for Station 59 ST\")\n",
    "plt.xlabel(\"Date\")\n",
    "plt.ylabel(\"Daily Entries\")\n",
    "plt.savefig('daily_entries_station_59ST.png')\n",
    "plt.show()"
   ]
  },
  {
   "cell_type": "markdown",
   "metadata": {},
   "source": [
    "# Challenge 8\n",
    "\n",
    "* Make one list of counts for one week for one station. Monday's count, Tuesday's count, etc. so it's a list of 7 counts. Make the same list for another week, and another week, and another week. (hint: [pandas datetime day of week may be useful](https://pandas.pydata.org/pandas-docs/stable/reference/api/pandas.Series.dt.dayofweek.html#pandas.Series.dt.dayofweek)\n",
    "\n",
    "`plt.plot(week_count_list)` for every week_count_list you created this way. You should get a rainbow plot of weekly commute numbers on top of each other."
   ]
  },
  {
   "cell_type": "code",
   "execution_count": 71,
   "metadata": {
    "execution": {
     "iopub.execute_input": "2021-01-08T19:21:40.697993Z",
     "iopub.status.busy": "2021-01-08T19:21:40.697800Z",
     "iopub.status.idle": "2021-01-08T19:21:40.701625Z",
     "shell.execute_reply": "2021-01-08T19:21:40.701166Z",
     "shell.execute_reply.started": "2021-01-08T19:21:40.697962Z"
    }
   },
   "outputs": [
    {
     "data": {
      "text/plain": [
       "pandas.core.frame.DataFrame"
      ]
     },
     "execution_count": 71,
     "metadata": {},
     "output_type": "execute_result"
    }
   ],
   "source": [
    "type(concat_df_station_daily_entries)"
   ]
  },
  {
   "cell_type": "code",
   "execution_count": 72,
   "metadata": {
    "execution": {
     "iopub.execute_input": "2021-01-08T19:21:40.703730Z",
     "iopub.status.busy": "2021-01-08T19:21:40.703470Z",
     "iopub.status.idle": "2021-01-08T19:21:40.712178Z",
     "shell.execute_reply": "2021-01-08T19:21:40.711765Z",
     "shell.execute_reply.started": "2021-01-08T19:21:40.703697Z"
    }
   },
   "outputs": [
    {
     "data": {
      "text/html": [
       "<div>\n",
       "<style scoped>\n",
       "    .dataframe tbody tr th:only-of-type {\n",
       "        vertical-align: middle;\n",
       "    }\n",
       "\n",
       "    .dataframe tbody tr th {\n",
       "        vertical-align: top;\n",
       "    }\n",
       "\n",
       "    .dataframe thead th {\n",
       "        text-align: right;\n",
       "    }\n",
       "</style>\n",
       "<table border=\"1\" class=\"dataframe\">\n",
       "  <thead>\n",
       "    <tr style=\"text-align: right;\">\n",
       "      <th></th>\n",
       "      <th>STATION</th>\n",
       "      <th>DATETIME_DATE</th>\n",
       "      <th>DAILY_ENTRIES</th>\n",
       "    </tr>\n",
       "  </thead>\n",
       "  <tbody>\n",
       "    <tr>\n",
       "      <th>0</th>\n",
       "      <td>1 AV</td>\n",
       "      <td>2018-12-30</td>\n",
       "      <td>14118.0</td>\n",
       "    </tr>\n",
       "    <tr>\n",
       "      <th>1</th>\n",
       "      <td>1 AV</td>\n",
       "      <td>2018-12-31</td>\n",
       "      <td>12737.0</td>\n",
       "    </tr>\n",
       "    <tr>\n",
       "      <th>2</th>\n",
       "      <td>1 AV</td>\n",
       "      <td>2019-01-01</td>\n",
       "      <td>12257.0</td>\n",
       "    </tr>\n",
       "    <tr>\n",
       "      <th>3</th>\n",
       "      <td>1 AV</td>\n",
       "      <td>2019-01-02</td>\n",
       "      <td>12102.0</td>\n",
       "    </tr>\n",
       "    <tr>\n",
       "      <th>4</th>\n",
       "      <td>1 AV</td>\n",
       "      <td>2019-01-03</td>\n",
       "      <td>16355.0</td>\n",
       "    </tr>\n",
       "    <tr>\n",
       "      <th>...</th>\n",
       "      <td>...</td>\n",
       "      <td>...</td>\n",
       "      <td>...</td>\n",
       "    </tr>\n",
       "    <tr>\n",
       "      <th>134306</th>\n",
       "      <td>ZEREGA AV</td>\n",
       "      <td>2019-12-23</td>\n",
       "      <td>1877.0</td>\n",
       "    </tr>\n",
       "    <tr>\n",
       "      <th>134307</th>\n",
       "      <td>ZEREGA AV</td>\n",
       "      <td>2019-12-24</td>\n",
       "      <td>2994.0</td>\n",
       "    </tr>\n",
       "    <tr>\n",
       "      <th>134308</th>\n",
       "      <td>ZEREGA AV</td>\n",
       "      <td>2019-12-25</td>\n",
       "      <td>602.0</td>\n",
       "    </tr>\n",
       "    <tr>\n",
       "      <th>134309</th>\n",
       "      <td>ZEREGA AV</td>\n",
       "      <td>2019-12-26</td>\n",
       "      <td>2371.0</td>\n",
       "    </tr>\n",
       "    <tr>\n",
       "      <th>134310</th>\n",
       "      <td>ZEREGA AV</td>\n",
       "      <td>2019-12-27</td>\n",
       "      <td>1201.0</td>\n",
       "    </tr>\n",
       "  </tbody>\n",
       "</table>\n",
       "<p>134311 rows × 3 columns</p>\n",
       "</div>"
      ],
      "text/plain": [
       "          STATION DATETIME_DATE  DAILY_ENTRIES\n",
       "0            1 AV    2018-12-30        14118.0\n",
       "1            1 AV    2018-12-31        12737.0\n",
       "2            1 AV    2019-01-01        12257.0\n",
       "3            1 AV    2019-01-02        12102.0\n",
       "4            1 AV    2019-01-03        16355.0\n",
       "...           ...           ...            ...\n",
       "134306  ZEREGA AV    2019-12-23         1877.0\n",
       "134307  ZEREGA AV    2019-12-24         2994.0\n",
       "134308  ZEREGA AV    2019-12-25          602.0\n",
       "134309  ZEREGA AV    2019-12-26         2371.0\n",
       "134310  ZEREGA AV    2019-12-27         1201.0\n",
       "\n",
       "[134311 rows x 3 columns]"
      ]
     },
     "execution_count": 72,
     "metadata": {},
     "output_type": "execute_result"
    }
   ],
   "source": [
    "concat_df_station_daily_entries"
   ]
  },
  {
   "cell_type": "markdown",
   "metadata": {},
   "source": [
    "Calculating the coresponding day of the week for each DATETIME_DATE entry in data frame concat_df_station_daily_entries"
   ]
  },
  {
   "cell_type": "code",
   "execution_count": 73,
   "metadata": {
    "execution": {
     "iopub.execute_input": "2021-01-08T19:21:40.713045Z",
     "iopub.status.busy": "2021-01-08T19:21:40.712907Z",
     "iopub.status.idle": "2021-01-08T19:21:40.716145Z",
     "shell.execute_reply": "2021-01-08T19:21:40.715713Z",
     "shell.execute_reply.started": "2021-01-08T19:21:40.713029Z"
    }
   },
   "outputs": [
    {
     "data": {
      "text/plain": [
       "datetime.date"
      ]
     },
     "execution_count": 73,
     "metadata": {},
     "output_type": "execute_result"
    }
   ],
   "source": [
    "type(concat_df_station_daily_entries.iloc[0,1])"
   ]
  },
  {
   "cell_type": "code",
   "execution_count": 74,
   "metadata": {
    "execution": {
     "iopub.execute_input": "2021-01-08T19:21:40.717243Z",
     "iopub.status.busy": "2021-01-08T19:21:40.717091Z",
     "iopub.status.idle": "2021-01-08T19:21:41.419236Z",
     "shell.execute_reply": "2021-01-08T19:21:41.418727Z",
     "shell.execute_reply.started": "2021-01-08T19:21:40.717225Z"
    }
   },
   "outputs": [],
   "source": [
    "#\n",
    "# Can't call datetime.day_name() directly on the DATETIME_DATE field as it's not the correct data type. So converted it back to a datetime object first by calling\n",
    "# pandas.to_datetime() on it\n",
    "#DATETIME_DATE\n",
    "#DATETIME_DATE\n",
    "#concat_df_station_daily_entries[\"DAY_OF_WEEK\"] = pd.to_datetime(concat_df_station_daily_entries[\"DATETIME_DATE\"].astype(str)).dt.day_name()\n",
    "#concat_df_station_daily_entries[\"DATE_TIME\"] = pd.to_datetime(concat_df_station_daily_entries[\"DATETIME_DATE\"].astype(str))\n",
    "\n",
    "def get_day_name(row):\n",
    "    DAYS_OF_THE_WEEK = [\"Monday\",\"Tuesday\",\"Wednesday\",\"Thursday\",\"Friday\",\"Saturday\",\"Sunday\"]\n",
    "    day_name_ordinal_numb = row[\"DATETIME_DATE\"].weekday()\n",
    "    return DAYS_OF_THE_WEEK[day_name_ordinal_numb]\n",
    "\n",
    "concat_df_station_daily_entries[\"DAY_OF_WEEK\"] = concat_df_station_daily_entries.apply(get_day_name, axis=1)"
   ]
  },
  {
   "cell_type": "code",
   "execution_count": 75,
   "metadata": {
    "execution": {
     "iopub.execute_input": "2021-01-08T19:21:41.420201Z",
     "iopub.status.busy": "2021-01-08T19:21:41.420066Z",
     "iopub.status.idle": "2021-01-08T19:21:41.438222Z",
     "shell.execute_reply": "2021-01-08T19:21:41.437611Z",
     "shell.execute_reply.started": "2021-01-08T19:21:41.420183Z"
    }
   },
   "outputs": [
    {
     "data": {
      "text/html": [
       "<div>\n",
       "<style scoped>\n",
       "    .dataframe tbody tr th:only-of-type {\n",
       "        vertical-align: middle;\n",
       "    }\n",
       "\n",
       "    .dataframe tbody tr th {\n",
       "        vertical-align: top;\n",
       "    }\n",
       "\n",
       "    .dataframe thead th {\n",
       "        text-align: right;\n",
       "    }\n",
       "</style>\n",
       "<table border=\"1\" class=\"dataframe\">\n",
       "  <thead>\n",
       "    <tr style=\"text-align: right;\">\n",
       "      <th></th>\n",
       "      <th>STATION</th>\n",
       "      <th>DATETIME_DATE</th>\n",
       "      <th>DAILY_ENTRIES</th>\n",
       "      <th>DAY_OF_WEEK</th>\n",
       "    </tr>\n",
       "  </thead>\n",
       "  <tbody>\n",
       "    <tr>\n",
       "      <th>13168</th>\n",
       "      <td>191 ST</td>\n",
       "      <td>2018-12-30</td>\n",
       "      <td>7248.0</td>\n",
       "      <td>Sunday</td>\n",
       "    </tr>\n",
       "    <tr>\n",
       "      <th>13169</th>\n",
       "      <td>191 ST</td>\n",
       "      <td>2018-12-31</td>\n",
       "      <td>3879.0</td>\n",
       "      <td>Monday</td>\n",
       "    </tr>\n",
       "    <tr>\n",
       "      <th>13170</th>\n",
       "      <td>191 ST</td>\n",
       "      <td>2019-01-01</td>\n",
       "      <td>6194.0</td>\n",
       "      <td>Tuesday</td>\n",
       "    </tr>\n",
       "    <tr>\n",
       "      <th>13171</th>\n",
       "      <td>191 ST</td>\n",
       "      <td>2019-01-02</td>\n",
       "      <td>8701.0</td>\n",
       "      <td>Wednesday</td>\n",
       "    </tr>\n",
       "    <tr>\n",
       "      <th>13172</th>\n",
       "      <td>191 ST</td>\n",
       "      <td>2019-01-03</td>\n",
       "      <td>6076.0</td>\n",
       "      <td>Thursday</td>\n",
       "    </tr>\n",
       "    <tr>\n",
       "      <th>13173</th>\n",
       "      <td>191 ST</td>\n",
       "      <td>2019-01-04</td>\n",
       "      <td>4018.0</td>\n",
       "      <td>Friday</td>\n",
       "    </tr>\n",
       "    <tr>\n",
       "      <th>13174</th>\n",
       "      <td>191 ST</td>\n",
       "      <td>2019-01-05</td>\n",
       "      <td>7778.0</td>\n",
       "      <td>Saturday</td>\n",
       "    </tr>\n",
       "    <tr>\n",
       "      <th>13175</th>\n",
       "      <td>191 ST</td>\n",
       "      <td>2019-01-06</td>\n",
       "      <td>5472.0</td>\n",
       "      <td>Sunday</td>\n",
       "    </tr>\n",
       "    <tr>\n",
       "      <th>13176</th>\n",
       "      <td>191 ST</td>\n",
       "      <td>2019-01-07</td>\n",
       "      <td>4672.0</td>\n",
       "      <td>Monday</td>\n",
       "    </tr>\n",
       "    <tr>\n",
       "      <th>13177</th>\n",
       "      <td>191 ST</td>\n",
       "      <td>2019-01-08</td>\n",
       "      <td>4475.0</td>\n",
       "      <td>Tuesday</td>\n",
       "    </tr>\n",
       "    <tr>\n",
       "      <th>13178</th>\n",
       "      <td>191 ST</td>\n",
       "      <td>2019-01-09</td>\n",
       "      <td>12728.0</td>\n",
       "      <td>Wednesday</td>\n",
       "    </tr>\n",
       "    <tr>\n",
       "      <th>13179</th>\n",
       "      <td>191 ST</td>\n",
       "      <td>2019-01-10</td>\n",
       "      <td>10495.0</td>\n",
       "      <td>Thursday</td>\n",
       "    </tr>\n",
       "    <tr>\n",
       "      <th>13180</th>\n",
       "      <td>191 ST</td>\n",
       "      <td>2019-01-11</td>\n",
       "      <td>7688.0</td>\n",
       "      <td>Friday</td>\n",
       "    </tr>\n",
       "    <tr>\n",
       "      <th>13181</th>\n",
       "      <td>191 ST</td>\n",
       "      <td>2019-01-12</td>\n",
       "      <td>2309.0</td>\n",
       "      <td>Saturday</td>\n",
       "    </tr>\n",
       "  </tbody>\n",
       "</table>\n",
       "</div>"
      ],
      "text/plain": [
       "      STATION DATETIME_DATE  DAILY_ENTRIES DAY_OF_WEEK\n",
       "13168  191 ST    2018-12-30         7248.0      Sunday\n",
       "13169  191 ST    2018-12-31         3879.0      Monday\n",
       "13170  191 ST    2019-01-01         6194.0     Tuesday\n",
       "13171  191 ST    2019-01-02         8701.0   Wednesday\n",
       "13172  191 ST    2019-01-03         6076.0    Thursday\n",
       "13173  191 ST    2019-01-04         4018.0      Friday\n",
       "13174  191 ST    2019-01-05         7778.0    Saturday\n",
       "13175  191 ST    2019-01-06         5472.0      Sunday\n",
       "13176  191 ST    2019-01-07         4672.0      Monday\n",
       "13177  191 ST    2019-01-08         4475.0     Tuesday\n",
       "13178  191 ST    2019-01-09        12728.0   Wednesday\n",
       "13179  191 ST    2019-01-10        10495.0    Thursday\n",
       "13180  191 ST    2019-01-11         7688.0      Friday\n",
       "13181  191 ST    2019-01-12         2309.0    Saturday"
      ]
     },
     "execution_count": 75,
     "metadata": {},
     "output_type": "execute_result"
    }
   ],
   "source": [
    "concat_df_station_daily_entries[concat_df_station_daily_entries.STATION==\"191 ST\"].head(14)"
   ]
  },
  {
   "cell_type": "markdown",
   "metadata": {},
   "source": [
    "Want to know what stations are in the data frame:"
   ]
  },
  {
   "cell_type": "code",
   "execution_count": 76,
   "metadata": {
    "execution": {
     "iopub.execute_input": "2021-01-08T19:21:41.439429Z",
     "iopub.status.busy": "2021-01-08T19:21:41.439257Z",
     "iopub.status.idle": "2021-01-08T19:21:41.448992Z",
     "shell.execute_reply": "2021-01-08T19:21:41.448411Z",
     "shell.execute_reply.started": "2021-01-08T19:21:41.439409Z"
    }
   },
   "outputs": [
    {
     "data": {
      "text/plain": [
       "array(['1 AV', '103 ST', '103 ST-CORONA', '104 ST', '110 ST', '111 ST',\n",
       "       '116 ST', '116 ST-COLUMBIA', '121 ST', '125 ST', '135 ST',\n",
       "       '137 ST CITY COL', '138/GRAND CONC', '14 ST', '14 ST-UNION SQ',\n",
       "       '145 ST', '149/GRAND CONC', '14TH STREET', '15 ST-PROSPECT',\n",
       "       '155 ST', '157 ST', '161/YANKEE STAD', '163 ST-AMSTERDM', '167 ST',\n",
       "       '168 ST', '169 ST', '170 ST', '174 ST', '174-175 STS', '175 ST',\n",
       "       '176 ST', '18 AV', '18 ST', '181 ST', '182-183 STS', '183 ST',\n",
       "       '190 ST', '191 ST', '2 AV', '20 AV', '207 ST', '21 ST',\n",
       "       '21 ST-QNSBRIDGE', '215 ST', '219 ST', '225 ST', '23 ST', '231 ST',\n",
       "       '233 ST', '238 ST', '25 AV', '25 ST', '28 ST', '3 AV',\n",
       "       '3 AV 138 ST', '3 AV-149 ST', '30 AV', '33 ST', '33 ST-RAWSON ST',\n",
       "       '34 ST-HERALD SQ', '34 ST-HUDSON YD', '34 ST-PENN STA', '36 AV',\n",
       "       '36 ST', '39 AV', '4 AV-9 ST', '40 ST LOWERY ST',\n",
       "       '42 ST-BRYANT PK', '42 ST-PORT AUTH', '45 ST', '46 ST',\n",
       "       '46 ST BLISS ST', '47-50 STS ROCK', '49 ST', '4AV-9 ST',\n",
       "       '5 AV/53 ST', '5 AV/59 ST', '5 AVE', '50 ST', '51 ST', '52 ST',\n",
       "       '53 ST', '55 ST', '57 ST', '57 ST-7 AV', '59 ST', '59 ST COLUMBUS',\n",
       "       '6 AV', '61 ST WOODSIDE', '63 DR-REGO PARK', '65 ST',\n",
       "       '66 ST-LINCOLN', '67 AV', '68ST-HUNTER CO', '69 ST', '7 AV',\n",
       "       '71 ST', '72 ST', '72 ST-2 AVE', '74 ST-BROADWAY', '75 AV',\n",
       "       '75 ST-ELDERTS', '77 ST', '79 ST', '8 AV', '8 ST-NYU', '80 ST',\n",
       "       '81 ST-MUSEUM', '82 ST-JACKSON H', '85 ST-FOREST PK', '86 ST',\n",
       "       '86 ST-2 AVE', '88 ST', '9 AV', '90 ST-ELMHURST', '96 ST',\n",
       "       '96 ST-2 AVE', '9TH STREET', 'ALABAMA AV', 'ALLERTON AV',\n",
       "       'AQUEDUCT N.COND', 'AQUEDUCT RACETR', 'ASTOR PL', 'ASTORIA BLVD',\n",
       "       'ASTORIA DITMARS', 'ATL AV-BARCLAY', 'ATLANTIC AV', 'AVENUE H',\n",
       "       'AVENUE I', 'AVENUE J', 'AVENUE M', 'AVENUE N', 'AVENUE P',\n",
       "       'AVENUE U', 'AVENUE X', \"B'WAY-LAFAYETTE\", 'BAY 50 ST', 'BAY PKWY',\n",
       "       'BAY RIDGE AV', 'BAY RIDGE-95 ST', 'BAYCHESTER AV', 'BEACH 105 ST',\n",
       "       'BEACH 25 ST', 'BEACH 36 ST', 'BEACH 44 ST', 'BEACH 60 ST',\n",
       "       'BEACH 67 ST', 'BEACH 90 ST', 'BEACH 98 ST', 'BEDFORD AV',\n",
       "       'BEDFORD PK BLVD', 'BEDFORD-NOSTRAN', 'BERGEN ST', 'BEVERLEY ROAD',\n",
       "       'BEVERLY RD', 'BLEECKER ST', 'BOROUGH HALL', 'BOTANIC GARDEN',\n",
       "       'BOWERY', 'BOWLING GREEN', 'BRIARWOOD', 'BRIGHTON BEACH',\n",
       "       'BROAD CHANNEL', 'BROAD ST', 'BROADWAY', 'BROADWAY JCT',\n",
       "       'BRONX PARK EAST', 'BROOK AV', 'BROOKLYN BRIDGE', 'BUHRE AV',\n",
       "       'BURKE AV', 'BURNSIDE AV', 'BUSHWICK AV', 'CANAL ST',\n",
       "       'CANARSIE-ROCKAW', 'CARROLL ST', 'CASTLE HILL AV',\n",
       "       'CATHEDRAL PKWY', 'CENTRAL AV', 'CENTRAL PK N110', 'CHAMBERS ST',\n",
       "       'CHAUNCEY ST', 'CHRISTOPHER ST', 'CHURCH AV', 'CITY / BUS',\n",
       "       'CITY HALL', 'CLARK ST', 'CLASSON AV', 'CLEVELAND ST',\n",
       "       'CLINTON-WASH AV', 'CONEY IS-STILLW', 'CORTELYOU RD',\n",
       "       'CORTLANDT ST', 'COURT SQ', 'COURT SQ-23 ST', 'CRESCENT ST',\n",
       "       'CROWN HTS-UTICA', 'CYPRESS AV', 'CYPRESS HILLS', 'DEKALB AV',\n",
       "       'DELANCEY/ESSEX', 'DITMAS AV', 'DYCKMAN ST', \"E 143/ST MARY'S\",\n",
       "       'E 149 ST', 'E 180 ST', 'EAST 105 ST', 'EAST BROADWAY',\n",
       "       'EASTCHSTER/DYRE', 'EASTN PKWY-MUSM', 'ELDER AV', 'ELMHURST AV',\n",
       "       'EUCLID AV', 'EXCHANGE PLACE', 'FAR ROCKAWAY', 'FLATBUSH AV-B.C',\n",
       "       'FLUSHING AV', 'FLUSHING-MAIN', 'FORDHAM RD', 'FOREST AVE',\n",
       "       'FOREST HILLS 71', 'FRANKLIN AV', 'FRANKLIN ST', 'FREEMAN ST',\n",
       "       'FRESH POND RD', 'FT HAMILTON PKY', 'FULTON ST', 'GATES AV',\n",
       "       'GRAHAM AV', 'GRAND ARMY PLAZ', 'GRAND ST', 'GRAND-NEWTOWN',\n",
       "       'GRANT AV', 'GRD CNTRL-42 ST', 'GREENPOINT AV', 'GROVE STREET',\n",
       "       'GUN HILL RD', 'HALSEY ST', 'HARLEM 148 ST', 'HARRISON',\n",
       "       'HEWES ST', 'HIGH ST', 'HOUSTON ST', 'HOWARD BCH JFK', 'HOYT ST',\n",
       "       'HOYT-SCHER', 'HUNTERS PT AV', 'HUNTS POINT AV', 'INTERVALE AV',\n",
       "       'INWOOD-207 ST', 'JACKSON AV', 'JAMAICA 179 ST', 'JAMAICA CENTER',\n",
       "       'JAMAICA VAN WK', 'JAY ST-METROTEC', 'JEFFERSON ST',\n",
       "       'JFK JAMAICA CT1', 'JKSN HT-ROOSVLT', 'JOURNAL SQUARE',\n",
       "       'JUNCTION BLVD', 'JUNIUS ST', 'KEW GARDENS', 'KINGS HWY',\n",
       "       'KINGSBRIDGE RD', 'KINGSTON AV', 'KINGSTON-THROOP',\n",
       "       'KNICKERBOCKER', 'KOSCIUSZKO ST', 'LACKAWANNA', 'LAFAYETTE AV',\n",
       "       'LEXINGTON AV/53', 'LEXINGTON AV/63', 'LIBERTY AV', 'LIVONIA AV',\n",
       "       'LONGWOOD AV', 'LORIMER ST', 'MARBLE HILL-225', 'MARCY AV',\n",
       "       'METROPOLITAN AV', 'METS-WILLETS PT', 'MIDDLETOWN RD',\n",
       "       'MONTROSE AV', 'MORGAN AV', 'MORISN AV/SNDVW', 'MORRIS PARK',\n",
       "       'MOSHOLU PKWY', 'MT EDEN AV', 'MYRTLE AV', 'MYRTLE-WILLOUGH',\n",
       "       'MYRTLE-WYCKOFF', 'NASSAU AV', 'NECK RD', 'NEPTUNE AV',\n",
       "       'NEREID AV', 'NEVINS ST', 'NEW LOTS', 'NEW LOTS AV',\n",
       "       'NEW UTRECHT AV', 'NEWARK BM BW', 'NEWARK C', 'NEWARK HM HE',\n",
       "       'NEWARK HW BMEBE', 'NEWKIRK AV', 'NEWKIRK PLAZA', 'NORTHERN BLVD',\n",
       "       'NORWOOD 205 ST', 'NORWOOD AV', 'NOSTRAND AV', 'OCEAN PKWY',\n",
       "       'ORCHARD BEACH', 'OZONE PK LEFFRT', 'PARK PLACE', 'PARKCHESTER',\n",
       "       'PARKSIDE AV', 'PARSONS BLVD', 'PATH NEW WTC', 'PATH WTC 2',\n",
       "       'PAVONIA/NEWPORT', 'PELHAM BAY PARK', 'PELHAM PKWY',\n",
       "       'PENNSYLVANIA AV', 'PRESIDENT ST', 'PRINCE ST', 'PROSPECT AV',\n",
       "       'PROSPECT PARK', 'QUEENS PLAZA', 'QUEENSBORO PLZ', 'RALPH AV',\n",
       "       'RECTOR ST', 'RIT-MANHATTAN', 'RIT-ROOSEVELT', 'ROCKAWAY AV',\n",
       "       'ROCKAWAY BLVD', 'ROCKAWAY PARK B', 'ROOSEVELT ISLND',\n",
       "       'SARATOGA AV', 'SENECA AVE', 'SHEEPSHEAD BAY', 'SHEPHERD AV',\n",
       "       'SIMPSON ST', 'SMITH-9 ST', 'SOUTH FERRY', 'SPRING ST',\n",
       "       'ST LAWRENCE AV', 'ST. GEORGE', 'STEINWAY ST', 'STERLING ST',\n",
       "       'SUTPHIN BLVD', 'SUTPHIN-ARCHER', 'SUTTER AV', 'SUTTER AV-RUTLD',\n",
       "       'THIRTY ST', 'THIRTY THIRD ST', 'TIMES SQ-42 ST', 'TOMPKINSVILLE',\n",
       "       'TREMONT AV', 'TWENTY THIRD ST', 'UNION ST', 'UTICA AV',\n",
       "       'V.CORTLANDT PK', 'VAN SICLEN AV', 'VAN SICLEN AVE',\n",
       "       'VERNON-JACKSON', 'W 4 ST-WASH SQ', 'W 8 ST-AQUARIUM',\n",
       "       'WAKEFIELD/241', 'WALL ST', 'WEST FARMS SQ', 'WESTCHESTER SQ',\n",
       "       'WHITEHALL S-FRY', 'WHITLOCK AV', 'WILSON AV', 'WINTHROP ST',\n",
       "       'WOODHAVEN BLVD', 'WOODLAWN', 'WORLD TRADE CTR', 'WTC-CORTLANDT',\n",
       "       'YORK ST', 'ZEREGA AV'], dtype=object)"
      ]
     },
     "execution_count": 76,
     "metadata": {},
     "output_type": "execute_result"
    }
   ],
   "source": [
    "concat_df_station_daily_entries.STATION.unique()"
   ]
  },
  {
   "cell_type": "code",
   "execution_count": 77,
   "metadata": {
    "execution": {
     "iopub.execute_input": "2021-01-08T19:21:41.450091Z",
     "iopub.status.busy": "2021-01-08T19:21:41.449931Z",
     "iopub.status.idle": "2021-01-08T19:21:41.453185Z",
     "shell.execute_reply": "2021-01-08T19:21:41.452694Z",
     "shell.execute_reply.started": "2021-01-08T19:21:41.450073Z"
    }
   },
   "outputs": [
    {
     "data": {
      "text/plain": [
       "str"
      ]
     },
     "execution_count": 77,
     "metadata": {},
     "output_type": "execute_result"
    }
   ],
   "source": [
    "type(concat_df_station_daily_entries.iloc[0,3])"
   ]
  },
  {
   "cell_type": "code",
   "execution_count": 78,
   "metadata": {
    "execution": {
     "iopub.execute_input": "2021-01-08T19:21:41.454065Z",
     "iopub.status.busy": "2021-01-08T19:21:41.453927Z",
     "iopub.status.idle": "2021-01-08T19:21:41.993397Z",
     "shell.execute_reply": "2021-01-08T19:21:41.992969Z",
     "shell.execute_reply.started": "2021-01-08T19:21:41.454047Z"
    }
   },
   "outputs": [
    {
     "name": "stderr",
     "output_type": "stream",
     "text": [
      "/Users/magreen/Anaconda3-2020_07/envs/tensorflow_in_practice/lib/python3.8/site-packages/numpy/core/_asarray.py:136: VisibleDeprecationWarning: Creating an ndarray from ragged nested sequences (which is a list-or-tuple of lists-or-tuples-or ndarrays with different lengths or shapes) is deprecated. If you meant to do this, you must specify 'dtype=object' when creating the ndarray\n",
      "  return array(a, dtype, copy=False, order=order, subok=True)\n"
     ]
    },
    {
     "data": {
      "image/png": "[encoded data removed]",
      "text/plain": [
       "<Figure size 1440x432 with 1 Axes>"
      ]
     },
     "metadata": {
      "needs_background": "light"
     },
     "output_type": "display_data"
    }
   ],
   "source": [
    "#plotting `DAILY_ENTRIES` values for each day of the week (from Sunday to Saturday)\n",
    "#for a single station\n",
    "#will plot this data for three separate weeks\n",
    "STATION_NAME = \"191 ST\"\n",
    "\n",
    "#NOTE START_DATE date must fall on a SUNDAY\n",
    "START_DATE = pd.Timestamp(year=2019, month=6, day=9)\n",
    "\n",
    "current_date = START_DATE\n",
    "\n",
    "DAYS_OF_THE_WEEK = [\"Sunday\",\"Monday\",\"Tuesday\",\"Wednesday\",\"Thursday\",\"Friday\",\"Saturday\"]\n",
    "\n",
    "NUMBER_OF_WEEKS = 3\n",
    "\n",
    "Week_Names = []\n",
    "\n",
    "#starting plot\n",
    "plt.figure(figsize=(20,6))\n",
    "plt.title(\"Daily Entries for Station {} starting on {}\".format(STATION_NAME,START_DATE))\n",
    "\n",
    "for j in range(NUMBER_OF_WEEKS):\n",
    "    \n",
    "    daily_entries_for_day_of_the_week = []\n",
    "   \n",
    "    for i in range(len(DAYS_OF_THE_WEEK)):\n",
    "\n",
    "        mymask = (concat_df_station_daily_entries.STATION == STATION_NAME) & (concat_df_station_daily_entries.DATETIME_DATE == current_date)\n",
    "    \n",
    "        #sometimes a day of the week isn't reported. assuming that means there were 0 riders that day\n",
    "        if concat_df_station_daily_entries[mymask][\"DAILY_ENTRIES\"].empty:\n",
    "            temp_daily_entries = 0\n",
    "        else:\n",
    "            temp_daily_entries = concat_df_station_daily_entries[mymask][\"DAILY_ENTRIES\"]\n",
    "    \n",
    "        daily_entries_for_day_of_the_week.append(temp_daily_entries)\n",
    "    \n",
    "        current_date = current_date + datetime.timedelta(days=1)\n",
    "\n",
    "    #print(\"len of daily_entries_for_day_of_the_week is {}\".format(len(daily_entries_for_day_of_the_week)))\n",
    "    #plot what I have\n",
    "    plt.plot(DAYS_OF_THE_WEEK,daily_entries_for_day_of_the_week)\n",
    "    Week_Names.append( \"Week {}\".format(j+1)  )\n",
    "    \n",
    "\n",
    "plt.xlabel(\"Day of the Week\")\n",
    "plt.ylabel(\"Daily Entries\")\n",
    "plt.legend(Week_Names)\n",
    "plt.savefig(\"net_daily_entries_for_station_191ST_WeekOf_06092019.png\")\n",
    "plt.show();\n"
   ]
  },
  {
   "cell_type": "markdown",
   "metadata": {},
   "source": [
    "# Challenge 9\n",
    "Over multiple weeks, sum total ridership for each station and sort them, so you can find out the stations with the highest traffic during the time you investigate"
   ]
  },
  {
   "cell_type": "code",
   "execution_count": null,
   "metadata": {},
   "outputs": [],
   "source": [
    "concat_df_station_daily_entries.groupby([\"STATION\"])[\"DAILY_ENTRIES\"].sum().reset_index().sort_values([\"DAILY_ENTRIES\"], ascending=False)"
   ]
  },
  {
   "cell_type": "markdown",
   "metadata": {},
   "source": [
    "# Challenge 10\n",
    "* Make a single list of these total ridership values and plot it with\n",
    "\n",
    "    `plt.hist(total_ridership_counts)`\n",
    "    \n",
    "to get an idea about the distribution of total ridership among different stations.\n",
    "\n",
    "This should show you that most stations have a small traffic, and the histogram bins for large traffic volumes have small bars.\n",
    "\n",
    "_Additional Hint_:\n",
    "\n",
    "If you want to see which stations take the meat of the traffic, you can sort the total ridership counts and make a plt.bar graph. For this, you want to have two lists: the indices of each bar, and the values. The indices can just be 0,1,2,3,..., so you can do:\n",
    "\n",
    "```python\n",
    "indices = range(len(total_ridership_values))\n",
    "plt.bar(indices, total_ridership_values)\n",
    "```"
   ]
  },
  {
   "cell_type": "code",
   "execution_count": null,
   "metadata": {},
   "outputs": [],
   "source": [
    "concat_df_station_total_entries = concat_df_station_daily_entries.groupby([\"STATION\"])[\"DAILY_ENTRIES\"].sum()\\\n",
    "    .reset_index()\\\n",
    "    .sort_values([\"DAILY_ENTRIES\"], ascending=False)"
   ]
  },
  {
   "cell_type": "code",
   "execution_count": null,
   "metadata": {},
   "outputs": [],
   "source": [
    "concat_df_station_total_entries.head()"
   ]
  },
  {
   "cell_type": "code",
   "execution_count": null,
   "metadata": {},
   "outputs": [],
   "source": [
    "plt.figure(figsize=(10,10))\n",
    "plt.hist(concat_df_station_daily_entries.groupby([\"STATION\"])[\"DAILY_ENTRIES\"].sum(), 75)\n",
    "plt.ylabel(\"Number of stations\")\n",
    "plt.xlabel(xlabel=\"Number of entries to those station\");"
   ]
  },
  {
   "cell_type": "code",
   "execution_count": null,
   "metadata": {},
   "outputs": [],
   "source": [
    "plt.figure(figsize=(10,10))\n",
    "myindices = range(len(concat_df_station_total_entries))\n",
    "plt.xlabel(\"Index of Station\")\n",
    "plt.ylabel(\"Grand Total Entries in Dataset\")\n",
    "plt.bar(myindices,concat_df_station_total_entries.DAILY_ENTRIES);"
   ]
  },
  {
   "cell_type": "markdown",
   "metadata": {},
   "source": [
    "Checking to see if the values in the data frame make sense with respect to the graphs above."
   ]
  },
  {
   "cell_type": "code",
   "execution_count": null,
   "metadata": {},
   "outputs": [],
   "source": [
    "concat_df_station_total_entries.iloc[0]"
   ]
  },
  {
   "cell_type": "code",
   "execution_count": null,
   "metadata": {},
   "outputs": [],
   "source": [
    "concat_df_station_total_entries.iloc[250]"
   ]
  },
  {
   "cell_type": "markdown",
   "metadata": {},
   "source": [
    "### I think they do."
   ]
  },
  {
   "cell_type": "code",
   "execution_count": null,
   "metadata": {},
   "outputs": [],
   "source": []
  }
 ],
 "metadata": {
  "kernelspec": {
   "display_name": "Python 3",
   "language": "python",
   "name": "python3"
  },
  "language_info": {
   "codemirror_mode": {
    "name": "ipython",
    "version": 3
   },
   "file_extension": ".py",
   "mimetype": "text/x-python",
   "name": "python",
   "nbconvert_exporter": "python",
   "pygments_lexer": "ipython3",
   "version": "3.8.3"
  }
 },
 "nbformat": 4,
 "nbformat_minor": 4
}
